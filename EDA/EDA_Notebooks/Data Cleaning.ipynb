{
 "cells": [
  {
   "cell_type": "code",
   "execution_count": 1,
   "id": "c754a13b",
   "metadata": {},
   "outputs": [],
   "source": [
    "import pandas as pd"
   ]
  },
  {
   "cell_type": "code",
   "execution_count": 2,
   "id": "6fbefd1b",
   "metadata": {},
   "outputs": [],
   "source": [
    "df=pd.read_excel(r\"C:\\Users\\Masood\\Downloads\\COVID VACCINATION.xlsx\")"
   ]
  },
  {
   "cell_type": "code",
   "execution_count": 3,
   "id": "4f8e6970",
   "metadata": {},
   "outputs": [
    {
     "name": "stdout",
     "output_type": "stream",
     "text": [
      "Index(['location', 'iso_code', 'date', 'total_vaccinations',\n",
      "       'people_vaccinated', 'people_fully_vaccinated', 'total_boosters',\n",
      "       'daily_vaccinations_raw', 'daily_vaccinations',\n",
      "       'total_vaccinations_per_hundred', 'people_vaccinated_per_hundred',\n",
      "       'people_fully_vaccinated_per_hundred', 'total_boosters_per_hundred',\n",
      "       'daily_vaccinations_per_million'],\n",
      "      dtype='object')\n"
     ]
    }
   ],
   "source": [
    "print(df.columns)"
   ]
  },
  {
   "cell_type": "code",
   "execution_count": 8,
   "id": "602306b9",
   "metadata": {},
   "outputs": [
    {
     "name": "stdout",
     "output_type": "stream",
     "text": [
      "     location iso_code       date  total_vaccinations  people_vaccinated  \\\n",
      "0    Pakistan      PAK 2021-02-02                 0.0                0.0   \n",
      "1    Pakistan      PAK 2021-02-03                 NaN                NaN   \n",
      "2    Pakistan      PAK 2021-02-04                 NaN                NaN   \n",
      "3    Pakistan      PAK 2021-02-05                 NaN                NaN   \n",
      "4    Pakistan      PAK 2021-02-06                 NaN                NaN   \n",
      "..        ...      ...        ...                 ...                ...   \n",
      "259  Pakistan      PAK 2021-10-19                 NaN                NaN   \n",
      "260  Pakistan      PAK 2021-10-20          98607708.0         67580193.0   \n",
      "261  Pakistan      PAK 2021-10-21          99335067.0         67956040.0   \n",
      "262  Pakistan      PAK 2021-10-22                 NaN                NaN   \n",
      "263  Pakistan      PAK 2021-10-23         100741762.0         68666464.0   \n",
      "\n",
      "     people_fully_vaccinated  daily_vaccinations_raw  daily_vaccinations  \\\n",
      "0                        NaN                     NaN                 NaN   \n",
      "1                        NaN                     NaN              3404.0   \n",
      "2                        NaN                     NaN              3404.0   \n",
      "3                        NaN                     NaN              3404.0   \n",
      "4                        NaN                     NaN              3404.0   \n",
      "..                       ...                     ...                 ...   \n",
      "259                      NaN                     NaN            632064.0   \n",
      "260               37468751.0                     NaN            632064.0   \n",
      "261               37855681.0                727359.0            645678.0   \n",
      "262                      NaN                     NaN            655861.0   \n",
      "263               38596890.0                     NaN            666044.0   \n",
      "\n",
      "     total_vaccinations_per_hundred  people_vaccinated_per_hundred  \\\n",
      "0                              0.00                           0.00   \n",
      "1                               NaN                            NaN   \n",
      "2                               NaN                            NaN   \n",
      "3                               NaN                            NaN   \n",
      "4                               NaN                            NaN   \n",
      "..                              ...                            ...   \n",
      "259                             NaN                            NaN   \n",
      "260                           43.79                          30.01   \n",
      "261                           44.11                          30.18   \n",
      "262                             NaN                            NaN   \n",
      "263                           44.73                          30.49   \n",
      "\n",
      "     people_fully_vaccinated_per_hundred  daily_vaccinations_per_million  \n",
      "0                                    NaN                             NaN  \n",
      "1                                    NaN                            15.0  \n",
      "2                                    NaN                            15.0  \n",
      "3                                    NaN                            15.0  \n",
      "4                                    NaN                            15.0  \n",
      "..                                   ...                             ...  \n",
      "259                                  NaN                          2807.0  \n",
      "260                                16.64                          2807.0  \n",
      "261                                16.81                          2867.0  \n",
      "262                                  NaN                          2912.0  \n",
      "263                                17.14                          2958.0  \n",
      "\n",
      "[264 rows x 12 columns]\n"
     ]
    }
   ],
   "source": [
    "#To remove the Column that have no value\n",
    "df=df.drop(['total_boosters','total_boosters_per_hundred'],axis=1)"
   ]
  },
  {
   "cell_type": "code",
   "execution_count": 10,
   "id": "3f42a869",
   "metadata": {},
   "outputs": [],
   "source": [
    "df.to_csv(\"Covid Vaccination DataSet Cleaned\")"
   ]
  },
  {
   "cell_type": "code",
   "execution_count": null,
   "id": "a5f03492",
   "metadata": {},
   "outputs": [],
   "source": []
  }
 ],
 "metadata": {
  "kernelspec": {
   "display_name": "Python 3",
   "language": "python",
   "name": "python3"
  },
  "language_info": {
   "codemirror_mode": {
    "name": "ipython",
    "version": 3
   },
   "file_extension": ".py",
   "mimetype": "text/x-python",
   "name": "python",
   "nbconvert_exporter": "python",
   "pygments_lexer": "ipython3",
   "version": "3.8.8"
  }
 },
 "nbformat": 4,
 "nbformat_minor": 5
}
