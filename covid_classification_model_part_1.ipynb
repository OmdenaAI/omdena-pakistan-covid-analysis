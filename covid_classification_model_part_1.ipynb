{
  "nbformat": 4,
  "nbformat_minor": 0,
  "metadata": {
    "kernelspec": {
      "language": "python",
      "display_name": "Python 3",
      "name": "python3"
    },
    "language_info": {
      "name": "python",
      "version": "3.7.10",
      "mimetype": "text/x-python",
      "codemirror_mode": {
        "name": "ipython",
        "version": 3
      },
      "pygments_lexer": "ipython3",
      "nbconvert_exporter": "python",
      "file_extension": ".py"
    },
    "colab": {
      "name": "covid_classification_model_part-1.ipynb",
      "provenance": [],
      "collapsed_sections": []
    },
    "accelerator": "GPU",
    "widgets": {
      "application/vnd.jupyter.widget-state+json": {
        "b0b19394c34a49a996f65cc40211ac08": {
          "model_module": "@jupyter-widgets/controls",
          "model_name": "VBoxModel",
          "model_module_version": "1.5.0",
          "state": {
            "_view_name": "VBoxView",
            "_dom_classes": [],
            "_model_name": "VBoxModel",
            "_view_module": "@jupyter-widgets/controls",
            "_model_module_version": "1.5.0",
            "_view_count": null,
            "_view_module_version": "1.5.0",
            "box_style": "",
            "layout": "IPY_MODEL_1eab3ab9f60b4f2b8ad13eafb76f92b7",
            "_model_module": "@jupyter-widgets/controls",
            "children": [
              "IPY_MODEL_8f5ad4ee5640436fb7e17c450f46b330",
              "IPY_MODEL_c161eb19c0a94d3486ee86a7efe0d4bb"
            ]
          }
        },
        "1eab3ab9f60b4f2b8ad13eafb76f92b7": {
          "model_module": "@jupyter-widgets/base",
          "model_name": "LayoutModel",
          "model_module_version": "1.2.0",
          "state": {
            "_view_name": "LayoutView",
            "grid_template_rows": null,
            "right": null,
            "justify_content": null,
            "_view_module": "@jupyter-widgets/base",
            "overflow": null,
            "_model_module_version": "1.2.0",
            "_view_count": null,
            "flex_flow": null,
            "width": null,
            "min_width": null,
            "border": null,
            "align_items": null,
            "bottom": null,
            "_model_module": "@jupyter-widgets/base",
            "top": null,
            "grid_column": null,
            "overflow_y": null,
            "overflow_x": null,
            "grid_auto_flow": null,
            "grid_area": null,
            "grid_template_columns": null,
            "flex": null,
            "_model_name": "LayoutModel",
            "justify_items": null,
            "grid_row": null,
            "max_height": null,
            "align_content": null,
            "visibility": null,
            "align_self": null,
            "height": null,
            "min_height": null,
            "padding": null,
            "grid_auto_rows": null,
            "grid_gap": null,
            "max_width": null,
            "order": null,
            "_view_module_version": "1.2.0",
            "grid_template_areas": null,
            "object_position": null,
            "object_fit": null,
            "grid_auto_columns": null,
            "margin": null,
            "display": null,
            "left": null
          }
        },
        "8f5ad4ee5640436fb7e17c450f46b330": {
          "model_module": "@jupyter-widgets/controls",
          "model_name": "LabelModel",
          "model_module_version": "1.5.0",
          "state": {
            "_view_name": "LabelView",
            "style": "IPY_MODEL_108d1539477c4e08bf80bf0d7171ab90",
            "_dom_classes": [],
            "description": "",
            "_model_name": "LabelModel",
            "placeholder": "​",
            "_view_module": "@jupyter-widgets/controls",
            "_model_module_version": "1.5.0",
            "value": " 6.06MB of 6.06MB uploaded (0.00MB deduped)\r",
            "_view_count": null,
            "_view_module_version": "1.5.0",
            "description_tooltip": null,
            "_model_module": "@jupyter-widgets/controls",
            "layout": "IPY_MODEL_b2199479f5d146f9b223860c2685fcb8"
          }
        },
        "c161eb19c0a94d3486ee86a7efe0d4bb": {
          "model_module": "@jupyter-widgets/controls",
          "model_name": "FloatProgressModel",
          "model_module_version": "1.5.0",
          "state": {
            "_view_name": "ProgressView",
            "style": "IPY_MODEL_9d584463f9634f2ba49432f26e120892",
            "_dom_classes": [],
            "description": "",
            "_model_name": "FloatProgressModel",
            "bar_style": "",
            "max": 1,
            "_view_module": "@jupyter-widgets/controls",
            "_model_module_version": "1.5.0",
            "value": 1,
            "_view_count": null,
            "_view_module_version": "1.5.0",
            "orientation": "horizontal",
            "min": 0,
            "description_tooltip": null,
            "_model_module": "@jupyter-widgets/controls",
            "layout": "IPY_MODEL_78a79756cc164ad1872a1260228ee178"
          }
        },
        "108d1539477c4e08bf80bf0d7171ab90": {
          "model_module": "@jupyter-widgets/controls",
          "model_name": "DescriptionStyleModel",
          "model_module_version": "1.5.0",
          "state": {
            "_view_name": "StyleView",
            "_model_name": "DescriptionStyleModel",
            "description_width": "",
            "_view_module": "@jupyter-widgets/base",
            "_model_module_version": "1.5.0",
            "_view_count": null,
            "_view_module_version": "1.2.0",
            "_model_module": "@jupyter-widgets/controls"
          }
        },
        "b2199479f5d146f9b223860c2685fcb8": {
          "model_module": "@jupyter-widgets/base",
          "model_name": "LayoutModel",
          "model_module_version": "1.2.0",
          "state": {
            "_view_name": "LayoutView",
            "grid_template_rows": null,
            "right": null,
            "justify_content": null,
            "_view_module": "@jupyter-widgets/base",
            "overflow": null,
            "_model_module_version": "1.2.0",
            "_view_count": null,
            "flex_flow": null,
            "width": null,
            "min_width": null,
            "border": null,
            "align_items": null,
            "bottom": null,
            "_model_module": "@jupyter-widgets/base",
            "top": null,
            "grid_column": null,
            "overflow_y": null,
            "overflow_x": null,
            "grid_auto_flow": null,
            "grid_area": null,
            "grid_template_columns": null,
            "flex": null,
            "_model_name": "LayoutModel",
            "justify_items": null,
            "grid_row": null,
            "max_height": null,
            "align_content": null,
            "visibility": null,
            "align_self": null,
            "height": null,
            "min_height": null,
            "padding": null,
            "grid_auto_rows": null,
            "grid_gap": null,
            "max_width": null,
            "order": null,
            "_view_module_version": "1.2.0",
            "grid_template_areas": null,
            "object_position": null,
            "object_fit": null,
            "grid_auto_columns": null,
            "margin": null,
            "display": null,
            "left": null
          }
        },
        "9d584463f9634f2ba49432f26e120892": {
          "model_module": "@jupyter-widgets/controls",
          "model_name": "ProgressStyleModel",
          "model_module_version": "1.5.0",
          "state": {
            "_view_name": "StyleView",
            "_model_name": "ProgressStyleModel",
            "description_width": "",
            "_view_module": "@jupyter-widgets/base",
            "_model_module_version": "1.5.0",
            "_view_count": null,
            "_view_module_version": "1.2.0",
            "bar_color": null,
            "_model_module": "@jupyter-widgets/controls"
          }
        },
        "78a79756cc164ad1872a1260228ee178": {
          "model_module": "@jupyter-widgets/base",
          "model_name": "LayoutModel",
          "model_module_version": "1.2.0",
          "state": {
            "_view_name": "LayoutView",
            "grid_template_rows": null,
            "right": null,
            "justify_content": null,
            "_view_module": "@jupyter-widgets/base",
            "overflow": null,
            "_model_module_version": "1.2.0",
            "_view_count": null,
            "flex_flow": null,
            "width": null,
            "min_width": null,
            "border": null,
            "align_items": null,
            "bottom": null,
            "_model_module": "@jupyter-widgets/base",
            "top": null,
            "grid_column": null,
            "overflow_y": null,
            "overflow_x": null,
            "grid_auto_flow": null,
            "grid_area": null,
            "grid_template_columns": null,
            "flex": null,
            "_model_name": "LayoutModel",
            "justify_items": null,
            "grid_row": null,
            "max_height": null,
            "align_content": null,
            "visibility": null,
            "align_self": null,
            "height": null,
            "min_height": null,
            "padding": null,
            "grid_auto_rows": null,
            "grid_gap": null,
            "max_width": null,
            "order": null,
            "_view_module_version": "1.2.0",
            "grid_template_areas": null,
            "object_position": null,
            "object_fit": null,
            "grid_auto_columns": null,
            "margin": null,
            "display": null,
            "left": null
          }
        },
        "6ce35fa62c06451cbea0975bbb7e1050": {
          "model_module": "@jupyter-widgets/controls",
          "model_name": "VBoxModel",
          "model_module_version": "1.5.0",
          "state": {
            "_view_name": "VBoxView",
            "_dom_classes": [],
            "_model_name": "VBoxModel",
            "_view_module": "@jupyter-widgets/controls",
            "_model_module_version": "1.5.0",
            "_view_count": null,
            "_view_module_version": "1.5.0",
            "box_style": "",
            "layout": "IPY_MODEL_de26fd58539842339b0fc3d2f2850d12",
            "_model_module": "@jupyter-widgets/controls",
            "children": [
              "IPY_MODEL_639ada2f44474e0386a1b9d2f064f992",
              "IPY_MODEL_a1fb194f71e1411d958c07a1f5d14e75"
            ]
          }
        },
        "de26fd58539842339b0fc3d2f2850d12": {
          "model_module": "@jupyter-widgets/base",
          "model_name": "LayoutModel",
          "model_module_version": "1.2.0",
          "state": {
            "_view_name": "LayoutView",
            "grid_template_rows": null,
            "right": null,
            "justify_content": null,
            "_view_module": "@jupyter-widgets/base",
            "overflow": null,
            "_model_module_version": "1.2.0",
            "_view_count": null,
            "flex_flow": null,
            "width": null,
            "min_width": null,
            "border": null,
            "align_items": null,
            "bottom": null,
            "_model_module": "@jupyter-widgets/base",
            "top": null,
            "grid_column": null,
            "overflow_y": null,
            "overflow_x": null,
            "grid_auto_flow": null,
            "grid_area": null,
            "grid_template_columns": null,
            "flex": null,
            "_model_name": "LayoutModel",
            "justify_items": null,
            "grid_row": null,
            "max_height": null,
            "align_content": null,
            "visibility": null,
            "align_self": null,
            "height": null,
            "min_height": null,
            "padding": null,
            "grid_auto_rows": null,
            "grid_gap": null,
            "max_width": null,
            "order": null,
            "_view_module_version": "1.2.0",
            "grid_template_areas": null,
            "object_position": null,
            "object_fit": null,
            "grid_auto_columns": null,
            "margin": null,
            "display": null,
            "left": null
          }
        },
        "639ada2f44474e0386a1b9d2f064f992": {
          "model_module": "@jupyter-widgets/controls",
          "model_name": "LabelModel",
          "model_module_version": "1.5.0",
          "state": {
            "_view_name": "LabelView",
            "style": "IPY_MODEL_3e01f4a37b2f40d19c68b37db801a43c",
            "_dom_classes": [],
            "description": "",
            "_model_name": "LabelModel",
            "placeholder": "​",
            "_view_module": "@jupyter-widgets/controls",
            "_model_module_version": "1.5.0",
            "value": " 90.19MB of 90.19MB uploaded (0.00MB deduped)\r",
            "_view_count": null,
            "_view_module_version": "1.5.0",
            "description_tooltip": null,
            "_model_module": "@jupyter-widgets/controls",
            "layout": "IPY_MODEL_8debc2cb2abd4b7bbdfabacd83930cad"
          }
        },
        "a1fb194f71e1411d958c07a1f5d14e75": {
          "model_module": "@jupyter-widgets/controls",
          "model_name": "FloatProgressModel",
          "model_module_version": "1.5.0",
          "state": {
            "_view_name": "ProgressView",
            "style": "IPY_MODEL_e47f64f987264eaf92d1139ab261401b",
            "_dom_classes": [],
            "description": "",
            "_model_name": "FloatProgressModel",
            "bar_style": "",
            "max": 1,
            "_view_module": "@jupyter-widgets/controls",
            "_model_module_version": "1.5.0",
            "value": 1,
            "_view_count": null,
            "_view_module_version": "1.5.0",
            "orientation": "horizontal",
            "min": 0,
            "description_tooltip": null,
            "_model_module": "@jupyter-widgets/controls",
            "layout": "IPY_MODEL_a628ad7cbc324931a45f450dace1e6f7"
          }
        },
        "3e01f4a37b2f40d19c68b37db801a43c": {
          "model_module": "@jupyter-widgets/controls",
          "model_name": "DescriptionStyleModel",
          "model_module_version": "1.5.0",
          "state": {
            "_view_name": "StyleView",
            "_model_name": "DescriptionStyleModel",
            "description_width": "",
            "_view_module": "@jupyter-widgets/base",
            "_model_module_version": "1.5.0",
            "_view_count": null,
            "_view_module_version": "1.2.0",
            "_model_module": "@jupyter-widgets/controls"
          }
        },
        "8debc2cb2abd4b7bbdfabacd83930cad": {
          "model_module": "@jupyter-widgets/base",
          "model_name": "LayoutModel",
          "model_module_version": "1.2.0",
          "state": {
            "_view_name": "LayoutView",
            "grid_template_rows": null,
            "right": null,
            "justify_content": null,
            "_view_module": "@jupyter-widgets/base",
            "overflow": null,
            "_model_module_version": "1.2.0",
            "_view_count": null,
            "flex_flow": null,
            "width": null,
            "min_width": null,
            "border": null,
            "align_items": null,
            "bottom": null,
            "_model_module": "@jupyter-widgets/base",
            "top": null,
            "grid_column": null,
            "overflow_y": null,
            "overflow_x": null,
            "grid_auto_flow": null,
            "grid_area": null,
            "grid_template_columns": null,
            "flex": null,
            "_model_name": "LayoutModel",
            "justify_items": null,
            "grid_row": null,
            "max_height": null,
            "align_content": null,
            "visibility": null,
            "align_self": null,
            "height": null,
            "min_height": null,
            "padding": null,
            "grid_auto_rows": null,
            "grid_gap": null,
            "max_width": null,
            "order": null,
            "_view_module_version": "1.2.0",
            "grid_template_areas": null,
            "object_position": null,
            "object_fit": null,
            "grid_auto_columns": null,
            "margin": null,
            "display": null,
            "left": null
          }
        },
        "e47f64f987264eaf92d1139ab261401b": {
          "model_module": "@jupyter-widgets/controls",
          "model_name": "ProgressStyleModel",
          "model_module_version": "1.5.0",
          "state": {
            "_view_name": "StyleView",
            "_model_name": "ProgressStyleModel",
            "description_width": "",
            "_view_module": "@jupyter-widgets/base",
            "_model_module_version": "1.5.0",
            "_view_count": null,
            "_view_module_version": "1.2.0",
            "bar_color": null,
            "_model_module": "@jupyter-widgets/controls"
          }
        },
        "a628ad7cbc324931a45f450dace1e6f7": {
          "model_module": "@jupyter-widgets/base",
          "model_name": "LayoutModel",
          "model_module_version": "1.2.0",
          "state": {
            "_view_name": "LayoutView",
            "grid_template_rows": null,
            "right": null,
            "justify_content": null,
            "_view_module": "@jupyter-widgets/base",
            "overflow": null,
            "_model_module_version": "1.2.0",
            "_view_count": null,
            "flex_flow": null,
            "width": null,
            "min_width": null,
            "border": null,
            "align_items": null,
            "bottom": null,
            "_model_module": "@jupyter-widgets/base",
            "top": null,
            "grid_column": null,
            "overflow_y": null,
            "overflow_x": null,
            "grid_auto_flow": null,
            "grid_area": null,
            "grid_template_columns": null,
            "flex": null,
            "_model_name": "LayoutModel",
            "justify_items": null,
            "grid_row": null,
            "max_height": null,
            "align_content": null,
            "visibility": null,
            "align_self": null,
            "height": null,
            "min_height": null,
            "padding": null,
            "grid_auto_rows": null,
            "grid_gap": null,
            "max_width": null,
            "order": null,
            "_view_module_version": "1.2.0",
            "grid_template_areas": null,
            "object_position": null,
            "object_fit": null,
            "grid_auto_columns": null,
            "margin": null,
            "display": null,
            "left": null
          }
        },
        "8057161e44b3471fbd1a0bfb86ebfe2b": {
          "model_module": "@jupyter-widgets/controls",
          "model_name": "VBoxModel",
          "model_module_version": "1.5.0",
          "state": {
            "_view_name": "VBoxView",
            "_dom_classes": [],
            "_model_name": "VBoxModel",
            "_view_module": "@jupyter-widgets/controls",
            "_model_module_version": "1.5.0",
            "_view_count": null,
            "_view_module_version": "1.5.0",
            "box_style": "",
            "layout": "IPY_MODEL_34cc17a93c90447a9c9a0673eac97cbd",
            "_model_module": "@jupyter-widgets/controls",
            "children": [
              "IPY_MODEL_d677296863f14d5eb949f8266da064f0",
              "IPY_MODEL_f2f60065716d47ea83dd45c921b6507d"
            ]
          }
        },
        "34cc17a93c90447a9c9a0673eac97cbd": {
          "model_module": "@jupyter-widgets/base",
          "model_name": "LayoutModel",
          "model_module_version": "1.2.0",
          "state": {
            "_view_name": "LayoutView",
            "grid_template_rows": null,
            "right": null,
            "justify_content": null,
            "_view_module": "@jupyter-widgets/base",
            "overflow": null,
            "_model_module_version": "1.2.0",
            "_view_count": null,
            "flex_flow": null,
            "width": null,
            "min_width": null,
            "border": null,
            "align_items": null,
            "bottom": null,
            "_model_module": "@jupyter-widgets/base",
            "top": null,
            "grid_column": null,
            "overflow_y": null,
            "overflow_x": null,
            "grid_auto_flow": null,
            "grid_area": null,
            "grid_template_columns": null,
            "flex": null,
            "_model_name": "LayoutModel",
            "justify_items": null,
            "grid_row": null,
            "max_height": null,
            "align_content": null,
            "visibility": null,
            "align_self": null,
            "height": null,
            "min_height": null,
            "padding": null,
            "grid_auto_rows": null,
            "grid_gap": null,
            "max_width": null,
            "order": null,
            "_view_module_version": "1.2.0",
            "grid_template_areas": null,
            "object_position": null,
            "object_fit": null,
            "grid_auto_columns": null,
            "margin": null,
            "display": null,
            "left": null
          }
        },
        "d677296863f14d5eb949f8266da064f0": {
          "model_module": "@jupyter-widgets/controls",
          "model_name": "LabelModel",
          "model_module_version": "1.5.0",
          "state": {
            "_view_name": "LabelView",
            "style": "IPY_MODEL_7a539fd72a1a4ea895ed6395e6534663",
            "_dom_classes": [],
            "description": "",
            "_model_name": "LabelModel",
            "placeholder": "​",
            "_view_module": "@jupyter-widgets/controls",
            "_model_module_version": "1.5.0",
            "value": " 83.60MB of 83.60MB uploaded (0.00MB deduped)\r",
            "_view_count": null,
            "_view_module_version": "1.5.0",
            "description_tooltip": null,
            "_model_module": "@jupyter-widgets/controls",
            "layout": "IPY_MODEL_963e669414db44a78e8171b38c362b39"
          }
        },
        "f2f60065716d47ea83dd45c921b6507d": {
          "model_module": "@jupyter-widgets/controls",
          "model_name": "FloatProgressModel",
          "model_module_version": "1.5.0",
          "state": {
            "_view_name": "ProgressView",
            "style": "IPY_MODEL_70613419e11848f08e713d5bce425875",
            "_dom_classes": [],
            "description": "",
            "_model_name": "FloatProgressModel",
            "bar_style": "",
            "max": 1,
            "_view_module": "@jupyter-widgets/controls",
            "_model_module_version": "1.5.0",
            "value": 1,
            "_view_count": null,
            "_view_module_version": "1.5.0",
            "orientation": "horizontal",
            "min": 0,
            "description_tooltip": null,
            "_model_module": "@jupyter-widgets/controls",
            "layout": "IPY_MODEL_5c1c6f973b484e418fce8bd4435c4de4"
          }
        },
        "7a539fd72a1a4ea895ed6395e6534663": {
          "model_module": "@jupyter-widgets/controls",
          "model_name": "DescriptionStyleModel",
          "model_module_version": "1.5.0",
          "state": {
            "_view_name": "StyleView",
            "_model_name": "DescriptionStyleModel",
            "description_width": "",
            "_view_module": "@jupyter-widgets/base",
            "_model_module_version": "1.5.0",
            "_view_count": null,
            "_view_module_version": "1.2.0",
            "_model_module": "@jupyter-widgets/controls"
          }
        },
        "963e669414db44a78e8171b38c362b39": {
          "model_module": "@jupyter-widgets/base",
          "model_name": "LayoutModel",
          "model_module_version": "1.2.0",
          "state": {
            "_view_name": "LayoutView",
            "grid_template_rows": null,
            "right": null,
            "justify_content": null,
            "_view_module": "@jupyter-widgets/base",
            "overflow": null,
            "_model_module_version": "1.2.0",
            "_view_count": null,
            "flex_flow": null,
            "width": null,
            "min_width": null,
            "border": null,
            "align_items": null,
            "bottom": null,
            "_model_module": "@jupyter-widgets/base",
            "top": null,
            "grid_column": null,
            "overflow_y": null,
            "overflow_x": null,
            "grid_auto_flow": null,
            "grid_area": null,
            "grid_template_columns": null,
            "flex": null,
            "_model_name": "LayoutModel",
            "justify_items": null,
            "grid_row": null,
            "max_height": null,
            "align_content": null,
            "visibility": null,
            "align_self": null,
            "height": null,
            "min_height": null,
            "padding": null,
            "grid_auto_rows": null,
            "grid_gap": null,
            "max_width": null,
            "order": null,
            "_view_module_version": "1.2.0",
            "grid_template_areas": null,
            "object_position": null,
            "object_fit": null,
            "grid_auto_columns": null,
            "margin": null,
            "display": null,
            "left": null
          }
        },
        "70613419e11848f08e713d5bce425875": {
          "model_module": "@jupyter-widgets/controls",
          "model_name": "ProgressStyleModel",
          "model_module_version": "1.5.0",
          "state": {
            "_view_name": "StyleView",
            "_model_name": "ProgressStyleModel",
            "description_width": "",
            "_view_module": "@jupyter-widgets/base",
            "_model_module_version": "1.5.0",
            "_view_count": null,
            "_view_module_version": "1.2.0",
            "bar_color": null,
            "_model_module": "@jupyter-widgets/controls"
          }
        },
        "5c1c6f973b484e418fce8bd4435c4de4": {
          "model_module": "@jupyter-widgets/base",
          "model_name": "LayoutModel",
          "model_module_version": "1.2.0",
          "state": {
            "_view_name": "LayoutView",
            "grid_template_rows": null,
            "right": null,
            "justify_content": null,
            "_view_module": "@jupyter-widgets/base",
            "overflow": null,
            "_model_module_version": "1.2.0",
            "_view_count": null,
            "flex_flow": null,
            "width": null,
            "min_width": null,
            "border": null,
            "align_items": null,
            "bottom": null,
            "_model_module": "@jupyter-widgets/base",
            "top": null,
            "grid_column": null,
            "overflow_y": null,
            "overflow_x": null,
            "grid_auto_flow": null,
            "grid_area": null,
            "grid_template_columns": null,
            "flex": null,
            "_model_name": "LayoutModel",
            "justify_items": null,
            "grid_row": null,
            "max_height": null,
            "align_content": null,
            "visibility": null,
            "align_self": null,
            "height": null,
            "min_height": null,
            "padding": null,
            "grid_auto_rows": null,
            "grid_gap": null,
            "max_width": null,
            "order": null,
            "_view_module_version": "1.2.0",
            "grid_template_areas": null,
            "object_position": null,
            "object_fit": null,
            "grid_auto_columns": null,
            "margin": null,
            "display": null,
            "left": null
          }
        },
        "7096cf422b794a70aee2c7d642759ba6": {
          "model_module": "@jupyter-widgets/controls",
          "model_name": "VBoxModel",
          "model_module_version": "1.5.0",
          "state": {
            "_view_name": "VBoxView",
            "_dom_classes": [],
            "_model_name": "VBoxModel",
            "_view_module": "@jupyter-widgets/controls",
            "_model_module_version": "1.5.0",
            "_view_count": null,
            "_view_module_version": "1.5.0",
            "box_style": "",
            "layout": "IPY_MODEL_2b11f19f82e140709a4e3f0a3031b7bb",
            "_model_module": "@jupyter-widgets/controls",
            "children": [
              "IPY_MODEL_606f04fcd763479ca6a829fc226c569b",
              "IPY_MODEL_5a22d70d13ad4f678e6b80ed56300068"
            ]
          }
        },
        "2b11f19f82e140709a4e3f0a3031b7bb": {
          "model_module": "@jupyter-widgets/base",
          "model_name": "LayoutModel",
          "model_module_version": "1.2.0",
          "state": {
            "_view_name": "LayoutView",
            "grid_template_rows": null,
            "right": null,
            "justify_content": null,
            "_view_module": "@jupyter-widgets/base",
            "overflow": null,
            "_model_module_version": "1.2.0",
            "_view_count": null,
            "flex_flow": null,
            "width": null,
            "min_width": null,
            "border": null,
            "align_items": null,
            "bottom": null,
            "_model_module": "@jupyter-widgets/base",
            "top": null,
            "grid_column": null,
            "overflow_y": null,
            "overflow_x": null,
            "grid_auto_flow": null,
            "grid_area": null,
            "grid_template_columns": null,
            "flex": null,
            "_model_name": "LayoutModel",
            "justify_items": null,
            "grid_row": null,
            "max_height": null,
            "align_content": null,
            "visibility": null,
            "align_self": null,
            "height": null,
            "min_height": null,
            "padding": null,
            "grid_auto_rows": null,
            "grid_gap": null,
            "max_width": null,
            "order": null,
            "_view_module_version": "1.2.0",
            "grid_template_areas": null,
            "object_position": null,
            "object_fit": null,
            "grid_auto_columns": null,
            "margin": null,
            "display": null,
            "left": null
          }
        },
        "606f04fcd763479ca6a829fc226c569b": {
          "model_module": "@jupyter-widgets/controls",
          "model_name": "LabelModel",
          "model_module_version": "1.5.0",
          "state": {
            "_view_name": "LabelView",
            "style": "IPY_MODEL_d423bc5130144feb9bb109439029b1c5",
            "_dom_classes": [],
            "description": "",
            "_model_name": "LabelModel",
            "placeholder": "​",
            "_view_module": "@jupyter-widgets/controls",
            "_model_module_version": "1.5.0",
            "value": " 208.23MB of 208.23MB uploaded (0.00MB deduped)\r",
            "_view_count": null,
            "_view_module_version": "1.5.0",
            "description_tooltip": null,
            "_model_module": "@jupyter-widgets/controls",
            "layout": "IPY_MODEL_b1a3cffa28184a8ebed6da8e9e44a1b4"
          }
        },
        "5a22d70d13ad4f678e6b80ed56300068": {
          "model_module": "@jupyter-widgets/controls",
          "model_name": "FloatProgressModel",
          "model_module_version": "1.5.0",
          "state": {
            "_view_name": "ProgressView",
            "style": "IPY_MODEL_307f70b282504440929ad1dd25641e22",
            "_dom_classes": [],
            "description": "",
            "_model_name": "FloatProgressModel",
            "bar_style": "",
            "max": 1,
            "_view_module": "@jupyter-widgets/controls",
            "_model_module_version": "1.5.0",
            "value": 1,
            "_view_count": null,
            "_view_module_version": "1.5.0",
            "orientation": "horizontal",
            "min": 0,
            "description_tooltip": null,
            "_model_module": "@jupyter-widgets/controls",
            "layout": "IPY_MODEL_ad47a364425a402db1b6dd655164ce8b"
          }
        },
        "d423bc5130144feb9bb109439029b1c5": {
          "model_module": "@jupyter-widgets/controls",
          "model_name": "DescriptionStyleModel",
          "model_module_version": "1.5.0",
          "state": {
            "_view_name": "StyleView",
            "_model_name": "DescriptionStyleModel",
            "description_width": "",
            "_view_module": "@jupyter-widgets/base",
            "_model_module_version": "1.5.0",
            "_view_count": null,
            "_view_module_version": "1.2.0",
            "_model_module": "@jupyter-widgets/controls"
          }
        },
        "b1a3cffa28184a8ebed6da8e9e44a1b4": {
          "model_module": "@jupyter-widgets/base",
          "model_name": "LayoutModel",
          "model_module_version": "1.2.0",
          "state": {
            "_view_name": "LayoutView",
            "grid_template_rows": null,
            "right": null,
            "justify_content": null,
            "_view_module": "@jupyter-widgets/base",
            "overflow": null,
            "_model_module_version": "1.2.0",
            "_view_count": null,
            "flex_flow": null,
            "width": null,
            "min_width": null,
            "border": null,
            "align_items": null,
            "bottom": null,
            "_model_module": "@jupyter-widgets/base",
            "top": null,
            "grid_column": null,
            "overflow_y": null,
            "overflow_x": null,
            "grid_auto_flow": null,
            "grid_area": null,
            "grid_template_columns": null,
            "flex": null,
            "_model_name": "LayoutModel",
            "justify_items": null,
            "grid_row": null,
            "max_height": null,
            "align_content": null,
            "visibility": null,
            "align_self": null,
            "height": null,
            "min_height": null,
            "padding": null,
            "grid_auto_rows": null,
            "grid_gap": null,
            "max_width": null,
            "order": null,
            "_view_module_version": "1.2.0",
            "grid_template_areas": null,
            "object_position": null,
            "object_fit": null,
            "grid_auto_columns": null,
            "margin": null,
            "display": null,
            "left": null
          }
        },
        "307f70b282504440929ad1dd25641e22": {
          "model_module": "@jupyter-widgets/controls",
          "model_name": "ProgressStyleModel",
          "model_module_version": "1.5.0",
          "state": {
            "_view_name": "StyleView",
            "_model_name": "ProgressStyleModel",
            "description_width": "",
            "_view_module": "@jupyter-widgets/base",
            "_model_module_version": "1.5.0",
            "_view_count": null,
            "_view_module_version": "1.2.0",
            "bar_color": null,
            "_model_module": "@jupyter-widgets/controls"
          }
        },
        "ad47a364425a402db1b6dd655164ce8b": {
          "model_module": "@jupyter-widgets/base",
          "model_name": "LayoutModel",
          "model_module_version": "1.2.0",
          "state": {
            "_view_name": "LayoutView",
            "grid_template_rows": null,
            "right": null,
            "justify_content": null,
            "_view_module": "@jupyter-widgets/base",
            "overflow": null,
            "_model_module_version": "1.2.0",
            "_view_count": null,
            "flex_flow": null,
            "width": null,
            "min_width": null,
            "border": null,
            "align_items": null,
            "bottom": null,
            "_model_module": "@jupyter-widgets/base",
            "top": null,
            "grid_column": null,
            "overflow_y": null,
            "overflow_x": null,
            "grid_auto_flow": null,
            "grid_area": null,
            "grid_template_columns": null,
            "flex": null,
            "_model_name": "LayoutModel",
            "justify_items": null,
            "grid_row": null,
            "max_height": null,
            "align_content": null,
            "visibility": null,
            "align_self": null,
            "height": null,
            "min_height": null,
            "padding": null,
            "grid_auto_rows": null,
            "grid_gap": null,
            "max_width": null,
            "order": null,
            "_view_module_version": "1.2.0",
            "grid_template_areas": null,
            "object_position": null,
            "object_fit": null,
            "grid_auto_columns": null,
            "margin": null,
            "display": null,
            "left": null
          }
        },
        "a60c6040c1364cf29e186f362fa34982": {
          "model_module": "@jupyter-widgets/controls",
          "model_name": "VBoxModel",
          "model_module_version": "1.5.0",
          "state": {
            "_view_name": "VBoxView",
            "_dom_classes": [],
            "_model_name": "VBoxModel",
            "_view_module": "@jupyter-widgets/controls",
            "_model_module_version": "1.5.0",
            "_view_count": null,
            "_view_module_version": "1.5.0",
            "box_style": "",
            "layout": "IPY_MODEL_9198e41e2f2145f5a1ec36465a52dd82",
            "_model_module": "@jupyter-widgets/controls",
            "children": [
              "IPY_MODEL_3de99d3e2ff14630a39ff11b61b2ac90",
              "IPY_MODEL_e2085ee1d9e64e03ad1477ca290ad4d0"
            ]
          }
        },
        "9198e41e2f2145f5a1ec36465a52dd82": {
          "model_module": "@jupyter-widgets/base",
          "model_name": "LayoutModel",
          "model_module_version": "1.2.0",
          "state": {
            "_view_name": "LayoutView",
            "grid_template_rows": null,
            "right": null,
            "justify_content": null,
            "_view_module": "@jupyter-widgets/base",
            "overflow": null,
            "_model_module_version": "1.2.0",
            "_view_count": null,
            "flex_flow": null,
            "width": null,
            "min_width": null,
            "border": null,
            "align_items": null,
            "bottom": null,
            "_model_module": "@jupyter-widgets/base",
            "top": null,
            "grid_column": null,
            "overflow_y": null,
            "overflow_x": null,
            "grid_auto_flow": null,
            "grid_area": null,
            "grid_template_columns": null,
            "flex": null,
            "_model_name": "LayoutModel",
            "justify_items": null,
            "grid_row": null,
            "max_height": null,
            "align_content": null,
            "visibility": null,
            "align_self": null,
            "height": null,
            "min_height": null,
            "padding": null,
            "grid_auto_rows": null,
            "grid_gap": null,
            "max_width": null,
            "order": null,
            "_view_module_version": "1.2.0",
            "grid_template_areas": null,
            "object_position": null,
            "object_fit": null,
            "grid_auto_columns": null,
            "margin": null,
            "display": null,
            "left": null
          }
        },
        "3de99d3e2ff14630a39ff11b61b2ac90": {
          "model_module": "@jupyter-widgets/controls",
          "model_name": "LabelModel",
          "model_module_version": "1.5.0",
          "state": {
            "_view_name": "LabelView",
            "style": "IPY_MODEL_a2f2953770604df79b2dff4387927688",
            "_dom_classes": [],
            "description": "",
            "_model_name": "LabelModel",
            "placeholder": "​",
            "_view_module": "@jupyter-widgets/controls",
            "_model_module_version": "1.5.0",
            "value": " 6.06MB of 6.06MB uploaded (0.00MB deduped)\r",
            "_view_count": null,
            "_view_module_version": "1.5.0",
            "description_tooltip": null,
            "_model_module": "@jupyter-widgets/controls",
            "layout": "IPY_MODEL_d7b78a0c4d1943d8b080f87ddae0004a"
          }
        },
        "e2085ee1d9e64e03ad1477ca290ad4d0": {
          "model_module": "@jupyter-widgets/controls",
          "model_name": "FloatProgressModel",
          "model_module_version": "1.5.0",
          "state": {
            "_view_name": "ProgressView",
            "style": "IPY_MODEL_3f3bfae8379847a1a09456b026410ea0",
            "_dom_classes": [],
            "description": "",
            "_model_name": "FloatProgressModel",
            "bar_style": "",
            "max": 1,
            "_view_module": "@jupyter-widgets/controls",
            "_model_module_version": "1.5.0",
            "value": 1,
            "_view_count": null,
            "_view_module_version": "1.5.0",
            "orientation": "horizontal",
            "min": 0,
            "description_tooltip": null,
            "_model_module": "@jupyter-widgets/controls",
            "layout": "IPY_MODEL_7911ddc39c9746f4a3201f96a4dc40d0"
          }
        },
        "a2f2953770604df79b2dff4387927688": {
          "model_module": "@jupyter-widgets/controls",
          "model_name": "DescriptionStyleModel",
          "model_module_version": "1.5.0",
          "state": {
            "_view_name": "StyleView",
            "_model_name": "DescriptionStyleModel",
            "description_width": "",
            "_view_module": "@jupyter-widgets/base",
            "_model_module_version": "1.5.0",
            "_view_count": null,
            "_view_module_version": "1.2.0",
            "_model_module": "@jupyter-widgets/controls"
          }
        },
        "d7b78a0c4d1943d8b080f87ddae0004a": {
          "model_module": "@jupyter-widgets/base",
          "model_name": "LayoutModel",
          "model_module_version": "1.2.0",
          "state": {
            "_view_name": "LayoutView",
            "grid_template_rows": null,
            "right": null,
            "justify_content": null,
            "_view_module": "@jupyter-widgets/base",
            "overflow": null,
            "_model_module_version": "1.2.0",
            "_view_count": null,
            "flex_flow": null,
            "width": null,
            "min_width": null,
            "border": null,
            "align_items": null,
            "bottom": null,
            "_model_module": "@jupyter-widgets/base",
            "top": null,
            "grid_column": null,
            "overflow_y": null,
            "overflow_x": null,
            "grid_auto_flow": null,
            "grid_area": null,
            "grid_template_columns": null,
            "flex": null,
            "_model_name": "LayoutModel",
            "justify_items": null,
            "grid_row": null,
            "max_height": null,
            "align_content": null,
            "visibility": null,
            "align_self": null,
            "height": null,
            "min_height": null,
            "padding": null,
            "grid_auto_rows": null,
            "grid_gap": null,
            "max_width": null,
            "order": null,
            "_view_module_version": "1.2.0",
            "grid_template_areas": null,
            "object_position": null,
            "object_fit": null,
            "grid_auto_columns": null,
            "margin": null,
            "display": null,
            "left": null
          }
        },
        "3f3bfae8379847a1a09456b026410ea0": {
          "model_module": "@jupyter-widgets/controls",
          "model_name": "ProgressStyleModel",
          "model_module_version": "1.5.0",
          "state": {
            "_view_name": "StyleView",
            "_model_name": "ProgressStyleModel",
            "description_width": "",
            "_view_module": "@jupyter-widgets/base",
            "_model_module_version": "1.5.0",
            "_view_count": null,
            "_view_module_version": "1.2.0",
            "bar_color": null,
            "_model_module": "@jupyter-widgets/controls"
          }
        },
        "7911ddc39c9746f4a3201f96a4dc40d0": {
          "model_module": "@jupyter-widgets/base",
          "model_name": "LayoutModel",
          "model_module_version": "1.2.0",
          "state": {
            "_view_name": "LayoutView",
            "grid_template_rows": null,
            "right": null,
            "justify_content": null,
            "_view_module": "@jupyter-widgets/base",
            "overflow": null,
            "_model_module_version": "1.2.0",
            "_view_count": null,
            "flex_flow": null,
            "width": null,
            "min_width": null,
            "border": null,
            "align_items": null,
            "bottom": null,
            "_model_module": "@jupyter-widgets/base",
            "top": null,
            "grid_column": null,
            "overflow_y": null,
            "overflow_x": null,
            "grid_auto_flow": null,
            "grid_area": null,
            "grid_template_columns": null,
            "flex": null,
            "_model_name": "LayoutModel",
            "justify_items": null,
            "grid_row": null,
            "max_height": null,
            "align_content": null,
            "visibility": null,
            "align_self": null,
            "height": null,
            "min_height": null,
            "padding": null,
            "grid_auto_rows": null,
            "grid_gap": null,
            "max_width": null,
            "order": null,
            "_view_module_version": "1.2.0",
            "grid_template_areas": null,
            "object_position": null,
            "object_fit": null,
            "grid_auto_columns": null,
            "margin": null,
            "display": null,
            "left": null
          }
        },
        "0dc4ab7f616c40ae9c821fba7a120b0e": {
          "model_module": "@jupyter-widgets/controls",
          "model_name": "VBoxModel",
          "model_module_version": "1.5.0",
          "state": {
            "_view_name": "VBoxView",
            "_dom_classes": [],
            "_model_name": "VBoxModel",
            "_view_module": "@jupyter-widgets/controls",
            "_model_module_version": "1.5.0",
            "_view_count": null,
            "_view_module_version": "1.5.0",
            "box_style": "",
            "layout": "IPY_MODEL_a5d82105771c413bbd95275720750b01",
            "_model_module": "@jupyter-widgets/controls",
            "children": [
              "IPY_MODEL_1d60a019ec2048b39af4caf085769fc4",
              "IPY_MODEL_9994b5cb542f48fe82e50e2a45b3d860"
            ]
          }
        },
        "a5d82105771c413bbd95275720750b01": {
          "model_module": "@jupyter-widgets/base",
          "model_name": "LayoutModel",
          "model_module_version": "1.2.0",
          "state": {
            "_view_name": "LayoutView",
            "grid_template_rows": null,
            "right": null,
            "justify_content": null,
            "_view_module": "@jupyter-widgets/base",
            "overflow": null,
            "_model_module_version": "1.2.0",
            "_view_count": null,
            "flex_flow": null,
            "width": null,
            "min_width": null,
            "border": null,
            "align_items": null,
            "bottom": null,
            "_model_module": "@jupyter-widgets/base",
            "top": null,
            "grid_column": null,
            "overflow_y": null,
            "overflow_x": null,
            "grid_auto_flow": null,
            "grid_area": null,
            "grid_template_columns": null,
            "flex": null,
            "_model_name": "LayoutModel",
            "justify_items": null,
            "grid_row": null,
            "max_height": null,
            "align_content": null,
            "visibility": null,
            "align_self": null,
            "height": null,
            "min_height": null,
            "padding": null,
            "grid_auto_rows": null,
            "grid_gap": null,
            "max_width": null,
            "order": null,
            "_view_module_version": "1.2.0",
            "grid_template_areas": null,
            "object_position": null,
            "object_fit": null,
            "grid_auto_columns": null,
            "margin": null,
            "display": null,
            "left": null
          }
        },
        "1d60a019ec2048b39af4caf085769fc4": {
          "model_module": "@jupyter-widgets/controls",
          "model_name": "LabelModel",
          "model_module_version": "1.5.0",
          "state": {
            "_view_name": "LabelView",
            "style": "IPY_MODEL_45328492b44b434ca7c2176111a247e9",
            "_dom_classes": [],
            "description": "",
            "_model_name": "LabelModel",
            "placeholder": "​",
            "_view_module": "@jupyter-widgets/controls",
            "_model_module_version": "1.5.0",
            "value": " 90.19MB of 90.19MB uploaded (0.00MB deduped)\r",
            "_view_count": null,
            "_view_module_version": "1.5.0",
            "description_tooltip": null,
            "_model_module": "@jupyter-widgets/controls",
            "layout": "IPY_MODEL_d322bb1440594b978027553f6b8311a1"
          }
        },
        "9994b5cb542f48fe82e50e2a45b3d860": {
          "model_module": "@jupyter-widgets/controls",
          "model_name": "FloatProgressModel",
          "model_module_version": "1.5.0",
          "state": {
            "_view_name": "ProgressView",
            "style": "IPY_MODEL_458cae188c7c4db2936d6faedab1e704",
            "_dom_classes": [],
            "description": "",
            "_model_name": "FloatProgressModel",
            "bar_style": "",
            "max": 1,
            "_view_module": "@jupyter-widgets/controls",
            "_model_module_version": "1.5.0",
            "value": 1,
            "_view_count": null,
            "_view_module_version": "1.5.0",
            "orientation": "horizontal",
            "min": 0,
            "description_tooltip": null,
            "_model_module": "@jupyter-widgets/controls",
            "layout": "IPY_MODEL_996d7f9e005d466cac0a6812d9e76e50"
          }
        },
        "45328492b44b434ca7c2176111a247e9": {
          "model_module": "@jupyter-widgets/controls",
          "model_name": "DescriptionStyleModel",
          "model_module_version": "1.5.0",
          "state": {
            "_view_name": "StyleView",
            "_model_name": "DescriptionStyleModel",
            "description_width": "",
            "_view_module": "@jupyter-widgets/base",
            "_model_module_version": "1.5.0",
            "_view_count": null,
            "_view_module_version": "1.2.0",
            "_model_module": "@jupyter-widgets/controls"
          }
        },
        "d322bb1440594b978027553f6b8311a1": {
          "model_module": "@jupyter-widgets/base",
          "model_name": "LayoutModel",
          "model_module_version": "1.2.0",
          "state": {
            "_view_name": "LayoutView",
            "grid_template_rows": null,
            "right": null,
            "justify_content": null,
            "_view_module": "@jupyter-widgets/base",
            "overflow": null,
            "_model_module_version": "1.2.0",
            "_view_count": null,
            "flex_flow": null,
            "width": null,
            "min_width": null,
            "border": null,
            "align_items": null,
            "bottom": null,
            "_model_module": "@jupyter-widgets/base",
            "top": null,
            "grid_column": null,
            "overflow_y": null,
            "overflow_x": null,
            "grid_auto_flow": null,
            "grid_area": null,
            "grid_template_columns": null,
            "flex": null,
            "_model_name": "LayoutModel",
            "justify_items": null,
            "grid_row": null,
            "max_height": null,
            "align_content": null,
            "visibility": null,
            "align_self": null,
            "height": null,
            "min_height": null,
            "padding": null,
            "grid_auto_rows": null,
            "grid_gap": null,
            "max_width": null,
            "order": null,
            "_view_module_version": "1.2.0",
            "grid_template_areas": null,
            "object_position": null,
            "object_fit": null,
            "grid_auto_columns": null,
            "margin": null,
            "display": null,
            "left": null
          }
        },
        "458cae188c7c4db2936d6faedab1e704": {
          "model_module": "@jupyter-widgets/controls",
          "model_name": "ProgressStyleModel",
          "model_module_version": "1.5.0",
          "state": {
            "_view_name": "StyleView",
            "_model_name": "ProgressStyleModel",
            "description_width": "",
            "_view_module": "@jupyter-widgets/base",
            "_model_module_version": "1.5.0",
            "_view_count": null,
            "_view_module_version": "1.2.0",
            "bar_color": null,
            "_model_module": "@jupyter-widgets/controls"
          }
        },
        "996d7f9e005d466cac0a6812d9e76e50": {
          "model_module": "@jupyter-widgets/base",
          "model_name": "LayoutModel",
          "model_module_version": "1.2.0",
          "state": {
            "_view_name": "LayoutView",
            "grid_template_rows": null,
            "right": null,
            "justify_content": null,
            "_view_module": "@jupyter-widgets/base",
            "overflow": null,
            "_model_module_version": "1.2.0",
            "_view_count": null,
            "flex_flow": null,
            "width": null,
            "min_width": null,
            "border": null,
            "align_items": null,
            "bottom": null,
            "_model_module": "@jupyter-widgets/base",
            "top": null,
            "grid_column": null,
            "overflow_y": null,
            "overflow_x": null,
            "grid_auto_flow": null,
            "grid_area": null,
            "grid_template_columns": null,
            "flex": null,
            "_model_name": "LayoutModel",
            "justify_items": null,
            "grid_row": null,
            "max_height": null,
            "align_content": null,
            "visibility": null,
            "align_self": null,
            "height": null,
            "min_height": null,
            "padding": null,
            "grid_auto_rows": null,
            "grid_gap": null,
            "max_width": null,
            "order": null,
            "_view_module_version": "1.2.0",
            "grid_template_areas": null,
            "object_position": null,
            "object_fit": null,
            "grid_auto_columns": null,
            "margin": null,
            "display": null,
            "left": null
          }
        },
        "b8f33345ddf248049d563faef6f99c9c": {
          "model_module": "@jupyter-widgets/controls",
          "model_name": "VBoxModel",
          "model_module_version": "1.5.0",
          "state": {
            "_view_name": "VBoxView",
            "_dom_classes": [],
            "_model_name": "VBoxModel",
            "_view_module": "@jupyter-widgets/controls",
            "_model_module_version": "1.5.0",
            "_view_count": null,
            "_view_module_version": "1.5.0",
            "box_style": "",
            "layout": "IPY_MODEL_56f06b3d94f9449185cbdc1bdbca583f",
            "_model_module": "@jupyter-widgets/controls",
            "children": [
              "IPY_MODEL_19bdcd9413604b65a2a220acd751d9b9",
              "IPY_MODEL_b450c02a1b7a4da8a390b42896a5da82"
            ]
          }
        },
        "56f06b3d94f9449185cbdc1bdbca583f": {
          "model_module": "@jupyter-widgets/base",
          "model_name": "LayoutModel",
          "model_module_version": "1.2.0",
          "state": {
            "_view_name": "LayoutView",
            "grid_template_rows": null,
            "right": null,
            "justify_content": null,
            "_view_module": "@jupyter-widgets/base",
            "overflow": null,
            "_model_module_version": "1.2.0",
            "_view_count": null,
            "flex_flow": null,
            "width": null,
            "min_width": null,
            "border": null,
            "align_items": null,
            "bottom": null,
            "_model_module": "@jupyter-widgets/base",
            "top": null,
            "grid_column": null,
            "overflow_y": null,
            "overflow_x": null,
            "grid_auto_flow": null,
            "grid_area": null,
            "grid_template_columns": null,
            "flex": null,
            "_model_name": "LayoutModel",
            "justify_items": null,
            "grid_row": null,
            "max_height": null,
            "align_content": null,
            "visibility": null,
            "align_self": null,
            "height": null,
            "min_height": null,
            "padding": null,
            "grid_auto_rows": null,
            "grid_gap": null,
            "max_width": null,
            "order": null,
            "_view_module_version": "1.2.0",
            "grid_template_areas": null,
            "object_position": null,
            "object_fit": null,
            "grid_auto_columns": null,
            "margin": null,
            "display": null,
            "left": null
          }
        },
        "19bdcd9413604b65a2a220acd751d9b9": {
          "model_module": "@jupyter-widgets/controls",
          "model_name": "LabelModel",
          "model_module_version": "1.5.0",
          "state": {
            "_view_name": "LabelView",
            "style": "IPY_MODEL_a803e1e36fb74e1091c6d6e0dab361fc",
            "_dom_classes": [],
            "description": "",
            "_model_name": "LabelModel",
            "placeholder": "​",
            "_view_module": "@jupyter-widgets/controls",
            "_model_module_version": "1.5.0",
            "value": " 83.60MB of 83.60MB uploaded (0.00MB deduped)\r",
            "_view_count": null,
            "_view_module_version": "1.5.0",
            "description_tooltip": null,
            "_model_module": "@jupyter-widgets/controls",
            "layout": "IPY_MODEL_8490b4a8dc35465fa0cd9cd74be16cd4"
          }
        },
        "b450c02a1b7a4da8a390b42896a5da82": {
          "model_module": "@jupyter-widgets/controls",
          "model_name": "FloatProgressModel",
          "model_module_version": "1.5.0",
          "state": {
            "_view_name": "ProgressView",
            "style": "IPY_MODEL_c3c43276599e4051a38c472346230ea3",
            "_dom_classes": [],
            "description": "",
            "_model_name": "FloatProgressModel",
            "bar_style": "",
            "max": 1,
            "_view_module": "@jupyter-widgets/controls",
            "_model_module_version": "1.5.0",
            "value": 1,
            "_view_count": null,
            "_view_module_version": "1.5.0",
            "orientation": "horizontal",
            "min": 0,
            "description_tooltip": null,
            "_model_module": "@jupyter-widgets/controls",
            "layout": "IPY_MODEL_868a1ebcb69049069824345efd2d8518"
          }
        },
        "a803e1e36fb74e1091c6d6e0dab361fc": {
          "model_module": "@jupyter-widgets/controls",
          "model_name": "DescriptionStyleModel",
          "model_module_version": "1.5.0",
          "state": {
            "_view_name": "StyleView",
            "_model_name": "DescriptionStyleModel",
            "description_width": "",
            "_view_module": "@jupyter-widgets/base",
            "_model_module_version": "1.5.0",
            "_view_count": null,
            "_view_module_version": "1.2.0",
            "_model_module": "@jupyter-widgets/controls"
          }
        },
        "8490b4a8dc35465fa0cd9cd74be16cd4": {
          "model_module": "@jupyter-widgets/base",
          "model_name": "LayoutModel",
          "model_module_version": "1.2.0",
          "state": {
            "_view_name": "LayoutView",
            "grid_template_rows": null,
            "right": null,
            "justify_content": null,
            "_view_module": "@jupyter-widgets/base",
            "overflow": null,
            "_model_module_version": "1.2.0",
            "_view_count": null,
            "flex_flow": null,
            "width": null,
            "min_width": null,
            "border": null,
            "align_items": null,
            "bottom": null,
            "_model_module": "@jupyter-widgets/base",
            "top": null,
            "grid_column": null,
            "overflow_y": null,
            "overflow_x": null,
            "grid_auto_flow": null,
            "grid_area": null,
            "grid_template_columns": null,
            "flex": null,
            "_model_name": "LayoutModel",
            "justify_items": null,
            "grid_row": null,
            "max_height": null,
            "align_content": null,
            "visibility": null,
            "align_self": null,
            "height": null,
            "min_height": null,
            "padding": null,
            "grid_auto_rows": null,
            "grid_gap": null,
            "max_width": null,
            "order": null,
            "_view_module_version": "1.2.0",
            "grid_template_areas": null,
            "object_position": null,
            "object_fit": null,
            "grid_auto_columns": null,
            "margin": null,
            "display": null,
            "left": null
          }
        },
        "c3c43276599e4051a38c472346230ea3": {
          "model_module": "@jupyter-widgets/controls",
          "model_name": "ProgressStyleModel",
          "model_module_version": "1.5.0",
          "state": {
            "_view_name": "StyleView",
            "_model_name": "ProgressStyleModel",
            "description_width": "",
            "_view_module": "@jupyter-widgets/base",
            "_model_module_version": "1.5.0",
            "_view_count": null,
            "_view_module_version": "1.2.0",
            "bar_color": null,
            "_model_module": "@jupyter-widgets/controls"
          }
        },
        "868a1ebcb69049069824345efd2d8518": {
          "model_module": "@jupyter-widgets/base",
          "model_name": "LayoutModel",
          "model_module_version": "1.2.0",
          "state": {
            "_view_name": "LayoutView",
            "grid_template_rows": null,
            "right": null,
            "justify_content": null,
            "_view_module": "@jupyter-widgets/base",
            "overflow": null,
            "_model_module_version": "1.2.0",
            "_view_count": null,
            "flex_flow": null,
            "width": null,
            "min_width": null,
            "border": null,
            "align_items": null,
            "bottom": null,
            "_model_module": "@jupyter-widgets/base",
            "top": null,
            "grid_column": null,
            "overflow_y": null,
            "overflow_x": null,
            "grid_auto_flow": null,
            "grid_area": null,
            "grid_template_columns": null,
            "flex": null,
            "_model_name": "LayoutModel",
            "justify_items": null,
            "grid_row": null,
            "max_height": null,
            "align_content": null,
            "visibility": null,
            "align_self": null,
            "height": null,
            "min_height": null,
            "padding": null,
            "grid_auto_rows": null,
            "grid_gap": null,
            "max_width": null,
            "order": null,
            "_view_module_version": "1.2.0",
            "grid_template_areas": null,
            "object_position": null,
            "object_fit": null,
            "grid_auto_columns": null,
            "margin": null,
            "display": null,
            "left": null
          }
        },
        "09d6d7e88c8c4101b143f40411a2128e": {
          "model_module": "@jupyter-widgets/controls",
          "model_name": "VBoxModel",
          "model_module_version": "1.5.0",
          "state": {
            "_view_name": "VBoxView",
            "_dom_classes": [],
            "_model_name": "VBoxModel",
            "_view_module": "@jupyter-widgets/controls",
            "_model_module_version": "1.5.0",
            "_view_count": null,
            "_view_module_version": "1.5.0",
            "box_style": "",
            "layout": "IPY_MODEL_d903029f35664d28ae0045b4616f87d0",
            "_model_module": "@jupyter-widgets/controls",
            "children": [
              "IPY_MODEL_48d021dc9c7749ac8d840e8da5eb2aff",
              "IPY_MODEL_5dcfecf272e64845b6590da81f3129b7"
            ]
          }
        },
        "d903029f35664d28ae0045b4616f87d0": {
          "model_module": "@jupyter-widgets/base",
          "model_name": "LayoutModel",
          "model_module_version": "1.2.0",
          "state": {
            "_view_name": "LayoutView",
            "grid_template_rows": null,
            "right": null,
            "justify_content": null,
            "_view_module": "@jupyter-widgets/base",
            "overflow": null,
            "_model_module_version": "1.2.0",
            "_view_count": null,
            "flex_flow": null,
            "width": null,
            "min_width": null,
            "border": null,
            "align_items": null,
            "bottom": null,
            "_model_module": "@jupyter-widgets/base",
            "top": null,
            "grid_column": null,
            "overflow_y": null,
            "overflow_x": null,
            "grid_auto_flow": null,
            "grid_area": null,
            "grid_template_columns": null,
            "flex": null,
            "_model_name": "LayoutModel",
            "justify_items": null,
            "grid_row": null,
            "max_height": null,
            "align_content": null,
            "visibility": null,
            "align_self": null,
            "height": null,
            "min_height": null,
            "padding": null,
            "grid_auto_rows": null,
            "grid_gap": null,
            "max_width": null,
            "order": null,
            "_view_module_version": "1.2.0",
            "grid_template_areas": null,
            "object_position": null,
            "object_fit": null,
            "grid_auto_columns": null,
            "margin": null,
            "display": null,
            "left": null
          }
        },
        "48d021dc9c7749ac8d840e8da5eb2aff": {
          "model_module": "@jupyter-widgets/controls",
          "model_name": "LabelModel",
          "model_module_version": "1.5.0",
          "state": {
            "_view_name": "LabelView",
            "style": "IPY_MODEL_08f087d97db847bea6e38abe4137b19b",
            "_dom_classes": [],
            "description": "",
            "_model_name": "LabelModel",
            "placeholder": "​",
            "_view_module": "@jupyter-widgets/controls",
            "_model_module_version": "1.5.0",
            "value": " 208.23MB of 208.23MB uploaded (0.00MB deduped)\r",
            "_view_count": null,
            "_view_module_version": "1.5.0",
            "description_tooltip": null,
            "_model_module": "@jupyter-widgets/controls",
            "layout": "IPY_MODEL_1b8ed2e70eeb4adcabe0cc545bc0b3e5"
          }
        },
        "5dcfecf272e64845b6590da81f3129b7": {
          "model_module": "@jupyter-widgets/controls",
          "model_name": "FloatProgressModel",
          "model_module_version": "1.5.0",
          "state": {
            "_view_name": "ProgressView",
            "style": "IPY_MODEL_c018e5bda505452dab0b894a69d854d4",
            "_dom_classes": [],
            "description": "",
            "_model_name": "FloatProgressModel",
            "bar_style": "",
            "max": 1,
            "_view_module": "@jupyter-widgets/controls",
            "_model_module_version": "1.5.0",
            "value": 1,
            "_view_count": null,
            "_view_module_version": "1.5.0",
            "orientation": "horizontal",
            "min": 0,
            "description_tooltip": null,
            "_model_module": "@jupyter-widgets/controls",
            "layout": "IPY_MODEL_aa937e43358e48729b5de76bc1deafc4"
          }
        },
        "08f087d97db847bea6e38abe4137b19b": {
          "model_module": "@jupyter-widgets/controls",
          "model_name": "DescriptionStyleModel",
          "model_module_version": "1.5.0",
          "state": {
            "_view_name": "StyleView",
            "_model_name": "DescriptionStyleModel",
            "description_width": "",
            "_view_module": "@jupyter-widgets/base",
            "_model_module_version": "1.5.0",
            "_view_count": null,
            "_view_module_version": "1.2.0",
            "_model_module": "@jupyter-widgets/controls"
          }
        },
        "1b8ed2e70eeb4adcabe0cc545bc0b3e5": {
          "model_module": "@jupyter-widgets/base",
          "model_name": "LayoutModel",
          "model_module_version": "1.2.0",
          "state": {
            "_view_name": "LayoutView",
            "grid_template_rows": null,
            "right": null,
            "justify_content": null,
            "_view_module": "@jupyter-widgets/base",
            "overflow": null,
            "_model_module_version": "1.2.0",
            "_view_count": null,
            "flex_flow": null,
            "width": null,
            "min_width": null,
            "border": null,
            "align_items": null,
            "bottom": null,
            "_model_module": "@jupyter-widgets/base",
            "top": null,
            "grid_column": null,
            "overflow_y": null,
            "overflow_x": null,
            "grid_auto_flow": null,
            "grid_area": null,
            "grid_template_columns": null,
            "flex": null,
            "_model_name": "LayoutModel",
            "justify_items": null,
            "grid_row": null,
            "max_height": null,
            "align_content": null,
            "visibility": null,
            "align_self": null,
            "height": null,
            "min_height": null,
            "padding": null,
            "grid_auto_rows": null,
            "grid_gap": null,
            "max_width": null,
            "order": null,
            "_view_module_version": "1.2.0",
            "grid_template_areas": null,
            "object_position": null,
            "object_fit": null,
            "grid_auto_columns": null,
            "margin": null,
            "display": null,
            "left": null
          }
        },
        "c018e5bda505452dab0b894a69d854d4": {
          "model_module": "@jupyter-widgets/controls",
          "model_name": "ProgressStyleModel",
          "model_module_version": "1.5.0",
          "state": {
            "_view_name": "StyleView",
            "_model_name": "ProgressStyleModel",
            "description_width": "",
            "_view_module": "@jupyter-widgets/base",
            "_model_module_version": "1.5.0",
            "_view_count": null,
            "_view_module_version": "1.2.0",
            "bar_color": null,
            "_model_module": "@jupyter-widgets/controls"
          }
        },
        "aa937e43358e48729b5de76bc1deafc4": {
          "model_module": "@jupyter-widgets/base",
          "model_name": "LayoutModel",
          "model_module_version": "1.2.0",
          "state": {
            "_view_name": "LayoutView",
            "grid_template_rows": null,
            "right": null,
            "justify_content": null,
            "_view_module": "@jupyter-widgets/base",
            "overflow": null,
            "_model_module_version": "1.2.0",
            "_view_count": null,
            "flex_flow": null,
            "width": null,
            "min_width": null,
            "border": null,
            "align_items": null,
            "bottom": null,
            "_model_module": "@jupyter-widgets/base",
            "top": null,
            "grid_column": null,
            "overflow_y": null,
            "overflow_x": null,
            "grid_auto_flow": null,
            "grid_area": null,
            "grid_template_columns": null,
            "flex": null,
            "_model_name": "LayoutModel",
            "justify_items": null,
            "grid_row": null,
            "max_height": null,
            "align_content": null,
            "visibility": null,
            "align_self": null,
            "height": null,
            "min_height": null,
            "padding": null,
            "grid_auto_rows": null,
            "grid_gap": null,
            "max_width": null,
            "order": null,
            "_view_module_version": "1.2.0",
            "grid_template_areas": null,
            "object_position": null,
            "object_fit": null,
            "grid_auto_columns": null,
            "margin": null,
            "display": null,
            "left": null
          }
        }
      }
    }
  },
  "cells": [
    {
      "cell_type": "markdown",
      "metadata": {
        "id": "uuBZ0sSxrur1"
      },
      "source": [
        "# Model selection using transfer learning feature extraction\n",
        "\n",
        "This is the part 1 of three-part series:\n",
        "1. `Model selection`\n",
        "2. `Fine-tuning`\n",
        "3. `Evaluation`\n",
        "\n",
        "This notebook is the demonstration of choosing best model for covid-19 [dataset](https://www.kaggle.com/tawsifurrahman/covid19-radiography-database). The original dataset has more than two classes, however this notebook is only the modified version of the original dataset and that is the binary-class classification.\n",
        "\n",
        "All pre-trained models are imported from the [Tensorflow Hub](https://www.tensorflow.org/hub) repository, **specifically** for *Image classification* and *Image feature vector* from [tfhub.dev](https://tfhub.dev/).\n",
        "\n",
        "The four models are:\n",
        "* [Resnet50_V2](https://tfhub.dev/google/imagenet/resnet_v2_50/feature_vector/5)\n",
        "* [InceptionV3](https://tfhub.dev/google/imagenet/inception_v3/feature_vector/5)\n",
        "* [MobilenetV3](https://tfhub.dev/google/imagenet/mobilenet_v3_small_100_224/feature_vector/5)\n",
        "* [Inception_resnetV2](https://tfhub.dev/google/imagenet/inception_resnet_v2/feature_vector/5)\n",
        "\n"
      ]
    },
    {
      "cell_type": "markdown",
      "metadata": {
        "id": "0Td-_yuMBl9h"
      },
      "source": [
        "## First experiment: 50% training data\n",
        "\n",
        "This experiment is the 40-20% split from initial 80-20% data (might sound confusing, hang on for later).\n",
        "\n",
        "The first experiment has the following data size:\n",
        "* Total images - 8,285 (2,170 covid/6,115 normal)\n",
        "  * Traning images - 5,522 (1,446 covid/4,076 normal)\n",
        "  * Test images - 2,763 (724 covid/2,039 normal)\n",
        "\n",
        "Before moving on we need to import dependencies."
      ]
    },
    {
      "cell_type": "code",
      "metadata": {
        "execution": {
          "iopub.status.busy": "2021-11-06T09:41:33.130350Z",
          "iopub.execute_input": "2021-11-06T09:41:33.130703Z",
          "iopub.status.idle": "2021-11-06T09:41:39.816886Z",
          "shell.execute_reply.started": "2021-11-06T09:41:33.130626Z",
          "shell.execute_reply": "2021-11-06T09:41:39.815960Z"
        },
        "trusted": true,
        "id": "9Yx6prUk1KBs"
      },
      "source": [
        "import os\n",
        "import random\n",
        "import zipfile\n",
        "import pathlib\n",
        "import numpy as np\n",
        "import pandas as pd\n",
        "import matplotlib.pyplot as plt\n",
        "import matplotlib.image as mpimg\n",
        "\n",
        "# TensorFlow\n",
        "import tensorflow as tf\n",
        "import tensorflow_hub as hub\n",
        "from tensorflow.keras import layers\n",
        "from tensorflow.keras.preprocessing.image import ImageDataGenerator"
      ],
      "execution_count": 1,
      "outputs": []
    },
    {
      "cell_type": "code",
      "metadata": {
        "colab": {
          "base_uri": "https://localhost:8080/"
        },
        "id": "8qevDDx8JjOe",
        "outputId": "e40a55d3-e400-4887-8550-c107dd3c20f2"
      },
      "source": [
        "# Connect with drive\n",
        "from google.colab import drive\n",
        "drive.mount('/content/drive')"
      ],
      "execution_count": 2,
      "outputs": [
        {
          "output_type": "stream",
          "name": "stdout",
          "text": [
            "Mounted at /content/drive\n"
          ]
        }
      ]
    },
    {
      "cell_type": "code",
      "metadata": {
        "id": "FoFFfubrI51B"
      },
      "source": [
        "# # Install Weights & Biases if not installed\n",
        "# !pip install wandb"
      ],
      "execution_count": 6,
      "outputs": []
    },
    {
      "cell_type": "code",
      "metadata": {
        "id": "T8liPtf-Jarf"
      },
      "source": [
        "# Import W&B\n",
        "import wandb\n",
        "from wandb.keras import WandbCallback"
      ],
      "execution_count": 7,
      "outputs": []
    },
    {
      "cell_type": "markdown",
      "metadata": {
        "id": "ThLh7lRMPCiw"
      },
      "source": [
        "### Loading the data\n",
        "\n",
        "**Note:** Make sure the directory path(s) are correct."
      ]
    },
    {
      "cell_type": "code",
      "metadata": {
        "id": "aVZg9HzFuCHp",
        "execution": {
          "iopub.status.busy": "2021-11-06T09:41:39.820090Z",
          "iopub.execute_input": "2021-11-06T09:41:39.821527Z",
          "iopub.status.idle": "2021-11-06T09:41:39.824882Z",
          "shell.execute_reply.started": "2021-11-06T09:41:39.821484Z",
          "shell.execute_reply": "2021-11-06T09:41:39.824214Z"
        },
        "trusted": true
      },
      "source": [
        "# Unzip 50% data file from google drive (uncomment the cell & set the right path if using colab)\n",
        "zip_ref = zipfile.ZipFile(\"/content/drive/MyDrive/Colab Notebooks/covid_ready_dataset/covid_radiography_50_percent.zip\")\n",
        "zip_ref.extractall()\n",
        "zip_ref.close()"
      ],
      "execution_count": 8,
      "outputs": []
    },
    {
      "cell_type": "markdown",
      "metadata": {
        "id": "wzb1lpmpFIyt"
      },
      "source": [
        "### Inspect the data\n",
        "\n",
        "This file structure is formatted to typical format for working with images.\n",
        "\n",
        "More specifically:\n",
        "* `train` directory contains all of the images in the training dataset with subdirectories each named after a certain class (`covid` & `normal`) containing images of that class.\n",
        "* `test` directory with the same structure as the `train` directory.\n",
        "\n",
        "```\n",
        "Example for file structure\n",
        "\n",
        "covid_normal <- top level folder\n",
        "└───train <- training images\n",
        "│   └───covid\n",
        "│   │   │   covid-1.jpg\n",
        "│   │   │   covid-2.jpg\n",
        "│   │   │   ...      \n",
        "│   └───normal\n",
        "│       │   normal-1.jpg\n",
        "│       │   normal-2.jpg\n",
        "│       │   ...\n",
        "│   \n",
        "└───test <- testing images\n",
        "│   └───covid\n",
        "│   │   │   covid-50.jpg\n",
        "│   │   │   covid-51.jpg\n",
        "│   │   │   ...      \n",
        "│   └───normal\n",
        "│       │   normal-50.jpg\n",
        "│       │   normal-51.jpg\n",
        "│       │   ...    \n",
        "```\n",
        "\n",
        "We can now inspect each of the available directories."
      ]
    },
    {
      "cell_type": "code",
      "metadata": {
        "id": "6bIKfDL5u0K9",
        "execution": {
          "iopub.status.busy": "2021-11-06T09:41:39.826263Z",
          "iopub.execute_input": "2021-11-06T09:41:39.826623Z",
          "iopub.status.idle": "2021-11-06T09:41:45.160304Z",
          "shell.execute_reply.started": "2021-11-06T09:41:39.826591Z",
          "shell.execute_reply": "2021-11-06T09:41:45.159582Z"
        },
        "trusted": true,
        "colab": {
          "base_uri": "https://localhost:8080/"
        },
        "outputId": "d2a636df-42a5-46e4-f836-4aa30f3bbc43"
      },
      "source": [
        "# How many images in each folder\n",
        "# Walk through 50 percent data directory and list number of files\n",
        "for dirpath, dirnames, filenames in os.walk(\"/content/covid_radiography_50_percent\"):\n",
        "  print(f\"there are {len(dirnames)} directories and {len(filenames)} images in '{dirpath}'.\")"
      ],
      "execution_count": 9,
      "outputs": [
        {
          "output_type": "stream",
          "name": "stdout",
          "text": [
            "there are 2 directories and 0 images in '/content/covid_radiography_50_percent'.\n",
            "there are 2 directories and 0 images in '/content/covid_radiography_50_percent/test'.\n",
            "there are 0 directories and 2039 images in '/content/covid_radiography_50_percent/test/normal'.\n",
            "there are 0 directories and 724 images in '/content/covid_radiography_50_percent/test/covid'.\n",
            "there are 2 directories and 0 images in '/content/covid_radiography_50_percent/train'.\n",
            "there are 0 directories and 4076 images in '/content/covid_radiography_50_percent/train/normal'.\n",
            "there are 0 directories and 1446 images in '/content/covid_radiography_50_percent/train/covid'.\n"
          ]
        }
      ]
    },
    {
      "cell_type": "code",
      "metadata": {
        "id": "zckcn2kpxXX4",
        "execution": {
          "iopub.status.busy": "2021-11-06T09:41:45.161712Z",
          "iopub.execute_input": "2021-11-06T09:41:45.162125Z",
          "iopub.status.idle": "2021-11-06T09:41:45.169738Z",
          "shell.execute_reply.started": "2021-11-06T09:41:45.162086Z",
          "shell.execute_reply": "2021-11-06T09:41:45.169051Z"
        },
        "trusted": true,
        "colab": {
          "base_uri": "https://localhost:8080/"
        },
        "outputId": "f1e7a691-e15d-49c0-9428-36baa1bdda4f"
      },
      "source": [
        "# Get the class names\n",
        "data_dir = pathlib.Path('/content/covid_radiography_50_percent/train')\n",
        "class_names = np.array([item.name for item in data_dir.glob('*')])\n",
        "print(class_names)"
      ],
      "execution_count": 10,
      "outputs": [
        {
          "output_type": "stream",
          "name": "stdout",
          "text": [
            "['normal' 'covid']\n"
          ]
        }
      ]
    },
    {
      "cell_type": "markdown",
      "metadata": {
        "id": "Y3BMrca1HxC4"
      },
      "source": [
        "Visualize an image for better understanding of our data."
      ]
    },
    {
      "cell_type": "code",
      "metadata": {
        "id": "RAueUD71yDbC",
        "execution": {
          "iopub.status.busy": "2021-11-06T09:41:45.172334Z",
          "iopub.execute_input": "2021-11-06T09:41:45.173197Z",
          "iopub.status.idle": "2021-11-06T09:41:45.181102Z",
          "shell.execute_reply.started": "2021-11-06T09:41:45.173160Z",
          "shell.execute_reply": "2021-11-06T09:41:45.180430Z"
        },
        "trusted": true
      },
      "source": [
        "# Create function to view a random image\n",
        "def view_random_image(target_dir, target_class):\n",
        "  # setup target directory\n",
        "  target_folder = target_dir + \"/\" +target_class\n",
        "  print(target_folder)\n",
        "\n",
        "  # Get a random image path\n",
        "  random_image = random.sample(os.listdir(target_folder), 1)\n",
        "\n",
        "  # Read in the image and plot it using matplotlib\n",
        "  img = mpimg.imread(target_folder + '/' + random_image[0])\n",
        "  plt.imshow(img)\n",
        "  plt.title(target_class)\n",
        "  plt.axis('off')\n",
        "  \n",
        "  print(f'Image shape: {img.shape}')  # show the shape of the image\n",
        "\n",
        "  return img"
      ],
      "execution_count": 11,
      "outputs": []
    },
    {
      "cell_type": "code",
      "metadata": {
        "id": "vVB9WqYIzI6P",
        "execution": {
          "iopub.status.busy": "2021-11-06T09:41:45.182609Z",
          "iopub.execute_input": "2021-11-06T09:41:45.182888Z",
          "iopub.status.idle": "2021-11-06T09:41:45.396374Z",
          "shell.execute_reply.started": "2021-11-06T09:41:45.182851Z",
          "shell.execute_reply": "2021-11-06T09:41:45.395714Z"
        },
        "trusted": true,
        "colab": {
          "base_uri": "https://localhost:8080/",
          "height": 298
        },
        "outputId": "ace4a21f-d3b8-43d6-98eb-2975d146f743"
      },
      "source": [
        "# View a random image from training dataset\n",
        "img = view_random_image(target_dir='/content/covid_radiography_50_percent/train',\n",
        "                        target_class='covid')"
      ],
      "execution_count": 12,
      "outputs": [
        {
          "output_type": "stream",
          "name": "stdout",
          "text": [
            "/content/covid_radiography_50_percent/train/covid\n",
            "Image shape: (299, 299)\n"
          ]
        },
        {
          "output_type": "display_data",
          "data": {
            "image/png": "[encoded data removed]",
            "text/plain": [
              "<Figure size 432x288 with 1 Axes>"
            ]
          },
          "metadata": {
            "needs_background": "light"
          }
        }
      ]
    },
    {
      "cell_type": "code",
      "metadata": {
        "id": "pV8k0iP1zUa5",
        "execution": {
          "iopub.status.busy": "2021-11-06T09:41:45.397284Z",
          "iopub.execute_input": "2021-11-06T09:41:45.397532Z",
          "iopub.status.idle": "2021-11-06T09:41:45.404590Z",
          "shell.execute_reply.started": "2021-11-06T09:41:45.397499Z",
          "shell.execute_reply": "2021-11-06T09:41:45.403786Z"
        },
        "trusted": true,
        "colab": {
          "base_uri": "https://localhost:8080/"
        },
        "outputId": "769c09e6-b0d1-4cbd-ea2e-6a663c1762f5"
      },
      "source": [
        "# view the img (it is a 2D array)\n",
        "img"
      ],
      "execution_count": 13,
      "outputs": [
        {
          "output_type": "execute_result",
          "data": {
            "text/plain": [
              "array([[0.18431373, 0.1254902 , 0.09411765, ..., 0.10588235, 0.11764706,\n",
              "        0.14117648],\n",
              "       [0.11372549, 0.05882353, 0.02745098, ..., 0.03529412, 0.04705882,\n",
              "        0.07058824],\n",
              "       [0.09019608, 0.04705882, 0.01960784, ..., 0.01176471, 0.02745098,\n",
              "        0.04705882],\n",
              "       ...,\n",
              "       [0.58431375, 0.52156866, 0.5137255 , ..., 0.1882353 , 0.2627451 ,\n",
              "        0.42745098],\n",
              "       [0.7764706 , 0.7647059 , 0.76862746, ..., 0.43529412, 0.5058824 ,\n",
              "        0.59607846],\n",
              "       [0.83137256, 0.8509804 , 0.85490197, ..., 0.7372549 , 0.7411765 ,\n",
              "        0.7019608 ]], dtype=float32)"
            ]
          },
          "metadata": {},
          "execution_count": 13
        }
      ]
    },
    {
      "cell_type": "code",
      "metadata": {
        "id": "n-oaLNxbz2q9",
        "execution": {
          "iopub.status.busy": "2021-11-06T09:41:45.405924Z",
          "iopub.execute_input": "2021-11-06T09:41:45.406735Z",
          "iopub.status.idle": "2021-11-06T09:41:45.413681Z",
          "shell.execute_reply.started": "2021-11-06T09:41:45.406692Z",
          "shell.execute_reply": "2021-11-06T09:41:45.412778Z"
        },
        "trusted": true,
        "colab": {
          "base_uri": "https://localhost:8080/"
        },
        "outputId": "c6971a44-6569-4b74-b6af-7044e889e5fa"
      },
      "source": [
        "# View rescaled img values\n",
        "img/255."
      ],
      "execution_count": 14,
      "outputs": [
        {
          "output_type": "execute_result",
          "data": {
            "text/plain": [
              "array([[7.2279893e-04, 4.9211847e-04, 3.6908881e-04, ..., 4.1522493e-04,\n",
              "        4.6136102e-04, 5.5363326e-04],\n",
              "       [4.4598232e-04, 2.3068051e-04, 1.0765091e-04, ..., 1.3840832e-04,\n",
              "        1.8454441e-04, 2.7681663e-04],\n",
              "       [3.5371011e-04, 1.8454441e-04, 7.6893506e-05, ..., 4.6136101e-05,\n",
              "        1.0765091e-04, 1.8454441e-04],\n",
              "       ...,\n",
              "       [2.2914265e-03, 2.0453674e-03, 2.0146100e-03, ..., 7.3817762e-04,\n",
              "        1.0303730e-03, 1.6762784e-03],\n",
              "       [3.0449827e-03, 2.9988466e-03, 3.0142253e-03, ..., 1.7070358e-03,\n",
              "        1.9838526e-03, 2.3375626e-03],\n",
              "       [3.2602844e-03, 3.3371781e-03, 3.3525568e-03, ..., 2.8911957e-03,\n",
              "        2.9065744e-03, 2.7527874e-03]], dtype=float32)"
            ]
          },
          "metadata": {},
          "execution_count": 14
        }
      ]
    },
    {
      "cell_type": "markdown",
      "metadata": {
        "id": "odRdubzrItwd"
      },
      "source": [
        "Notice the image is grayscale `(Height, Width)` but the pre-trained models are trained on rgb images `(Hight, Width, Channels)`. The models won't accept grayscale images so we have to deal with this issue. A workaround is by duplicating color channel of grayscale image 3 times when loading it to *flow_from_directory* and that is what the parameter `color_mode` is doing under the hood when we set it to `rgb` instead of `grayscale`.\n",
        "\n",
        "Another thing to consider that none of the pre-trained models has pre-built rescaling function, so we ensure that images are rescaled."
      ]
    },
    {
      "cell_type": "markdown",
      "metadata": {
        "id": "ucEhn44qPeR1"
      },
      "source": [
        "### Creating data loaders\n",
        "\n",
        "Now we have the data, let's use the [ImageDataGenerator](https://www.tensorflow.org/api_docs/python/tf/keras/preprocessing/image/ImageDataGenerator) class along with the `flow_from_directory` method to load in images."
      ]
    },
    {
      "cell_type": "code",
      "metadata": {
        "id": "2M9ZOf7822xG",
        "execution": {
          "iopub.status.busy": "2021-11-06T09:41:45.415075Z",
          "iopub.execute_input": "2021-11-06T09:41:45.415559Z",
          "iopub.status.idle": "2021-11-06T09:41:46.308149Z",
          "shell.execute_reply.started": "2021-11-06T09:41:45.415501Z",
          "shell.execute_reply": "2021-11-06T09:41:46.307347Z"
        },
        "trusted": true,
        "colab": {
          "base_uri": "https://localhost:8080/"
        },
        "outputId": "1ee96266-679a-4d7a-c49e-f6a653d9c439"
      },
      "source": [
        "# Set image size\n",
        "IMG_SIZE = (224, 224)\n",
        "\n",
        "# Set up directory paths\n",
        "train_dir = '/content/covid_radiography_50_percent/train'\n",
        "test_dir = '/content/covid_radiography_50_percent/test'\n",
        "\n",
        "# Preprocess data and rescale images\n",
        "train_datagen = ImageDataGenerator(rescale=1/255.)\n",
        "test_datagen = ImageDataGenerator(rescale=1/255.)\n",
        "\n",
        "# Import data from directories and turn it into batches (default batch is 32)\n",
        "train_data_50_percent = train_datagen.flow_from_directory(train_dir,\n",
        "                                                         target_size=IMG_SIZE,  # covert images to 224 x 224\n",
        "                                                         class_mode='binary',\n",
        "                                                         color_mode='rgb',  # covert grayscale to rgb\n",
        "                                                         seed=42)\n",
        "\n",
        "test_data = test_datagen.flow_from_directory(test_dir,\n",
        "                                             target_size=IMG_SIZE,\n",
        "                                             class_mode='binary',\n",
        "                                             color_mode='rgb',  # covert grayscale to rgb\n",
        "                                             seed=42)"
      ],
      "execution_count": 15,
      "outputs": [
        {
          "output_type": "stream",
          "name": "stdout",
          "text": [
            "Found 5522 images belonging to 2 classes.\n",
            "Found 2763 images belonging to 2 classes.\n"
          ]
        }
      ]
    },
    {
      "cell_type": "markdown",
      "metadata": {
        "id": "8EDzFeXuQi8g"
      },
      "source": [
        "Loading in the data we see there are 5522 images in the training dataset belonging to 2 classes (1,446 covid/4,076 normal) and 2763 images in the test set 2,763 (724 covid/2,039 normal)."
      ]
    },
    {
      "cell_type": "markdown",
      "metadata": {
        "id": "ytDXfzVgUMmW"
      },
      "source": [
        "### Creating models using TensorFlow Hub\n",
        "\n",
        "TensorFlow Hub offers many state of the art models to use from the shelf, leveraging the benefits of transfer learning and after going to some research papers about model experimentation on Covid-19 images (CXR) I decide to use following models for our experiments.\n",
        "\n",
        "One important point to notice that we choose feature vector models so we can apply feature extraction transfer learning.\n",
        "\n",
        "Let's get the feature vector URLs of models we are going to use.\n"
      ]
    },
    {
      "cell_type": "code",
      "metadata": {
        "id": "zJtiXLOaC8y6",
        "execution": {
          "iopub.status.busy": "2021-11-06T09:41:46.309315Z",
          "iopub.execute_input": "2021-11-06T09:41:46.309582Z",
          "iopub.status.idle": "2021-11-06T09:41:46.314821Z",
          "shell.execute_reply.started": "2021-11-06T09:41:46.309545Z",
          "shell.execute_reply": "2021-11-06T09:41:46.313885Z"
        },
        "trusted": true
      },
      "source": [
        "# MobileNetV3 feature vector\n",
        "mobilenet_url = 'https://tfhub.dev/google/imagenet/mobilenet_v3_small_100_224/feature_vector/5'\n",
        "\n",
        "# ResNet50 V2 feature vector\n",
        "resnet_url = 'https://tfhub.dev/google/imagenet/resnet_v2_50/feature_vector/5'\n",
        "\n",
        "# InceptionV3 feature vector\n",
        "inception_url = 'https://tfhub.dev/google/imagenet/inception_v3/feature_vector/5'\n",
        "\n",
        "# Inception_ResnetV2\n",
        "inception_resnet_url = 'https://tfhub.dev/google/imagenet/inception_resnet_v2/feature_vector/5'"
      ],
      "execution_count": 16,
      "outputs": []
    },
    {
      "cell_type": "markdown",
      "metadata": {
        "id": "KLRuag6nXw72"
      },
      "source": [
        "Since we're going to be comparing four models, we create a function `create_model()`. This function will take a model's TensorFlow Hub URL, instatiate a Keras Sequential model with the appropriate number of output layers and return the model."
      ]
    },
    {
      "cell_type": "code",
      "metadata": {
        "id": "79GwpE8tqblc",
        "execution": {
          "iopub.status.busy": "2021-11-06T09:41:46.316259Z",
          "iopub.execute_input": "2021-11-06T09:41:46.317105Z",
          "iopub.status.idle": "2021-11-06T09:41:46.324565Z",
          "shell.execute_reply.started": "2021-11-06T09:41:46.317009Z",
          "shell.execute_reply": "2021-11-06T09:41:46.323818Z"
        },
        "trusted": true
      },
      "source": [
        "# Model definition\n",
        "def create_model(model_url):\n",
        "  \"\"\"\n",
        "  Takes a TensorFlow Hub URL and creates a Keras Sequential model with it.\n",
        "  \n",
        "  Args:\n",
        "    model_url (str): A TensorFlow Hub feature extraction URL.\n",
        "\n",
        "  Returns:\n",
        "    An compiled Keras Sequential model with model_url as feature\n",
        "    extractor layer and Dense output layer with 1 output.\n",
        "  \"\"\"\n",
        "  # Download the pretrained model and save it as a keras layer\n",
        "  feature_extractor_layer = hub.KerasLayer(model_url,\n",
        "                                           trainable=False,  # freeze the underlying patterns\n",
        "                                           name='feature_extraction_layer',\n",
        "                                           input_shape=IMG_SIZE+(3,))  # since the shape now has duplicated by 3x\n",
        "  \n",
        "  # Create model\n",
        "  model = tf.keras.Sequential([\n",
        "        feature_extractor_layer,  # use the feature extraction layer as the base\n",
        "        layers.Dense(1, activation='sigmoid', name='output_layer')  # create customize output layer\n",
        "  ])\n",
        "\n",
        "  return model"
      ],
      "execution_count": 17,
      "outputs": []
    },
    {
      "cell_type": "markdown",
      "metadata": {
        "id": "n0l8xZYvaIXZ"
      },
      "source": [
        "Now we've got a function for creating a model. It is time to compile and fit the model.\n",
        "\n",
        "Before that we'll set our callbacks function first."
      ]
    },
    {
      "cell_type": "markdown",
      "metadata": {
        "id": "5fjytuxl1KB_"
      },
      "source": [
        "### Setting up callbacks\n",
        "\n",
        "Before we build a model, we want to create a Keras [Callbacks](https://keras.io/api/callbacks/) to track our models building experiments.\n",
        "\n",
        "Experiment tracking with [Weights & Biases](https://wandb.ai/site) - log the performance of multiple models and then view and compare these models in a visual way on [WandB Dashboard](https://wandb.ai/site/dashboard) (a dashboard for inspecting neural network parameters). Helpful to compare the results of different models on our data.\n",
        "\n",
        "We first initialize our wandb run `.init`, there we need to set our hyperparameters. They're passed in as a dictionary via the `config` argument, and then become available as the `config` attribute of `wandb`.\n",
        "\n",
        "**Note:** We will need to`pip install wandb` if it is not already installed."
      ]
    },
    {
      "cell_type": "code",
      "metadata": {
        "execution": {
          "iopub.status.busy": "2021-11-06T09:41:46.325558Z",
          "iopub.execute_input": "2021-11-06T09:41:46.327534Z",
          "iopub.status.idle": "2021-11-06T09:42:32.135812Z",
          "shell.execute_reply.started": "2021-11-06T09:41:46.327497Z",
          "shell.execute_reply": "2021-11-06T09:42:32.135008Z"
        },
        "trusted": true,
        "id": "JSURVLL21KB_",
        "colab": {
          "base_uri": "https://localhost:8080/",
          "height": 272
        },
        "outputId": "58172c79-c5e9-4c3b-a486-6bf825ef6960"
      },
      "source": [
        "# Initialize wandb with our project name\n",
        "run = wandb.init(project='MobileNetV3 vs. ResNetV2 vs. InceptionV3 vs. Inception_ResNetV2',\n",
        "                 config={  # include hyperparameters and metadata\n",
        "                     \"learning_rate\": 0.001,  # Adam default learning rate\n",
        "                     \"epochs\": 5,\n",
        "                     \"batch_size\": 32,  # default batch size\n",
        "                     \"loss_function\": \"binary_crossentropy\",\n",
        "                     \"architecture\": \"MobileNetV3\",\n",
        "                     \"dataset\": \"Covid-19 CXR 50 Percent Data\"\n",
        "                 })\n",
        "config = wandb.config  # We'll use this to configure our experiment\n",
        "\n",
        "# Initialize mobilenet model\n",
        "tf.keras.backend.clear_session()\n",
        "mobilenet_model = create_model(mobilenet_url)\n",
        "mobilenet_model.summary()\n",
        "\n",
        "# Compile the model\n",
        "# Notice that we use config, so our metadata matches what gets executed\n",
        "optimizer = tf.keras.optimizers.Adam(config.learning_rate) \n",
        "mobilenet_model.compile(optimizer, config.loss_function, metrics=['accuracy'])"
      ],
      "execution_count": 18,
      "outputs": [
        {
          "output_type": "display_data",
          "data": {
            "application/javascript": [
              "\n",
              "        window._wandbApiKey = new Promise((resolve, reject) => {\n",
              "            function loadScript(url) {\n",
              "            return new Promise(function(resolve, reject) {\n",
              "                let newScript = document.createElement(\"script\");\n",
              "                newScript.onerror = reject;\n",
              "                newScript.onload = resolve;\n",
              "                document.body.appendChild(newScript);\n",
              "                newScript.src = url;\n",
              "            });\n",
              "            }\n",
              "            loadScript(\"https://cdn.jsdelivr.net/npm/postmate/build/postmate.min.js\").then(() => {\n",
              "            const iframe = document.createElement('iframe')\n",
              "            iframe.style.cssText = \"width:0;height:0;border:none\"\n",
              "            document.body.appendChild(iframe)\n",
              "            const handshake = new Postmate({\n",
              "                container: iframe,\n",
              "                url: 'https://wandb.ai/authorize'\n",
              "            });\n",
              "            const timeout = setTimeout(() => reject(\"Couldn't auto authenticate\"), 5000)\n",
              "            handshake.then(function(child) {\n",
              "                child.on('authorize', data => {\n",
              "                    clearTimeout(timeout)\n",
              "                    resolve(data)\n",
              "                });\n",
              "            });\n",
              "            })\n",
              "        });\n",
              "    "
            ],
            "text/plain": [
              "<IPython.core.display.Javascript object>"
            ]
          },
          "metadata": {}
        },
        {
          "output_type": "stream",
          "name": "stderr",
          "text": [
            "\u001b[34m\u001b[1mwandb\u001b[0m: Appending key for api.wandb.ai to your netrc file: /root/.netrc\n"
          ]
        },
        {
          "output_type": "display_data",
          "data": {
            "text/html": [
              "\n",
              "                    Syncing run <strong><a href=\"https://wandb.ai/awon08/MobileNetV3%20vs.%20ResNetV2%20vs.%20InceptionV3%20vs.%20Inception_ResNetV2/runs/6blqtr0e\" target=\"_blank\">dry-bee-1</a></strong> to <a href=\"https://wandb.ai/awon08/MobileNetV3%20vs.%20ResNetV2%20vs.%20InceptionV3%20vs.%20Inception_ResNetV2\" target=\"_blank\">Weights & Biases</a> (<a href=\"https://docs.wandb.com/integrations/jupyter.html\" target=\"_blank\">docs</a>).<br/>\n",
              "\n",
              "                "
            ],
            "text/plain": [
              "<IPython.core.display.HTML object>"
            ]
          },
          "metadata": {}
        },
        {
          "output_type": "stream",
          "name": "stdout",
          "text": [
            "Model: \"sequential\"\n",
            "_________________________________________________________________\n",
            "Layer (type)                 Output Shape              Param #   \n",
            "=================================================================\n",
            "feature_extraction_layer (Ke (None, 1024)              1529968   \n",
            "_________________________________________________________________\n",
            "output_layer (Dense)         (None, 1)                 1025      \n",
            "=================================================================\n",
            "Total params: 1,530,993\n",
            "Trainable params: 1,025\n",
            "Non-trainable params: 1,529,968\n",
            "_________________________________________________________________\n"
          ]
        }
      ]
    },
    {
      "cell_type": "markdown",
      "metadata": {
        "id": "3-04Jdiua9Hn"
      },
      "source": [
        "#### MobileNetV3 (50% data)"
      ]
    },
    {
      "cell_type": "code",
      "metadata": {
        "id": "tr-4_nrbsFBM",
        "execution": {
          "iopub.status.busy": "2021-11-06T09:42:32.137126Z",
          "iopub.execute_input": "2021-11-06T09:42:32.138003Z",
          "iopub.status.idle": "2021-11-06T09:45:03.660344Z",
          "shell.execute_reply.started": "2021-11-06T09:42:32.137962Z",
          "shell.execute_reply": "2021-11-06T09:45:03.659586Z"
        },
        "trusted": true,
        "colab": {
          "base_uri": "https://localhost:8080/"
        },
        "outputId": "881d9abf-16dd-4b3a-f49a-4d1aa4eedbe7"
      },
      "source": [
        "# Fit the model\n",
        "mobilenet_history = mobilenet_model.fit(train_data_50_percent,\n",
        "                                        epochs=config.epochs,  # use config we created earlier\n",
        "                                        batch_size=config.batch_size,  # same here\n",
        "                                        steps_per_epoch=len(train_data_50_percent),\n",
        "                                        validation_data=test_data,\n",
        "                                        # go through less of the validation data so epochs are faster\n",
        "                                        validation_steps=int(0.15*len(test_data)),\n",
        "                                        # notice WandCallback is used as a regular callback and again we use config to set hyperparameters\n",
        "                                        callbacks=[WandbCallback()])"
      ],
      "execution_count": 19,
      "outputs": [
        {
          "output_type": "stream",
          "name": "stdout",
          "text": [
            "Epoch 1/5\n",
            "173/173 [==============================] - 54s 120ms/step - loss: 0.3455 - accuracy: 0.8629 - val_loss: 0.2594 - val_accuracy: 0.9062\n",
            "Epoch 2/5\n",
            "173/173 [==============================] - 20s 116ms/step - loss: 0.2340 - accuracy: 0.9171 - val_loss: 0.2058 - val_accuracy: 0.9375\n",
            "Epoch 3/5\n",
            "173/173 [==============================] - 20s 115ms/step - loss: 0.1956 - accuracy: 0.9305 - val_loss: 0.1831 - val_accuracy: 0.9399\n",
            "Epoch 4/5\n",
            "173/173 [==============================] - 20s 116ms/step - loss: 0.1742 - accuracy: 0.9388 - val_loss: 0.1522 - val_accuracy: 0.9423\n",
            "Epoch 5/5\n",
            "173/173 [==============================] - 20s 115ms/step - loss: 0.1599 - accuracy: 0.9440 - val_loss: 0.1430 - val_accuracy: 0.9663\n"
          ]
        }
      ]
    },
    {
      "cell_type": "markdown",
      "metadata": {
        "id": "J_MD9xTebPbf"
      },
      "source": [
        "It seems that after only 5 epochs, MobileNetV3 feature extraction model is able to achieve ~95% accuracy.\n",
        "\n",
        "Let's check the loss curves. We create a function to plot model loss curves which will be helpful for use again for all other models as well."
      ]
    },
    {
      "cell_type": "code",
      "metadata": {
        "id": "I4tN1bRw_iA2",
        "execution": {
          "iopub.status.busy": "2021-11-06T09:45:03.664498Z",
          "iopub.execute_input": "2021-11-06T09:45:03.664705Z",
          "iopub.status.idle": "2021-11-06T09:45:03.674115Z",
          "shell.execute_reply.started": "2021-11-06T09:45:03.664680Z",
          "shell.execute_reply": "2021-11-06T09:45:03.673395Z"
        },
        "trusted": true
      },
      "source": [
        "# plot the loss curves\n",
        "def plot_loss_curves(history):\n",
        "  \"\"\"\n",
        "  Args:\n",
        "    history: Takes model saved history logs\n",
        "  Returns:\n",
        "    Separate loss curves for training and validation metrics.\n",
        "  \"\"\"\n",
        "  loss = history.history['loss']\n",
        "  val_loss = history.history['val_loss']\n",
        "\n",
        "  accuracy = history.history['accuracy']\n",
        "  val_accuracy = history.history['val_accuracy']\n",
        "\n",
        "  epochs = range(len(history.history['loss']))\n",
        "\n",
        "  # Plot loss\n",
        "  plt.plot(epochs, loss, label='training_loss')\n",
        "  plt.plot(epochs, val_loss, label='val_loss')\n",
        "  plt.title('Loss')\n",
        "  plt.xlabel('epochs')\n",
        "  plt.legend()\n",
        "\n",
        "  # Plot accuracy\n",
        "  plt.figure()\n",
        "  plt.plot(epochs, accuracy, label='training_accuracy')\n",
        "  plt.plot(epochs, val_accuracy, label='val_accuracy')\n",
        "  plt.title('Accuracy')\n",
        "  plt.xlabel('epochs')\n",
        "  plt.legend();"
      ],
      "execution_count": 20,
      "outputs": []
    },
    {
      "cell_type": "code",
      "metadata": {
        "id": "cowk-vd3WWzg",
        "execution": {
          "iopub.status.busy": "2021-11-06T09:45:03.677059Z",
          "iopub.execute_input": "2021-11-06T09:45:03.677488Z",
          "iopub.status.idle": "2021-11-06T09:45:04.114128Z",
          "shell.execute_reply.started": "2021-11-06T09:45:03.677453Z",
          "shell.execute_reply": "2021-11-06T09:45:04.113422Z"
        },
        "trusted": true,
        "colab": {
          "base_uri": "https://localhost:8080/",
          "height": 573
        },
        "outputId": "3150554b-cfc0-4bb5-c4b7-1f657c8f9321"
      },
      "source": [
        "plot_loss_curves(mobilenet_history)"
      ],
      "execution_count": 21,
      "outputs": [
        {
          "output_type": "display_data",
          "data": {
            "image/png": "[encoded data removed]",
            "text/plain": [
              "<Figure size 432x288 with 1 Axes>"
            ]
          },
          "metadata": {
            "needs_background": "light"
          }
        },
        {
          "output_type": "display_data",
          "data": {
            "image/png": "[encoded data removed]",
            "text/plain": [
              "<Figure size 432x288 with 1 Axes>"
            ]
          },
          "metadata": {
            "needs_background": "light"
          }
        }
      ]
    },
    {
      "cell_type": "markdown",
      "metadata": {
        "id": "83hxdIpldiXQ"
      },
      "source": [
        "The loss is still going down and accuracy to going up, which is a good sign that the model could improve if we would have left the training for longer.\n",
        "\n",
        "Let's evaluate the model on whole test set. We also want to indicate that our run is completed using `run.finish()`."
      ]
    },
    {
      "cell_type": "code",
      "metadata": {
        "id": "UNTngLxE-cQ1",
        "execution": {
          "iopub.status.busy": "2021-11-06T09:45:04.115512Z",
          "iopub.execute_input": "2021-11-06T09:45:04.115784Z",
          "iopub.status.idle": "2021-11-06T09:45:22.294053Z",
          "shell.execute_reply.started": "2021-11-06T09:45:04.115748Z",
          "shell.execute_reply": "2021-11-06T09:45:22.293306Z"
        },
        "trusted": true,
        "colab": {
          "base_uri": "https://localhost:8080/",
          "height": 345,
          "referenced_widgets": [
            "b0b19394c34a49a996f65cc40211ac08",
            "1eab3ab9f60b4f2b8ad13eafb76f92b7",
            "8f5ad4ee5640436fb7e17c450f46b330",
            "c161eb19c0a94d3486ee86a7efe0d4bb",
            "108d1539477c4e08bf80bf0d7171ab90",
            "b2199479f5d146f9b223860c2685fcb8",
            "9d584463f9634f2ba49432f26e120892",
            "78a79756cc164ad1872a1260228ee178"
          ]
        },
        "outputId": "30fb280b-4d84-4319-ebb0-784a2e25c723"
      },
      "source": [
        "# Evaluate mobilenet on whole test set\n",
        "mobilenet_loss, mobilenet_acc = mobilenet_model.evaluate(test_data)\n",
        "\n",
        "# Experiment completed\n",
        "run.finish()"
      ],
      "execution_count": 22,
      "outputs": [
        {
          "output_type": "stream",
          "name": "stdout",
          "text": [
            "87/87 [==============================] - 10s 112ms/step - loss: 0.1662 - accuracy: 0.9443\n"
          ]
        },
        {
          "output_type": "display_data",
          "data": {
            "text/html": [
              "<br/>Waiting for W&B process to finish, PID 357... <strong style=\"color:green\">(success).</strong>"
            ],
            "text/plain": [
              "<IPython.core.display.HTML object>"
            ]
          },
          "metadata": {}
        },
        {
          "output_type": "display_data",
          "data": {
            "application/vnd.jupyter.widget-view+json": {
              "model_id": "b0b19394c34a49a996f65cc40211ac08",
              "version_minor": 0,
              "version_major": 2
            },
            "text/plain": [
              "VBox(children=(Label(value=' 6.05MB of 6.05MB uploaded (0.00MB deduped)\\r'), FloatProgress(value=1.0, max=1.0)…"
            ]
          },
          "metadata": {}
        },
        {
          "output_type": "display_data",
          "data": {
            "text/html": [
              "<style>\n",
              "    table.wandb td:nth-child(1) { padding: 0 10px; text-align: right }\n",
              "    .wandb-row { display: flex; flex-direction: row; flex-wrap: wrap; width: 100% }\n",
              "    .wandb-col { display: flex; flex-direction: column; flex-basis: 100%; flex: 1; padding: 10px; }\n",
              "    </style>\n",
              "<div class=\"wandb-row\"><div class=\"wandb-col\">\n",
              "<h3>Run history:</h3><br/><table class=\"wandb\"><tr><td>accuracy</td><td>▁▆▇██</td></tr><tr><td>epoch</td><td>▁▃▅▆█</td></tr><tr><td>loss</td><td>█▄▂▂▁</td></tr><tr><td>val_accuracy</td><td>▁▅▅▅█</td></tr><tr><td>val_loss</td><td>█▅▃▂▁</td></tr></table><br/></div><div class=\"wandb-col\">\n",
              "<h3>Run summary:</h3><br/><table class=\"wandb\"><tr><td>accuracy</td><td>0.94404</td></tr><tr><td>best_epoch</td><td>4</td></tr><tr><td>best_val_loss</td><td>0.14304</td></tr><tr><td>epoch</td><td>4</td></tr><tr><td>loss</td><td>0.15993</td></tr><tr><td>val_accuracy</td><td>0.96635</td></tr><tr><td>val_loss</td><td>0.14304</td></tr></table>\n",
              "</div></div>\n",
              "Synced 5 W&B file(s), 1 media file(s), 0 artifact file(s) and 1 other file(s)\n",
              "<br/>Synced <strong style=\"color:#cdcd00\">dry-bee-1</strong>: <a href=\"https://wandb.ai/awon08/MobileNetV3%20vs.%20ResNetV2%20vs.%20InceptionV3%20vs.%20Inception_ResNetV2/runs/6blqtr0e\" target=\"_blank\">https://wandb.ai/awon08/MobileNetV3%20vs.%20ResNetV2%20vs.%20InceptionV3%20vs.%20Inception_ResNetV2/runs/6blqtr0e</a><br/>\n",
              "Find logs at: <code>./wandb/run-20211108_110834-6blqtr0e/logs</code><br/>\n"
            ],
            "text/plain": [
              "<IPython.core.display.HTML object>"
            ]
          },
          "metadata": {}
        }
      ]
    },
    {
      "cell_type": "markdown",
      "metadata": {
        "id": "vCcYGZD1eVOV"
      },
      "source": [
        "#### ResNet50V2 (50% data)\n",
        "\n",
        "We will reinitialize the callback for new experiment and recompile the model."
      ]
    },
    {
      "cell_type": "code",
      "metadata": {
        "execution": {
          "iopub.status.busy": "2021-11-06T09:45:22.295523Z",
          "iopub.execute_input": "2021-11-06T09:45:22.295773Z",
          "iopub.status.idle": "2021-11-06T09:45:34.425441Z",
          "shell.execute_reply.started": "2021-11-06T09:45:22.295737Z",
          "shell.execute_reply": "2021-11-06T09:45:34.424670Z"
        },
        "trusted": true,
        "id": "CokmT5jT1KCD",
        "colab": {
          "base_uri": "https://localhost:8080/",
          "height": 255
        },
        "outputId": "a5abbd71-bca5-4232-f94a-9ce71f478624"
      },
      "source": [
        "# Initialize wandb\n",
        "run = wandb.init(project='MobileNetV3 vs. ResNetV2 vs. InceptionV3 vs. Inception_ResNetV2',\n",
        "                 config={\n",
        "                     \"learning_rate\": 0.001,\n",
        "                     \"epochs\": 5,\n",
        "                     \"batch_size\": 32,\n",
        "                     \"loss_function\": \"binary_crossentropy\",\n",
        "                     \"architecture\": \"ResNetV2\",\n",
        "                     \"dataset\": \"Covid-19 CXR 50 Percent Data\"\n",
        "                 })\n",
        "\n",
        "# Configure\n",
        "config = wandb.config\n",
        "\n",
        "# Initialize resnet model\n",
        "tf.keras.backend.clear_session()\n",
        "resnet_model = create_model(resnet_url)\n",
        "resnet_model.summary()\n",
        "\n",
        "# Compile the model\n",
        "optimizer = tf.keras.optimizers.Adam(config.learning_rate) \n",
        "resnet_model.compile(optimizer, config.loss_function, metrics=['accuracy'])"
      ],
      "execution_count": 23,
      "outputs": [
        {
          "output_type": "stream",
          "name": "stderr",
          "text": [
            "\u001b[34m\u001b[1mwandb\u001b[0m: Currently logged in as: \u001b[33mawon08\u001b[0m (use `wandb login --relogin` to force relogin)\n"
          ]
        },
        {
          "output_type": "display_data",
          "data": {
            "text/html": [
              "\n",
              "                    Syncing run <strong><a href=\"https://wandb.ai/awon08/MobileNetV3%20vs.%20ResNetV2%20vs.%20InceptionV3%20vs.%20Inception_ResNetV2/runs/3ny60nih\" target=\"_blank\">lunar-galaxy-2</a></strong> to <a href=\"https://wandb.ai/awon08/MobileNetV3%20vs.%20ResNetV2%20vs.%20InceptionV3%20vs.%20Inception_ResNetV2\" target=\"_blank\">Weights & Biases</a> (<a href=\"https://docs.wandb.com/integrations/jupyter.html\" target=\"_blank\">docs</a>).<br/>\n",
              "\n",
              "                "
            ],
            "text/plain": [
              "<IPython.core.display.HTML object>"
            ]
          },
          "metadata": {}
        },
        {
          "output_type": "stream",
          "name": "stdout",
          "text": [
            "Model: \"sequential\"\n",
            "_________________________________________________________________\n",
            "Layer (type)                 Output Shape              Param #   \n",
            "=================================================================\n",
            "feature_extraction_layer (Ke (None, 2048)              23564800  \n",
            "_________________________________________________________________\n",
            "output_layer (Dense)         (None, 1)                 2049      \n",
            "=================================================================\n",
            "Total params: 23,566,849\n",
            "Trainable params: 2,049\n",
            "Non-trainable params: 23,564,800\n",
            "_________________________________________________________________\n"
          ]
        }
      ]
    },
    {
      "cell_type": "code",
      "metadata": {
        "id": "TEoGxQJ79k-_",
        "execution": {
          "iopub.status.busy": "2021-11-06T09:45:34.426669Z",
          "iopub.execute_input": "2021-11-06T09:45:34.427210Z",
          "iopub.status.idle": "2021-11-06T09:48:11.862524Z",
          "shell.execute_reply.started": "2021-11-06T09:45:34.427171Z",
          "shell.execute_reply": "2021-11-06T09:48:11.861715Z"
        },
        "trusted": true,
        "colab": {
          "base_uri": "https://localhost:8080/"
        },
        "outputId": "8734dec3-0c4f-4b4a-91ff-51425ebe76f2"
      },
      "source": [
        "# Fit the model\n",
        "resnet_history = resnet_model.fit(train_data_50_percent,\n",
        "                                  epochs=config.epochs,\n",
        "                                  batch_size=config.batch_size,\n",
        "                                  steps_per_epoch=len(train_data_50_percent),\n",
        "                                  validation_data=test_data,\n",
        "                                  validation_steps=int(0.15*len(test_data)),\n",
        "                                  callbacks=[WandbCallback()])"
      ],
      "execution_count": 24,
      "outputs": [
        {
          "output_type": "stream",
          "name": "stdout",
          "text": [
            "Epoch 1/5\n",
            "173/173 [==============================] - 42s 211ms/step - loss: 0.3580 - accuracy: 0.8482 - val_loss: 0.2853 - val_accuracy: 0.8894\n",
            "Epoch 2/5\n",
            "173/173 [==============================] - 35s 204ms/step - loss: 0.2409 - accuracy: 0.9082 - val_loss: 0.2448 - val_accuracy: 0.8942\n",
            "Epoch 3/5\n",
            "173/173 [==============================] - 35s 203ms/step - loss: 0.2028 - accuracy: 0.9239 - val_loss: 0.2095 - val_accuracy: 0.9111\n",
            "Epoch 4/5\n",
            "173/173 [==============================] - 35s 202ms/step - loss: 0.1845 - accuracy: 0.9334 - val_loss: 0.1949 - val_accuracy: 0.9255\n",
            "Epoch 5/5\n",
            "173/173 [==============================] - 35s 203ms/step - loss: 0.1644 - accuracy: 0.9437 - val_loss: 0.1732 - val_accuracy: 0.9399\n"
          ]
        }
      ]
    },
    {
      "cell_type": "code",
      "metadata": {
        "id": "oPutXJbx8tVZ",
        "execution": {
          "iopub.status.busy": "2021-11-06T09:48:11.863864Z",
          "iopub.execute_input": "2021-11-06T09:48:11.864118Z",
          "iopub.status.idle": "2021-11-06T09:48:12.300138Z",
          "shell.execute_reply.started": "2021-11-06T09:48:11.864085Z",
          "shell.execute_reply": "2021-11-06T09:48:12.299416Z"
        },
        "trusted": true,
        "colab": {
          "base_uri": "https://localhost:8080/",
          "height": 573
        },
        "outputId": "397b574f-611e-4457-f1f7-608ef3a46111"
      },
      "source": [
        "# Plot loss curves of resnet model\n",
        "plot_loss_curves(resnet_history)"
      ],
      "execution_count": 25,
      "outputs": [
        {
          "output_type": "display_data",
          "data": {
            "image/png": "[encoded data removed]",
            "text/plain": [
              "<Figure size 432x288 with 1 Axes>"
            ]
          },
          "metadata": {
            "needs_background": "light"
          }
        },
        {
          "output_type": "display_data",
          "data": {
            "image/png": "[encoded data removed]",
            "text/plain": [
              "<Figure size 432x288 with 1 Axes>"
            ]
          },
          "metadata": {
            "needs_background": "light"
          }
        }
      ]
    },
    {
      "cell_type": "code",
      "metadata": {
        "id": "EGZsUkvl9k9n",
        "execution": {
          "iopub.status.busy": "2021-11-06T09:48:12.301324Z",
          "iopub.execute_input": "2021-11-06T09:48:12.301666Z",
          "iopub.status.idle": "2021-11-06T09:48:30.193930Z",
          "shell.execute_reply.started": "2021-11-06T09:48:12.301626Z",
          "shell.execute_reply": "2021-11-06T09:48:30.193280Z"
        },
        "trusted": true,
        "colab": {
          "base_uri": "https://localhost:8080/",
          "height": 345,
          "referenced_widgets": [
            "6ce35fa62c06451cbea0975bbb7e1050",
            "de26fd58539842339b0fc3d2f2850d12",
            "639ada2f44474e0386a1b9d2f064f992",
            "a1fb194f71e1411d958c07a1f5d14e75",
            "3e01f4a37b2f40d19c68b37db801a43c",
            "8debc2cb2abd4b7bbdfabacd83930cad",
            "e47f64f987264eaf92d1139ab261401b",
            "a628ad7cbc324931a45f450dace1e6f7"
          ]
        },
        "outputId": "fbd95a65-ce98-4234-ef17-f5c02935da06"
      },
      "source": [
        "# Evaluate resnet on whole test data\n",
        "resnet_loss, resnet_acc = resnet_model.evaluate(test_data)\n",
        "\n",
        "run.finish()"
      ],
      "execution_count": 26,
      "outputs": [
        {
          "output_type": "stream",
          "name": "stdout",
          "text": [
            "87/87 [==============================] - 17s 197ms/step - loss: 0.1793 - accuracy: 0.9265\n"
          ]
        },
        {
          "output_type": "display_data",
          "data": {
            "text/html": [
              "<br/>Waiting for W&B process to finish, PID 507... <strong style=\"color:green\">(success).</strong>"
            ],
            "text/plain": [
              "<IPython.core.display.HTML object>"
            ]
          },
          "metadata": {}
        },
        {
          "output_type": "display_data",
          "data": {
            "application/vnd.jupyter.widget-view+json": {
              "model_id": "6ce35fa62c06451cbea0975bbb7e1050",
              "version_minor": 0,
              "version_major": 2
            },
            "text/plain": [
              "VBox(children=(Label(value=' 90.18MB of 90.18MB uploaded (0.00MB deduped)\\r'), FloatProgress(value=1.0, max=1.…"
            ]
          },
          "metadata": {}
        },
        {
          "output_type": "display_data",
          "data": {
            "text/html": [
              "<style>\n",
              "    table.wandb td:nth-child(1) { padding: 0 10px; text-align: right }\n",
              "    .wandb-row { display: flex; flex-direction: row; flex-wrap: wrap; width: 100% }\n",
              "    .wandb-col { display: flex; flex-direction: column; flex-basis: 100%; flex: 1; padding: 10px; }\n",
              "    </style>\n",
              "<div class=\"wandb-row\"><div class=\"wandb-col\">\n",
              "<h3>Run history:</h3><br/><table class=\"wandb\"><tr><td>accuracy</td><td>▁▅▇▇█</td></tr><tr><td>epoch</td><td>▁▃▅▆█</td></tr><tr><td>loss</td><td>█▄▂▂▁</td></tr><tr><td>val_accuracy</td><td>▁▂▄▆█</td></tr><tr><td>val_loss</td><td>█▅▃▂▁</td></tr></table><br/></div><div class=\"wandb-col\">\n",
              "<h3>Run summary:</h3><br/><table class=\"wandb\"><tr><td>accuracy</td><td>0.94368</td></tr><tr><td>best_epoch</td><td>4</td></tr><tr><td>best_val_loss</td><td>0.17319</td></tr><tr><td>epoch</td><td>4</td></tr><tr><td>loss</td><td>0.16439</td></tr><tr><td>val_accuracy</td><td>0.9399</td></tr><tr><td>val_loss</td><td>0.17319</td></tr></table>\n",
              "</div></div>\n",
              "Synced 5 W&B file(s), 1 media file(s), 0 artifact file(s) and 1 other file(s)\n",
              "<br/>Synced <strong style=\"color:#cdcd00\">lunar-galaxy-2</strong>: <a href=\"https://wandb.ai/awon08/MobileNetV3%20vs.%20ResNetV2%20vs.%20InceptionV3%20vs.%20Inception_ResNetV2/runs/3ny60nih\" target=\"_blank\">https://wandb.ai/awon08/MobileNetV3%20vs.%20ResNetV2%20vs.%20InceptionV3%20vs.%20Inception_ResNetV2/runs/3ny60nih</a><br/>\n",
              "Find logs at: <code>./wandb/run-20211108_111116-3ny60nih/logs</code><br/>\n"
            ],
            "text/plain": [
              "<IPython.core.display.HTML object>"
            ]
          },
          "metadata": {}
        }
      ]
    },
    {
      "cell_type": "markdown",
      "metadata": {
        "id": "_FK3yxFLffLP"
      },
      "source": [
        "#### InceptionV3 (50% data)"
      ]
    },
    {
      "cell_type": "code",
      "metadata": {
        "execution": {
          "iopub.status.busy": "2021-11-06T09:48:30.195332Z",
          "iopub.execute_input": "2021-11-06T09:48:30.195619Z",
          "iopub.status.idle": "2021-11-06T09:48:42.632872Z",
          "shell.execute_reply.started": "2021-11-06T09:48:30.195582Z",
          "shell.execute_reply": "2021-11-06T09:48:42.632117Z"
        },
        "trusted": true,
        "id": "eZeiu9_k1KCE",
        "colab": {
          "base_uri": "https://localhost:8080/",
          "height": 238
        },
        "outputId": "56461ae6-f4e8-4297-89b0-a1f2b72b2ce0"
      },
      "source": [
        "# Initialize wandb\n",
        "run = wandb.init(project='MobileNetV3 vs. ResNetV2 vs. InceptionV3 vs. Inception_ResNetV2',\n",
        "                 config={\n",
        "                     \"learning_rate\": 0.001,\n",
        "                     \"epochs\": 5,\n",
        "                     \"batch_size\": 32,\n",
        "                     \"loss_function\": \"binary_crossentropy\",\n",
        "                     \"architecture\": \"InceptionV3\",\n",
        "                     \"dataset\": \"Covid-19 CXR 50 Percent Data\"\n",
        "                 })\n",
        "\n",
        "# Configure\n",
        "config = wandb.config\n",
        "\n",
        "# Initialize inception model\n",
        "tf.keras.backend.clear_session()\n",
        "inception_model = create_model(inception_url)\n",
        "inception_model.summary()\n",
        "\n",
        "# Compile the model\n",
        "optimizer = tf.keras.optimizers.Adam(config.learning_rate) \n",
        "inception_model.compile(optimizer, config.loss_function, metrics=['accuracy'])"
      ],
      "execution_count": 27,
      "outputs": [
        {
          "output_type": "display_data",
          "data": {
            "text/html": [
              "\n",
              "                    Syncing run <strong><a href=\"https://wandb.ai/awon08/MobileNetV3%20vs.%20ResNetV2%20vs.%20InceptionV3%20vs.%20Inception_ResNetV2/runs/201golxm\" target=\"_blank\">clear-bird-3</a></strong> to <a href=\"https://wandb.ai/awon08/MobileNetV3%20vs.%20ResNetV2%20vs.%20InceptionV3%20vs.%20Inception_ResNetV2\" target=\"_blank\">Weights & Biases</a> (<a href=\"https://docs.wandb.com/integrations/jupyter.html\" target=\"_blank\">docs</a>).<br/>\n",
              "\n",
              "                "
            ],
            "text/plain": [
              "<IPython.core.display.HTML object>"
            ]
          },
          "metadata": {}
        },
        {
          "output_type": "stream",
          "name": "stdout",
          "text": [
            "Model: \"sequential\"\n",
            "_________________________________________________________________\n",
            "Layer (type)                 Output Shape              Param #   \n",
            "=================================================================\n",
            "feature_extraction_layer (Ke (None, 2048)              21802784  \n",
            "_________________________________________________________________\n",
            "output_layer (Dense)         (None, 1)                 2049      \n",
            "=================================================================\n",
            "Total params: 21,804,833\n",
            "Trainable params: 2,049\n",
            "Non-trainable params: 21,802,784\n",
            "_________________________________________________________________\n"
          ]
        }
      ]
    },
    {
      "cell_type": "code",
      "metadata": {
        "id": "m5_jipDIAFRR",
        "execution": {
          "iopub.status.busy": "2021-11-06T09:48:42.635251Z",
          "iopub.execute_input": "2021-11-06T09:48:42.635887Z",
          "iopub.status.idle": "2021-11-06T09:51:01.384064Z",
          "shell.execute_reply.started": "2021-11-06T09:48:42.635855Z",
          "shell.execute_reply": "2021-11-06T09:51:01.383263Z"
        },
        "trusted": true,
        "colab": {
          "base_uri": "https://localhost:8080/"
        },
        "outputId": "9a5090bc-b8cf-4547-947b-bc0e48212797"
      },
      "source": [
        "# Fit the model\n",
        "inception_history = inception_model.fit(train_data_50_percent,\n",
        "                                        epochs=config.epochs,\n",
        "                                        batch_size=config.batch_size,\n",
        "                                        steps_per_epoch=len(train_data_50_percent),\n",
        "                                        validation_data=test_data,\n",
        "                                        validation_steps=int(0.15*len(test_data)),\n",
        "                                        callbacks=[WandbCallback()])"
      ],
      "execution_count": 28,
      "outputs": [
        {
          "output_type": "stream",
          "name": "stdout",
          "text": [
            "Epoch 1/5\n",
            "173/173 [==============================] - 41s 190ms/step - loss: 0.3825 - accuracy: 0.8359 - val_loss: 0.2909 - val_accuracy: 0.8870\n",
            "Epoch 2/5\n",
            "173/173 [==============================] - 31s 178ms/step - loss: 0.3013 - accuracy: 0.8749 - val_loss: 0.3017 - val_accuracy: 0.8798\n",
            "Epoch 3/5\n",
            "173/173 [==============================] - 31s 176ms/step - loss: 0.2697 - accuracy: 0.8928 - val_loss: 0.2657 - val_accuracy: 0.8966\n",
            "Epoch 4/5\n",
            "173/173 [==============================] - 30s 176ms/step - loss: 0.2525 - accuracy: 0.8970 - val_loss: 0.2579 - val_accuracy: 0.8822\n",
            "Epoch 5/5\n",
            "173/173 [==============================] - 30s 176ms/step - loss: 0.2388 - accuracy: 0.9073 - val_loss: 0.1992 - val_accuracy: 0.9303\n"
          ]
        }
      ]
    },
    {
      "cell_type": "code",
      "metadata": {
        "id": "RpX3uKWBAE7p",
        "execution": {
          "iopub.status.busy": "2021-11-06T09:51:01.385672Z",
          "iopub.execute_input": "2021-11-06T09:51:01.385964Z",
          "iopub.status.idle": "2021-11-06T09:51:01.868868Z",
          "shell.execute_reply.started": "2021-11-06T09:51:01.385926Z",
          "shell.execute_reply": "2021-11-06T09:51:01.868197Z"
        },
        "trusted": true,
        "colab": {
          "base_uri": "https://localhost:8080/",
          "height": 573
        },
        "outputId": "8feb28b8-b3c1-44da-863d-253fa0f86813"
      },
      "source": [
        "# Plot loss curves\n",
        "plot_loss_curves(inception_history)"
      ],
      "execution_count": 29,
      "outputs": [
        {
          "output_type": "display_data",
          "data": {
            "image/png": "[encoded data removed]",
            "text/plain": [
              "<Figure size 432x288 with 1 Axes>"
            ]
          },
          "metadata": {
            "needs_background": "light"
          }
        },
        {
          "output_type": "display_data",
          "data": {
            "image/png": "[encoded data removed]",
            "text/plain": [
              "<Figure size 432x288 with 1 Axes>"
            ]
          },
          "metadata": {
            "needs_background": "light"
          }
        }
      ]
    },
    {
      "cell_type": "code",
      "metadata": {
        "id": "HhPI_E2mAFIo",
        "execution": {
          "iopub.status.busy": "2021-11-06T09:51:01.870260Z",
          "iopub.execute_input": "2021-11-06T09:51:01.870525Z",
          "iopub.status.idle": "2021-11-06T09:51:19.289908Z",
          "shell.execute_reply.started": "2021-11-06T09:51:01.870490Z",
          "shell.execute_reply": "2021-11-06T09:51:19.289176Z"
        },
        "trusted": true,
        "colab": {
          "base_uri": "https://localhost:8080/",
          "height": 345,
          "referenced_widgets": [
            "8057161e44b3471fbd1a0bfb86ebfe2b",
            "34cc17a93c90447a9c9a0673eac97cbd",
            "d677296863f14d5eb949f8266da064f0",
            "f2f60065716d47ea83dd45c921b6507d",
            "7a539fd72a1a4ea895ed6395e6534663",
            "963e669414db44a78e8171b38c362b39",
            "70613419e11848f08e713d5bce425875",
            "5c1c6f973b484e418fce8bd4435c4de4"
          ]
        },
        "outputId": "d30edb83-603f-4449-80de-86b97a8cf4f4"
      },
      "source": [
        "# Evaluate inception on whole test data\n",
        "inception_loss, inception_acc = inception_model.evaluate(test_data)\n",
        "\n",
        "run.finish()"
      ],
      "execution_count": 30,
      "outputs": [
        {
          "output_type": "stream",
          "name": "stdout",
          "text": [
            "87/87 [==============================] - 15s 175ms/step - loss: 0.2487 - accuracy: 0.9026\n"
          ]
        },
        {
          "output_type": "display_data",
          "data": {
            "text/html": [
              "<br/>Waiting for W&B process to finish, PID 654... <strong style=\"color:green\">(success).</strong>"
            ],
            "text/plain": [
              "<IPython.core.display.HTML object>"
            ]
          },
          "metadata": {}
        },
        {
          "output_type": "display_data",
          "data": {
            "application/vnd.jupyter.widget-view+json": {
              "model_id": "8057161e44b3471fbd1a0bfb86ebfe2b",
              "version_minor": 0,
              "version_major": 2
            },
            "text/plain": [
              "VBox(children=(Label(value=' 83.59MB of 83.59MB uploaded (0.00MB deduped)\\r'), FloatProgress(value=1.0, max=1.…"
            ]
          },
          "metadata": {}
        },
        {
          "output_type": "display_data",
          "data": {
            "text/html": [
              "<style>\n",
              "    table.wandb td:nth-child(1) { padding: 0 10px; text-align: right }\n",
              "    .wandb-row { display: flex; flex-direction: row; flex-wrap: wrap; width: 100% }\n",
              "    .wandb-col { display: flex; flex-direction: column; flex-basis: 100%; flex: 1; padding: 10px; }\n",
              "    </style>\n",
              "<div class=\"wandb-row\"><div class=\"wandb-col\">\n",
              "<h3>Run history:</h3><br/><table class=\"wandb\"><tr><td>accuracy</td><td>▁▅▇▇█</td></tr><tr><td>epoch</td><td>▁▃▅▆█</td></tr><tr><td>loss</td><td>█▄▃▂▁</td></tr><tr><td>val_accuracy</td><td>▂▁▃▁█</td></tr><tr><td>val_loss</td><td>▇█▆▅▁</td></tr></table><br/></div><div class=\"wandb-col\">\n",
              "<h3>Run summary:</h3><br/><table class=\"wandb\"><tr><td>accuracy</td><td>0.90728</td></tr><tr><td>best_epoch</td><td>4</td></tr><tr><td>best_val_loss</td><td>0.19922</td></tr><tr><td>epoch</td><td>4</td></tr><tr><td>loss</td><td>0.23881</td></tr><tr><td>val_accuracy</td><td>0.93029</td></tr><tr><td>val_loss</td><td>0.19922</td></tr></table>\n",
              "</div></div>\n",
              "Synced 5 W&B file(s), 1 media file(s), 0 artifact file(s) and 1 other file(s)\n",
              "<br/>Synced <strong style=\"color:#cdcd00\">clear-bird-3</strong>: <a href=\"https://wandb.ai/awon08/MobileNetV3%20vs.%20ResNetV2%20vs.%20InceptionV3%20vs.%20Inception_ResNetV2/runs/201golxm\" target=\"_blank\">https://wandb.ai/awon08/MobileNetV3%20vs.%20ResNetV2%20vs.%20InceptionV3%20vs.%20Inception_ResNetV2/runs/201golxm</a><br/>\n",
              "Find logs at: <code>./wandb/run-20211108_111453-201golxm/logs</code><br/>\n"
            ],
            "text/plain": [
              "<IPython.core.display.HTML object>"
            ]
          },
          "metadata": {}
        }
      ]
    },
    {
      "cell_type": "markdown",
      "metadata": {
        "id": "BvUwMlRifzyB"
      },
      "source": [
        "#### Inception_ResnetV2 (50% data)"
      ]
    },
    {
      "cell_type": "code",
      "metadata": {
        "execution": {
          "iopub.status.busy": "2021-11-06T09:51:19.291081Z",
          "iopub.execute_input": "2021-11-06T09:51:19.291375Z",
          "iopub.status.idle": "2021-11-06T09:51:36.865979Z",
          "shell.execute_reply.started": "2021-11-06T09:51:19.291315Z",
          "shell.execute_reply": "2021-11-06T09:51:36.865225Z"
        },
        "trusted": true,
        "id": "sl9AeJP61KCF",
        "colab": {
          "base_uri": "https://localhost:8080/",
          "height": 238
        },
        "outputId": "bb8348bc-e113-4260-8bce-32a05a48d876"
      },
      "source": [
        "# Initialize wandb with our project name\n",
        "run = wandb.init(project='MobileNetV3 vs. ResNetV2 vs. InceptionV3 vs. Inception_ResNetV2',\n",
        "                 config={\n",
        "                     \"learning_rate\": 0.001,\n",
        "                     \"epochs\": 5,\n",
        "                     \"batch_size\": 32,\n",
        "                     \"loss_function\": \"binary_crossentropy\",\n",
        "                     \"architecture\": \"Inception_ResNetV2\",\n",
        "                     \"dataset\": \"Covid-19 CXR 50 Percent Data\"\n",
        "                 })\n",
        "\n",
        "# Configure\n",
        "config = wandb.config\n",
        "\n",
        "# Initialize inception_resnet model\n",
        "tf.keras.backend.clear_session()\n",
        "inception_resnet_model = create_model(inception_resnet_url)\n",
        "inception_resnet_model.summary()\n",
        "\n",
        "# Compile the model\n",
        "optimizer = tf.keras.optimizers.Adam(config.learning_rate) \n",
        "inception_resnet_model.compile(optimizer, config.loss_function, metrics=['accuracy'])"
      ],
      "execution_count": 31,
      "outputs": [
        {
          "output_type": "display_data",
          "data": {
            "text/html": [
              "\n",
              "                    Syncing run <strong><a href=\"https://wandb.ai/awon08/MobileNetV3%20vs.%20ResNetV2%20vs.%20InceptionV3%20vs.%20Inception_ResNetV2/runs/w9f8c8es\" target=\"_blank\">bright-meadow-4</a></strong> to <a href=\"https://wandb.ai/awon08/MobileNetV3%20vs.%20ResNetV2%20vs.%20InceptionV3%20vs.%20Inception_ResNetV2\" target=\"_blank\">Weights & Biases</a> (<a href=\"https://docs.wandb.com/integrations/jupyter.html\" target=\"_blank\">docs</a>).<br/>\n",
              "\n",
              "                "
            ],
            "text/plain": [
              "<IPython.core.display.HTML object>"
            ]
          },
          "metadata": {}
        },
        {
          "output_type": "stream",
          "name": "stdout",
          "text": [
            "Model: \"sequential\"\n",
            "_________________________________________________________________\n",
            "Layer (type)                 Output Shape              Param #   \n",
            "=================================================================\n",
            "feature_extraction_layer (Ke (None, 1536)              54336736  \n",
            "_________________________________________________________________\n",
            "output_layer (Dense)         (None, 1)                 1537      \n",
            "=================================================================\n",
            "Total params: 54,338,273\n",
            "Trainable params: 1,537\n",
            "Non-trainable params: 54,336,736\n",
            "_________________________________________________________________\n"
          ]
        }
      ]
    },
    {
      "cell_type": "code",
      "metadata": {
        "id": "J9IbzulyBACu",
        "execution": {
          "iopub.status.busy": "2021-11-06T09:51:36.867220Z",
          "iopub.execute_input": "2021-11-06T09:51:36.867631Z",
          "iopub.status.idle": "2021-11-06T09:54:25.393424Z",
          "shell.execute_reply.started": "2021-11-06T09:51:36.867587Z",
          "shell.execute_reply": "2021-11-06T09:54:25.392514Z"
        },
        "trusted": true,
        "colab": {
          "base_uri": "https://localhost:8080/"
        },
        "outputId": "51ed9a99-f83b-42b2-938e-62ceea8bd40b"
      },
      "source": [
        "# Fit the model\n",
        "inception_resnet_history = inception_resnet_model.fit(train_data_50_percent,\n",
        "                                                      epochs=config.epochs,\n",
        "                                                      batch_size=config.batch_size,\n",
        "                                                      steps_per_epoch=len(train_data_50_percent),\n",
        "                                                      validation_data=test_data,\n",
        "                                                      validation_steps=int(0.15*len(test_data)),\n",
        "                                                      callbacks=[WandbCallback()])"
      ],
      "execution_count": 32,
      "outputs": [
        {
          "output_type": "stream",
          "name": "stdout",
          "text": [
            "Epoch 1/5\n",
            "173/173 [==============================] - 93s 442ms/step - loss: 0.4004 - accuracy: 0.8303 - val_loss: 0.3013 - val_accuracy: 0.8822\n",
            "Epoch 2/5\n",
            "173/173 [==============================] - 74s 425ms/step - loss: 0.3200 - accuracy: 0.8676 - val_loss: 0.2983 - val_accuracy: 0.8822\n",
            "Epoch 3/5\n",
            "173/173 [==============================] - 73s 424ms/step - loss: 0.2878 - accuracy: 0.8845 - val_loss: 0.2608 - val_accuracy: 0.8846\n",
            "Epoch 4/5\n",
            "173/173 [==============================] - 73s 424ms/step - loss: 0.2665 - accuracy: 0.8953 - val_loss: 0.2651 - val_accuracy: 0.9038\n",
            "Epoch 5/5\n",
            "173/173 [==============================] - 73s 424ms/step - loss: 0.2528 - accuracy: 0.9008 - val_loss: 0.2595 - val_accuracy: 0.8894\n"
          ]
        }
      ]
    },
    {
      "cell_type": "code",
      "metadata": {
        "id": "C0_8qgvGA_4X",
        "execution": {
          "iopub.status.busy": "2021-11-06T09:54:25.394751Z",
          "iopub.execute_input": "2021-11-06T09:54:25.395006Z",
          "iopub.status.idle": "2021-11-06T09:54:26.052191Z",
          "shell.execute_reply.started": "2021-11-06T09:54:25.394972Z",
          "shell.execute_reply": "2021-11-06T09:54:26.051526Z"
        },
        "trusted": true,
        "colab": {
          "base_uri": "https://localhost:8080/",
          "height": 573
        },
        "outputId": "2248779a-df3c-4b61-fd4e-380c4484caed"
      },
      "source": [
        "# Plot loss curves\n",
        "plot_loss_curves(inception_resnet_model.history)"
      ],
      "execution_count": 33,
      "outputs": [
        {
          "output_type": "display_data",
          "data": {
            "image/png": "[encoded data removed]",
            "text/plain": [
              "<Figure size 432x288 with 1 Axes>"
            ]
          },
          "metadata": {
            "needs_background": "light"
          }
        },
        {
          "output_type": "display_data",
          "data": {
            "image/png": "[encoded data removed]",
            "text/plain": [
              "<Figure size 432x288 with 1 Axes>"
            ]
          },
          "metadata": {
            "needs_background": "light"
          }
        }
      ]
    },
    {
      "cell_type": "code",
      "metadata": {
        "id": "aJxoUA9tA__N",
        "execution": {
          "iopub.status.busy": "2021-11-06T09:54:26.053723Z",
          "iopub.execute_input": "2021-11-06T09:54:26.054209Z",
          "iopub.status.idle": "2021-11-06T09:54:47.785561Z",
          "shell.execute_reply.started": "2021-11-06T09:54:26.054169Z",
          "shell.execute_reply": "2021-11-06T09:54:47.784862Z"
        },
        "trusted": true,
        "colab": {
          "base_uri": "https://localhost:8080/",
          "height": 345,
          "referenced_widgets": [
            "7096cf422b794a70aee2c7d642759ba6",
            "2b11f19f82e140709a4e3f0a3031b7bb",
            "606f04fcd763479ca6a829fc226c569b",
            "5a22d70d13ad4f678e6b80ed56300068",
            "d423bc5130144feb9bb109439029b1c5",
            "b1a3cffa28184a8ebed6da8e9e44a1b4",
            "307f70b282504440929ad1dd25641e22",
            "ad47a364425a402db1b6dd655164ce8b"
          ]
        },
        "outputId": "e24f5485-0f3c-4a30-ffa0-e434ecf88939"
      },
      "source": [
        "# Evaluate inception_resnet on whole test data\n",
        "inception_resnet_loss, inception_resnet_acc = inception_resnet_model.evaluate(test_data)\n",
        "\n",
        "run.finish()"
      ],
      "execution_count": 34,
      "outputs": [
        {
          "output_type": "stream",
          "name": "stdout",
          "text": [
            "87/87 [==============================] - 35s 399ms/step - loss: 0.2522 - accuracy: 0.9063\n"
          ]
        },
        {
          "output_type": "display_data",
          "data": {
            "text/html": [
              "<br/>Waiting for W&B process to finish, PID 773... <strong style=\"color:green\">(success).</strong>"
            ],
            "text/plain": [
              "<IPython.core.display.HTML object>"
            ]
          },
          "metadata": {}
        },
        {
          "output_type": "display_data",
          "data": {
            "application/vnd.jupyter.widget-view+json": {
              "model_id": "7096cf422b794a70aee2c7d642759ba6",
              "version_minor": 0,
              "version_major": 2
            },
            "text/plain": [
              "VBox(children=(Label(value=' 0.00MB of 0.00MB uploaded (0.00MB deduped)\\r'), FloatProgress(value=1.0, max=1.0)…"
            ]
          },
          "metadata": {}
        },
        {
          "output_type": "display_data",
          "data": {
            "text/html": [
              "<style>\n",
              "    table.wandb td:nth-child(1) { padding: 0 10px; text-align: right }\n",
              "    .wandb-row { display: flex; flex-direction: row; flex-wrap: wrap; width: 100% }\n",
              "    .wandb-col { display: flex; flex-direction: column; flex-basis: 100%; flex: 1; padding: 10px; }\n",
              "    </style>\n",
              "<div class=\"wandb-row\"><div class=\"wandb-col\">\n",
              "<h3>Run history:</h3><br/><table class=\"wandb\"><tr><td>accuracy</td><td>▁▅▆▇█</td></tr><tr><td>epoch</td><td>▁▃▅▆█</td></tr><tr><td>loss</td><td>█▄▃▂▁</td></tr><tr><td>val_accuracy</td><td>▁▁▂█▃</td></tr><tr><td>val_loss</td><td>█▇▁▂▁</td></tr></table><br/></div><div class=\"wandb-col\">\n",
              "<h3>Run summary:</h3><br/><table class=\"wandb\"><tr><td>accuracy</td><td>0.90076</td></tr><tr><td>best_epoch</td><td>4</td></tr><tr><td>best_val_loss</td><td>0.2595</td></tr><tr><td>epoch</td><td>4</td></tr><tr><td>loss</td><td>0.25277</td></tr><tr><td>val_accuracy</td><td>0.88942</td></tr><tr><td>val_loss</td><td>0.2595</td></tr></table>\n",
              "</div></div>\n",
              "Synced 5 W&B file(s), 1 media file(s), 0 artifact file(s) and 1 other file(s)\n",
              "<br/>Synced <strong style=\"color:#cdcd00\">bright-meadow-4</strong>: <a href=\"https://wandb.ai/awon08/MobileNetV3%20vs.%20ResNetV2%20vs.%20InceptionV3%20vs.%20Inception_ResNetV2/runs/w9f8c8es\" target=\"_blank\">https://wandb.ai/awon08/MobileNetV3%20vs.%20ResNetV2%20vs.%20InceptionV3%20vs.%20Inception_ResNetV2/runs/w9f8c8es</a><br/>\n",
              "Find logs at: <code>./wandb/run-20211108_111810-w9f8c8es/logs</code><br/>\n"
            ],
            "text/plain": [
              "<IPython.core.display.HTML object>"
            ]
          },
          "metadata": {}
        }
      ]
    },
    {
      "cell_type": "markdown",
      "metadata": {
        "id": "i1T2i4_NCw0w"
      },
      "source": [
        "## Second experiment: Whole training data\n",
        "\n",
        "There is where that confusing 40-20%, 80-20% training data part come into play.\n",
        "\n",
        "All I did in the first experiment to cut the 80% of training data to half of its length, leaving the test data unchanged because that is the whole purpose of these experiments to try different variations of training data but evaluate to the model results on same test data.\n",
        "\n",
        "The second experiment has the following data size:\n",
        "* Total images - 13,808 (3,616 covid/10,192 normal)\n",
        "  * Traning images - 11,045 (2,892 covid/8,153 normal)\n",
        "  * Test images - 2,763 (724 covid/2,039 normal)\n",
        "\n",
        "That being said, we'll have to bring the data (80-20%) in and unzip it.\n",
        "All the steps are same, the only differnce is this time we have larger dataset.\n",
        "\n",
        "So, this time we'll go through all these steps quicker."
      ]
    },
    {
      "cell_type": "code",
      "metadata": {
        "id": "rVOWvEiycMLB",
        "execution": {
          "iopub.status.busy": "2021-11-06T09:54:47.789887Z",
          "iopub.execute_input": "2021-11-06T09:54:47.792135Z",
          "iopub.status.idle": "2021-11-06T09:54:47.799416Z",
          "shell.execute_reply.started": "2021-11-06T09:54:47.792094Z",
          "shell.execute_reply": "2021-11-06T09:54:47.798550Z"
        },
        "trusted": true
      },
      "source": [
        "# Unzip data file from google drive  (uncomment if using colab)\n",
        "zip_ref = zipfile.ZipFile(\"/content/drive/MyDrive/Colab Notebooks/covid_ready_dataset/covid_radiography_all_data.zip\")\n",
        "zip_ref.extractall()\n",
        "zip_ref.close()"
      ],
      "execution_count": 35,
      "outputs": []
    },
    {
      "cell_type": "code",
      "metadata": {
        "id": "F4tOX2GBci-A",
        "execution": {
          "iopub.status.busy": "2021-11-06T09:54:47.803919Z",
          "iopub.execute_input": "2021-11-06T09:54:47.806655Z",
          "iopub.status.idle": "2021-11-06T09:55:11.317940Z",
          "shell.execute_reply.started": "2021-11-06T09:54:47.806607Z",
          "shell.execute_reply": "2021-11-06T09:55:11.317050Z"
        },
        "trusted": true,
        "colab": {
          "base_uri": "https://localhost:8080/"
        },
        "outputId": "6928bddc-a3d6-448e-9bca-454b61977041"
      },
      "source": [
        "# Walk through the data directory and list number of files\n",
        "for dirpath, dirnames, filenames in os.walk(\"covid_radiography_all_data\"):\n",
        "  print(f\"there are {len(dirnames)} directories and {len(filenames)} images in '{dirpath}'.\")"
      ],
      "execution_count": 36,
      "outputs": [
        {
          "output_type": "stream",
          "name": "stdout",
          "text": [
            "there are 2 directories and 0 images in 'covid_radiography_all_data'.\n",
            "there are 2 directories and 0 images in 'covid_radiography_all_data/test'.\n",
            "there are 0 directories and 2039 images in 'covid_radiography_all_data/test/normal'.\n",
            "there are 0 directories and 724 images in 'covid_radiography_all_data/test/covid'.\n",
            "there are 2 directories and 0 images in 'covid_radiography_all_data/train'.\n",
            "there are 0 directories and 8153 images in 'covid_radiography_all_data/train/normal'.\n",
            "there are 0 directories and 2892 images in 'covid_radiography_all_data/train/covid'.\n"
          ]
        }
      ]
    },
    {
      "cell_type": "code",
      "metadata": {
        "id": "8T2J80nJcvjz",
        "execution": {
          "iopub.status.busy": "2021-11-06T09:55:11.319153Z",
          "iopub.execute_input": "2021-11-06T09:55:11.319431Z",
          "iopub.status.idle": "2021-11-06T09:55:12.696387Z",
          "shell.execute_reply.started": "2021-11-06T09:55:11.319394Z",
          "shell.execute_reply": "2021-11-06T09:55:12.695650Z"
        },
        "trusted": true,
        "colab": {
          "base_uri": "https://localhost:8080/"
        },
        "outputId": "f85c03dc-5347-47a7-c577-6e11d463d82d"
      },
      "source": [
        "# Set up train directory path\n",
        "train_dir = 'covid_radiography_all_data/train'\n",
        "\n",
        "# Create data generator and rescale images\n",
        "train_datagen = ImageDataGenerator(rescale=1/255.)\n",
        "\n",
        "# Load in data\n",
        "train_data = train_datagen.flow_from_directory(train_dir,\n",
        "                                               target_size=IMG_SIZE,\n",
        "                                               class_mode='binary',\n",
        "                                               color_mode='rgb',\n",
        "                                               seed=42)"
      ],
      "execution_count": 37,
      "outputs": [
        {
          "output_type": "stream",
          "name": "stdout",
          "text": [
            "Found 11045 images belonging to 2 classes.\n"
          ]
        }
      ]
    },
    {
      "cell_type": "markdown",
      "metadata": {
        "id": "Xrt6CtWOkoPc"
      },
      "source": [
        "Notice we don't instantiate the test data generator again, because it is the same test data that we'll have to use through out all of our experiments."
      ]
    },
    {
      "cell_type": "markdown",
      "metadata": {
        "id": "E4kgdmqZlTnD"
      },
      "source": [
        "#### MobileNetV3 (All data)"
      ]
    },
    {
      "cell_type": "code",
      "metadata": {
        "execution": {
          "iopub.status.busy": "2021-11-06T09:55:12.697744Z",
          "iopub.execute_input": "2021-11-06T09:55:12.698159Z",
          "iopub.status.idle": "2021-11-06T09:55:20.834852Z",
          "shell.execute_reply.started": "2021-11-06T09:55:12.698121Z",
          "shell.execute_reply": "2021-11-06T09:55:20.834081Z"
        },
        "trusted": true,
        "id": "1FuzldHR1KCI",
        "colab": {
          "base_uri": "https://localhost:8080/",
          "height": 238
        },
        "outputId": "c5ce2591-e958-4acd-ce76-4a59e5c31ba9"
      },
      "source": [
        "# Initialize wandb\n",
        "run = wandb.init(project='MobileNetV3 vs. ResNetV2 vs. InceptionV3 vs. Inception_ResNetV2',\n",
        "                 config={\n",
        "                     \"learning_rate\": 0.001,\n",
        "                     \"epochs\": 5,\n",
        "                     \"batch_size\": 32,\n",
        "                     \"loss_function\": \"binary_crossentropy\",\n",
        "                     \"architecture\": \"MobileNetV3\",\n",
        "                     \"dataset\": \"Covid-19 CXR Full Data\"\n",
        "                 })\n",
        "\n",
        "# Configure\n",
        "config = wandb.config\n",
        "\n",
        "# Initialize mobilenet model\n",
        "tf.keras.backend.clear_session()\n",
        "mobilenet_model_2 = create_model(mobilenet_url)\n",
        "mobilenet_model_2.summary()\n",
        "\n",
        "# Compile the model\n",
        "optimizer = tf.keras.optimizers.Adam(config.learning_rate) \n",
        "mobilenet_model_2.compile(optimizer, config.loss_function, metrics=['accuracy'])"
      ],
      "execution_count": 38,
      "outputs": [
        {
          "output_type": "display_data",
          "data": {
            "text/html": [
              "\n",
              "                    Syncing run <strong><a href=\"https://wandb.ai/awon08/MobileNetV3%20vs.%20ResNetV2%20vs.%20InceptionV3%20vs.%20Inception_ResNetV2/runs/28g590ps\" target=\"_blank\">rural-microwave-5</a></strong> to <a href=\"https://wandb.ai/awon08/MobileNetV3%20vs.%20ResNetV2%20vs.%20InceptionV3%20vs.%20Inception_ResNetV2\" target=\"_blank\">Weights & Biases</a> (<a href=\"https://docs.wandb.com/integrations/jupyter.html\" target=\"_blank\">docs</a>).<br/>\n",
              "\n",
              "                "
            ],
            "text/plain": [
              "<IPython.core.display.HTML object>"
            ]
          },
          "metadata": {}
        },
        {
          "output_type": "stream",
          "name": "stdout",
          "text": [
            "Model: \"sequential\"\n",
            "_________________________________________________________________\n",
            "Layer (type)                 Output Shape              Param #   \n",
            "=================================================================\n",
            "feature_extraction_layer (Ke (None, 1024)              1529968   \n",
            "_________________________________________________________________\n",
            "output_layer (Dense)         (None, 1)                 1025      \n",
            "=================================================================\n",
            "Total params: 1,530,993\n",
            "Trainable params: 1,025\n",
            "Non-trainable params: 1,529,968\n",
            "_________________________________________________________________\n"
          ]
        }
      ]
    },
    {
      "cell_type": "code",
      "metadata": {
        "id": "fW2nYbnadj7C",
        "execution": {
          "iopub.status.busy": "2021-11-06T09:55:20.838904Z",
          "iopub.execute_input": "2021-11-06T09:55:20.841197Z",
          "iopub.status.idle": "2021-11-06T09:59:18.207995Z",
          "shell.execute_reply.started": "2021-11-06T09:55:20.841155Z",
          "shell.execute_reply": "2021-11-06T09:59:18.207204Z"
        },
        "trusted": true,
        "colab": {
          "base_uri": "https://localhost:8080/"
        },
        "outputId": "e378fd90-423b-45c8-ae73-09aa91a50861"
      },
      "source": [
        "# Fit the model\n",
        "mobilenet_history_2 = mobilenet_model_2.fit(train_data,\n",
        "                                          epochs=config.epochs,\n",
        "                                          batch_size=config.batch_size,\n",
        "                                          steps_per_epoch=len(train_data),\n",
        "                                          validation_data=test_data,\n",
        "                                          validation_steps=int(0.15*len(test_data)),\n",
        "                                          callbacks=[WandbCallback()])"
      ],
      "execution_count": 39,
      "outputs": [
        {
          "output_type": "stream",
          "name": "stdout",
          "text": [
            "Epoch 1/5\n",
            "346/346 [==============================] - 45s 116ms/step - loss: 0.2965 - accuracy: 0.8795 - val_loss: 0.2237 - val_accuracy: 0.9207\n",
            "Epoch 2/5\n",
            "346/346 [==============================] - 39s 114ms/step - loss: 0.1858 - accuracy: 0.9354 - val_loss: 0.1802 - val_accuracy: 0.9423\n",
            "Epoch 3/5\n",
            "346/346 [==============================] - 39s 114ms/step - loss: 0.1567 - accuracy: 0.9450 - val_loss: 0.1501 - val_accuracy: 0.9567\n",
            "Epoch 4/5\n",
            "346/346 [==============================] - 39s 113ms/step - loss: 0.1400 - accuracy: 0.9519 - val_loss: 0.1809 - val_accuracy: 0.9255\n",
            "Epoch 5/5\n",
            "346/346 [==============================] - 39s 112ms/step - loss: 0.1289 - accuracy: 0.9545 - val_loss: 0.1216 - val_accuracy: 0.9567\n"
          ]
        }
      ]
    },
    {
      "cell_type": "code",
      "metadata": {
        "id": "xdqhKSx8fzIU",
        "execution": {
          "iopub.status.busy": "2021-11-06T09:59:18.209549Z",
          "iopub.execute_input": "2021-11-06T09:59:18.209803Z",
          "iopub.status.idle": "2021-11-06T09:59:18.684942Z",
          "shell.execute_reply.started": "2021-11-06T09:59:18.209766Z",
          "shell.execute_reply": "2021-11-06T09:59:18.684206Z"
        },
        "trusted": true,
        "colab": {
          "base_uri": "https://localhost:8080/",
          "height": 573
        },
        "outputId": "7f91a3f3-1dfb-4700-9e67-17230ee452ca"
      },
      "source": [
        "# Plot the loss curve\n",
        "plot_loss_curves(mobilenet_history_2)"
      ],
      "execution_count": 40,
      "outputs": [
        {
          "output_type": "display_data",
          "data": {
            "image/png": "[encoded data removed]",
            "text/plain": [
              "<Figure size 432x288 with 1 Axes>"
            ]
          },
          "metadata": {
            "needs_background": "light"
          }
        },
        {
          "output_type": "display_data",
          "data": {
            "image/png": "[encoded data removed]",
            "text/plain": [
              "<Figure size 432x288 with 1 Axes>"
            ]
          },
          "metadata": {
            "needs_background": "light"
          }
        }
      ]
    },
    {
      "cell_type": "code",
      "metadata": {
        "id": "MLzUMBUKgxpK",
        "execution": {
          "iopub.status.busy": "2021-11-06T09:59:18.686351Z",
          "iopub.execute_input": "2021-11-06T09:59:18.686632Z",
          "iopub.status.idle": "2021-11-06T09:59:33.078882Z",
          "shell.execute_reply.started": "2021-11-06T09:59:18.686596Z",
          "shell.execute_reply": "2021-11-06T09:59:33.078188Z"
        },
        "trusted": true,
        "colab": {
          "base_uri": "https://localhost:8080/",
          "height": 345,
          "referenced_widgets": [
            "a60c6040c1364cf29e186f362fa34982",
            "9198e41e2f2145f5a1ec36465a52dd82",
            "3de99d3e2ff14630a39ff11b61b2ac90",
            "e2085ee1d9e64e03ad1477ca290ad4d0",
            "a2f2953770604df79b2dff4387927688",
            "d7b78a0c4d1943d8b080f87ddae0004a",
            "3f3bfae8379847a1a09456b026410ea0",
            "7911ddc39c9746f4a3201f96a4dc40d0"
          ]
        },
        "outputId": "623c57ec-1d90-49c1-b36b-79ef8694b245"
      },
      "source": [
        "# Evaluate model\n",
        "mobilenet_loss_2, mobilenet_acc_2 = mobilenet_model_2.evaluate(test_data)\n",
        "\n",
        "run.finish()"
      ],
      "execution_count": 41,
      "outputs": [
        {
          "output_type": "stream",
          "name": "stdout",
          "text": [
            "87/87 [==============================] - 9s 105ms/step - loss: 0.1316 - accuracy: 0.9526\n"
          ]
        },
        {
          "output_type": "display_data",
          "data": {
            "text/html": [
              "<br/>Waiting for W&B process to finish, PID 981... <strong style=\"color:green\">(success).</strong>"
            ],
            "text/plain": [
              "<IPython.core.display.HTML object>"
            ]
          },
          "metadata": {}
        },
        {
          "output_type": "display_data",
          "data": {
            "application/vnd.jupyter.widget-view+json": {
              "model_id": "a60c6040c1364cf29e186f362fa34982",
              "version_minor": 0,
              "version_major": 2
            },
            "text/plain": [
              "VBox(children=(Label(value=' 6.05MB of 6.05MB uploaded (0.00MB deduped)\\r'), FloatProgress(value=1.0, max=1.0)…"
            ]
          },
          "metadata": {}
        },
        {
          "output_type": "display_data",
          "data": {
            "text/html": [
              "<style>\n",
              "    table.wandb td:nth-child(1) { padding: 0 10px; text-align: right }\n",
              "    .wandb-row { display: flex; flex-direction: row; flex-wrap: wrap; width: 100% }\n",
              "    .wandb-col { display: flex; flex-direction: column; flex-basis: 100%; flex: 1; padding: 10px; }\n",
              "    </style>\n",
              "<div class=\"wandb-row\"><div class=\"wandb-col\">\n",
              "<h3>Run history:</h3><br/><table class=\"wandb\"><tr><td>accuracy</td><td>▁▆▇██</td></tr><tr><td>epoch</td><td>▁▃▅▆█</td></tr><tr><td>loss</td><td>█▃▂▁▁</td></tr><tr><td>val_accuracy</td><td>▁▅█▂█</td></tr><tr><td>val_loss</td><td>█▅▃▅▁</td></tr></table><br/></div><div class=\"wandb-col\">\n",
              "<h3>Run summary:</h3><br/><table class=\"wandb\"><tr><td>accuracy</td><td>0.95455</td></tr><tr><td>best_epoch</td><td>4</td></tr><tr><td>best_val_loss</td><td>0.12165</td></tr><tr><td>epoch</td><td>4</td></tr><tr><td>loss</td><td>0.1289</td></tr><tr><td>val_accuracy</td><td>0.95673</td></tr><tr><td>val_loss</td><td>0.12165</td></tr></table>\n",
              "</div></div>\n",
              "Synced 5 W&B file(s), 1 media file(s), 0 artifact file(s) and 1 other file(s)\n",
              "<br/>Synced <strong style=\"color:#cdcd00\">rural-microwave-5</strong>: <a href=\"https://wandb.ai/awon08/MobileNetV3%20vs.%20ResNetV2%20vs.%20InceptionV3%20vs.%20Inception_ResNetV2/runs/28g590ps\" target=\"_blank\">https://wandb.ai/awon08/MobileNetV3%20vs.%20ResNetV2%20vs.%20InceptionV3%20vs.%20Inception_ResNetV2/runs/28g590ps</a><br/>\n",
              "Find logs at: <code>./wandb/run-20211108_112557-28g590ps/logs</code><br/>\n"
            ],
            "text/plain": [
              "<IPython.core.display.HTML object>"
            ]
          },
          "metadata": {}
        }
      ]
    },
    {
      "cell_type": "markdown",
      "metadata": {
        "id": "YZGPc8Tglu-a"
      },
      "source": [
        "#### Resnet50V2 (All data)"
      ]
    },
    {
      "cell_type": "code",
      "metadata": {
        "execution": {
          "iopub.status.busy": "2021-11-06T09:59:33.080097Z",
          "iopub.execute_input": "2021-11-06T09:59:33.080388Z",
          "iopub.status.idle": "2021-11-06T09:59:42.060920Z",
          "shell.execute_reply.started": "2021-11-06T09:59:33.080334Z",
          "shell.execute_reply": "2021-11-06T09:59:42.060165Z"
        },
        "trusted": true,
        "id": "b-xz_ZUJ1KCJ",
        "colab": {
          "base_uri": "https://localhost:8080/",
          "height": 238
        },
        "outputId": "b53670e0-ea24-474b-8150-57eabb8826d4"
      },
      "source": [
        "# Initialize wandb\n",
        "run = wandb.init(project='MobileNetV3 vs. ResNetV2 vs. InceptionV3 vs. Inception_ResNetV2',\n",
        "                 config={\n",
        "                     \"learning_rate\": 0.001,\n",
        "                     \"epochs\": 5,\n",
        "                     \"batch_size\": 32,\n",
        "                     \"loss_function\": \"binary_crossentropy\",\n",
        "                     \"architecture\": \"ResNetV2\",\n",
        "                     \"dataset\": \"Covid-19 CXR Full Data\"\n",
        "                 })\n",
        "\n",
        "# Configure\n",
        "config = wandb.config\n",
        "\n",
        "# Initialize resnet model\n",
        "tf.keras.backend.clear_session()\n",
        "resnet_model_2 = create_model(resnet_url)\n",
        "resnet_model_2.summary()\n",
        "\n",
        "# Compile the model\n",
        "optimizer = tf.keras.optimizers.Adam(config.learning_rate) \n",
        "resnet_model_2.compile(optimizer, config.loss_function, metrics=['accuracy'])"
      ],
      "execution_count": 42,
      "outputs": [
        {
          "output_type": "display_data",
          "data": {
            "text/html": [
              "\n",
              "                    Syncing run <strong><a href=\"https://wandb.ai/awon08/MobileNetV3%20vs.%20ResNetV2%20vs.%20InceptionV3%20vs.%20Inception_ResNetV2/runs/1qtvpg6b\" target=\"_blank\">lemon-frog-6</a></strong> to <a href=\"https://wandb.ai/awon08/MobileNetV3%20vs.%20ResNetV2%20vs.%20InceptionV3%20vs.%20Inception_ResNetV2\" target=\"_blank\">Weights & Biases</a> (<a href=\"https://docs.wandb.com/integrations/jupyter.html\" target=\"_blank\">docs</a>).<br/>\n",
              "\n",
              "                "
            ],
            "text/plain": [
              "<IPython.core.display.HTML object>"
            ]
          },
          "metadata": {}
        },
        {
          "output_type": "stream",
          "name": "stdout",
          "text": [
            "Model: \"sequential\"\n",
            "_________________________________________________________________\n",
            "Layer (type)                 Output Shape              Param #   \n",
            "=================================================================\n",
            "feature_extraction_layer (Ke (None, 2048)              23564800  \n",
            "_________________________________________________________________\n",
            "output_layer (Dense)         (None, 1)                 2049      \n",
            "=================================================================\n",
            "Total params: 23,566,849\n",
            "Trainable params: 2,049\n",
            "Non-trainable params: 23,564,800\n",
            "_________________________________________________________________\n"
          ]
        }
      ]
    },
    {
      "cell_type": "code",
      "metadata": {
        "id": "p8Yl-Ucvf2dg",
        "execution": {
          "iopub.status.busy": "2021-11-06T10:00:35.169857Z",
          "iopub.execute_input": "2021-11-06T10:00:35.170403Z",
          "iopub.status.idle": "2021-11-06T10:04:58.902277Z",
          "shell.execute_reply.started": "2021-11-06T10:00:35.170347Z",
          "shell.execute_reply": "2021-11-06T10:04:58.901503Z"
        },
        "trusted": true,
        "colab": {
          "base_uri": "https://localhost:8080/"
        },
        "outputId": "504a1deb-5ce3-4979-c9f1-09155ef0ee4e"
      },
      "source": [
        "# Fit the model\n",
        "resnet_history_2 = resnet_model_2.fit(train_data,\n",
        "                                    epochs=config.epochs,\n",
        "                                    batch_size=config.batch_size,\n",
        "                                    steps_per_epoch=len(train_data),\n",
        "                                    validation_data=test_data,\n",
        "                                    validation_steps=int(0.15*len(test_data)),\n",
        "                                    callbacks=[WandbCallback()])"
      ],
      "execution_count": 43,
      "outputs": [
        {
          "output_type": "stream",
          "name": "stdout",
          "text": [
            "Epoch 1/5\n",
            "346/346 [==============================] - 73s 200ms/step - loss: 0.2956 - accuracy: 0.8828 - val_loss: 0.2331 - val_accuracy: 0.9038\n",
            "Epoch 2/5\n",
            "346/346 [==============================] - 67s 195ms/step - loss: 0.1985 - accuracy: 0.9261 - val_loss: 0.1563 - val_accuracy: 0.9447\n",
            "Epoch 3/5\n",
            "346/346 [==============================] - 68s 195ms/step - loss: 0.1699 - accuracy: 0.9367 - val_loss: 0.2113 - val_accuracy: 0.8990\n",
            "Epoch 4/5\n",
            "346/346 [==============================] - 67s 195ms/step - loss: 0.1528 - accuracy: 0.9446 - val_loss: 0.1417 - val_accuracy: 0.9327\n",
            "Epoch 5/5\n",
            "346/346 [==============================] - 68s 195ms/step - loss: 0.1426 - accuracy: 0.9488 - val_loss: 0.1208 - val_accuracy: 0.9543\n"
          ]
        }
      ]
    },
    {
      "cell_type": "code",
      "metadata": {
        "id": "b_nzx9Rvf2Tp",
        "execution": {
          "iopub.status.busy": "2021-11-06T10:04:58.904208Z",
          "iopub.execute_input": "2021-11-06T10:04:58.904496Z",
          "iopub.status.idle": "2021-11-06T10:04:59.371956Z",
          "shell.execute_reply.started": "2021-11-06T10:04:58.904460Z",
          "shell.execute_reply": "2021-11-06T10:04:59.371193Z"
        },
        "trusted": true,
        "colab": {
          "base_uri": "https://localhost:8080/",
          "height": 573
        },
        "outputId": "8fa99fe1-c4f4-40cf-9280-83a130c04acf"
      },
      "source": [
        "# Plot the loss curves\n",
        "plot_loss_curves(resnet_history_2)"
      ],
      "execution_count": 44,
      "outputs": [
        {
          "output_type": "display_data",
          "data": {
            "image/png": "[encoded data removed]",
            "text/plain": [
              "<Figure size 432x288 with 1 Axes>"
            ]
          },
          "metadata": {
            "needs_background": "light"
          }
        },
        {
          "output_type": "display_data",
          "data": {
            "image/png": "[encoded data removed]",
            "text/plain": [
              "<Figure size 432x288 with 1 Axes>"
            ]
          },
          "metadata": {
            "needs_background": "light"
          }
        }
      ]
    },
    {
      "cell_type": "code",
      "metadata": {
        "id": "F8D7oelrim8B",
        "execution": {
          "iopub.status.busy": "2021-11-06T10:04:59.373289Z",
          "iopub.execute_input": "2021-11-06T10:04:59.373555Z",
          "iopub.status.idle": "2021-11-06T10:05:20.604020Z",
          "shell.execute_reply.started": "2021-11-06T10:04:59.373521Z",
          "shell.execute_reply": "2021-11-06T10:05:20.603315Z"
        },
        "trusted": true,
        "colab": {
          "base_uri": "https://localhost:8080/",
          "height": 345,
          "referenced_widgets": [
            "0dc4ab7f616c40ae9c821fba7a120b0e",
            "a5d82105771c413bbd95275720750b01",
            "1d60a019ec2048b39af4caf085769fc4",
            "9994b5cb542f48fe82e50e2a45b3d860",
            "45328492b44b434ca7c2176111a247e9",
            "d322bb1440594b978027553f6b8311a1",
            "458cae188c7c4db2936d6faedab1e704",
            "996d7f9e005d466cac0a6812d9e76e50"
          ]
        },
        "outputId": "0ee24a4d-b967-4652-da2b-0e71996a8db6"
      },
      "source": [
        "# Evaluate model\n",
        "resnet_loss_2, resnet_acc_2 = resnet_model_2.evaluate(test_data)\n",
        "\n",
        "run.finish()"
      ],
      "execution_count": 45,
      "outputs": [
        {
          "output_type": "stream",
          "name": "stdout",
          "text": [
            "87/87 [==============================] - 16s 186ms/step - loss: 0.1536 - accuracy: 0.9406\n"
          ]
        },
        {
          "output_type": "display_data",
          "data": {
            "text/html": [
              "<br/>Waiting for W&B process to finish, PID 1130... <strong style=\"color:green\">(success).</strong>"
            ],
            "text/plain": [
              "<IPython.core.display.HTML object>"
            ]
          },
          "metadata": {}
        },
        {
          "output_type": "display_data",
          "data": {
            "application/vnd.jupyter.widget-view+json": {
              "model_id": "0dc4ab7f616c40ae9c821fba7a120b0e",
              "version_minor": 0,
              "version_major": 2
            },
            "text/plain": [
              "VBox(children=(Label(value=' 32.81MB of 32.81MB uploaded (0.00MB deduped)\\r'), FloatProgress(value=1.0, max=1.…"
            ]
          },
          "metadata": {}
        },
        {
          "output_type": "display_data",
          "data": {
            "text/html": [
              "<style>\n",
              "    table.wandb td:nth-child(1) { padding: 0 10px; text-align: right }\n",
              "    .wandb-row { display: flex; flex-direction: row; flex-wrap: wrap; width: 100% }\n",
              "    .wandb-col { display: flex; flex-direction: column; flex-basis: 100%; flex: 1; padding: 10px; }\n",
              "    </style>\n",
              "<div class=\"wandb-row\"><div class=\"wandb-col\">\n",
              "<h3>Run history:</h3><br/><table class=\"wandb\"><tr><td>accuracy</td><td>▁▆▇██</td></tr><tr><td>epoch</td><td>▁▃▅▆█</td></tr><tr><td>loss</td><td>█▄▂▁▁</td></tr><tr><td>val_accuracy</td><td>▂▇▁▅█</td></tr><tr><td>val_loss</td><td>█▃▇▂▁</td></tr></table><br/></div><div class=\"wandb-col\">\n",
              "<h3>Run summary:</h3><br/><table class=\"wandb\"><tr><td>accuracy</td><td>0.94876</td></tr><tr><td>best_epoch</td><td>4</td></tr><tr><td>best_val_loss</td><td>0.12083</td></tr><tr><td>epoch</td><td>4</td></tr><tr><td>loss</td><td>0.14262</td></tr><tr><td>val_accuracy</td><td>0.95433</td></tr><tr><td>val_loss</td><td>0.12083</td></tr></table>\n",
              "</div></div>\n",
              "Synced 5 W&B file(s), 1 media file(s), 0 artifact file(s) and 1 other file(s)\n",
              "<br/>Synced <strong style=\"color:#cdcd00\">lemon-frog-6</strong>: <a href=\"https://wandb.ai/awon08/MobileNetV3%20vs.%20ResNetV2%20vs.%20InceptionV3%20vs.%20Inception_ResNetV2/runs/1qtvpg6b\" target=\"_blank\">https://wandb.ai/awon08/MobileNetV3%20vs.%20ResNetV2%20vs.%20InceptionV3%20vs.%20Inception_ResNetV2/runs/1qtvpg6b</a><br/>\n",
              "Find logs at: <code>./wandb/run-20211108_112943-1qtvpg6b/logs</code><br/>\n"
            ],
            "text/plain": [
              "<IPython.core.display.HTML object>"
            ]
          },
          "metadata": {}
        }
      ]
    },
    {
      "cell_type": "markdown",
      "metadata": {
        "id": "ke_DEr7ymUZl"
      },
      "source": [
        "#### InceptionV3 (All data)"
      ]
    },
    {
      "cell_type": "code",
      "metadata": {
        "execution": {
          "iopub.status.busy": "2021-11-06T10:05:20.606118Z",
          "iopub.execute_input": "2021-11-06T10:05:20.606561Z",
          "iopub.status.idle": "2021-11-06T10:05:29.701096Z",
          "shell.execute_reply.started": "2021-11-06T10:05:20.606520Z",
          "shell.execute_reply": "2021-11-06T10:05:29.700218Z"
        },
        "trusted": true,
        "id": "iaui9C8q1KCN",
        "colab": {
          "base_uri": "https://localhost:8080/",
          "height": 238
        },
        "outputId": "bdb76c28-13a4-40e9-919a-79b60ed9905a"
      },
      "source": [
        "# Initialize wandb\n",
        "run = wandb.init(project='MobileNetV3 vs. ResNetV2 vs. InceptionV3 vs. Inception_ResNetV2',\n",
        "                 config={\n",
        "                     \"learning_rate\": 0.001,\n",
        "                     \"epochs\": 5,\n",
        "                     \"batch_size\": 32,\n",
        "                     \"loss_function\": \"binary_crossentropy\",\n",
        "                     \"architecture\": \"InceptionV3\",\n",
        "                     \"dataset\": \"Covid-19 CXR Full Data\"\n",
        "                 })\n",
        "\n",
        "# Configure\n",
        "config = wandb.config\n",
        "\n",
        "# Initialize inception model\n",
        "tf.keras.backend.clear_session()\n",
        "inception_model_2 = create_model(inception_url)\n",
        "inception_model_2.summary()\n",
        "\n",
        "# Compile the model\n",
        "optimizer = tf.keras.optimizers.Adam(config.learning_rate) \n",
        "inception_model_2.compile(optimizer, config.loss_function, metrics=['accuracy'])"
      ],
      "execution_count": 46,
      "outputs": [
        {
          "output_type": "display_data",
          "data": {
            "text/html": [
              "\n",
              "                    Syncing run <strong><a href=\"https://wandb.ai/awon08/MobileNetV3%20vs.%20ResNetV2%20vs.%20InceptionV3%20vs.%20Inception_ResNetV2/runs/1pmdmfzl\" target=\"_blank\">deep-fog-7</a></strong> to <a href=\"https://wandb.ai/awon08/MobileNetV3%20vs.%20ResNetV2%20vs.%20InceptionV3%20vs.%20Inception_ResNetV2\" target=\"_blank\">Weights & Biases</a> (<a href=\"https://docs.wandb.com/integrations/jupyter.html\" target=\"_blank\">docs</a>).<br/>\n",
              "\n",
              "                "
            ],
            "text/plain": [
              "<IPython.core.display.HTML object>"
            ]
          },
          "metadata": {}
        },
        {
          "output_type": "stream",
          "name": "stdout",
          "text": [
            "Model: \"sequential\"\n",
            "_________________________________________________________________\n",
            "Layer (type)                 Output Shape              Param #   \n",
            "=================================================================\n",
            "feature_extraction_layer (Ke (None, 2048)              21802784  \n",
            "_________________________________________________________________\n",
            "output_layer (Dense)         (None, 1)                 2049      \n",
            "=================================================================\n",
            "Total params: 21,804,833\n",
            "Trainable params: 2,049\n",
            "Non-trainable params: 21,802,784\n",
            "_________________________________________________________________\n"
          ]
        }
      ]
    },
    {
      "cell_type": "code",
      "metadata": {
        "id": "buTVkBZbggFL",
        "execution": {
          "iopub.status.busy": "2021-11-06T10:05:29.702431Z",
          "iopub.execute_input": "2021-11-06T10:05:29.702795Z",
          "iopub.status.idle": "2021-11-06T10:10:42.931700Z",
          "shell.execute_reply.started": "2021-11-06T10:05:29.702747Z",
          "shell.execute_reply": "2021-11-06T10:10:42.930894Z"
        },
        "trusted": true,
        "colab": {
          "base_uri": "https://localhost:8080/"
        },
        "outputId": "0c19595e-9ae9-4129-9fa4-8f20a42fbc8a"
      },
      "source": [
        "# Fit the model\n",
        "inception_history_2 = inception_model_2.fit(train_data,\n",
        "                                            epochs=config.epochs,\n",
        "                                            batch_size=config.batch_size,\n",
        "                                            steps_per_epoch=len(train_data),\n",
        "                                            validation_data=test_data,\n",
        "                                            validation_steps=int(0.15*len(test_data)),\n",
        "                                            callbacks=[WandbCallback()])"
      ],
      "execution_count": 47,
      "outputs": [
        {
          "output_type": "stream",
          "name": "stdout",
          "text": [
            "Epoch 1/5\n",
            "346/346 [==============================] - 67s 175ms/step - loss: 0.3404 - accuracy: 0.8575 - val_loss: 0.2983 - val_accuracy: 0.8726\n",
            "Epoch 2/5\n",
            "346/346 [==============================] - 59s 170ms/step - loss: 0.2691 - accuracy: 0.8890 - val_loss: 0.2609 - val_accuracy: 0.8990\n",
            "Epoch 3/5\n",
            "346/346 [==============================] - 59s 169ms/step - loss: 0.2400 - accuracy: 0.9026 - val_loss: 0.2178 - val_accuracy: 0.9207\n",
            "Epoch 4/5\n",
            "346/346 [==============================] - 59s 169ms/step - loss: 0.2274 - accuracy: 0.9086 - val_loss: 0.2129 - val_accuracy: 0.9159\n",
            "Epoch 5/5\n",
            "346/346 [==============================] - 59s 170ms/step - loss: 0.2175 - accuracy: 0.9151 - val_loss: 0.2351 - val_accuracy: 0.9014\n"
          ]
        }
      ]
    },
    {
      "cell_type": "code",
      "metadata": {
        "id": "fPjnKCSMggCs",
        "execution": {
          "iopub.status.busy": "2021-11-06T10:10:42.933018Z",
          "iopub.execute_input": "2021-11-06T10:10:42.933412Z",
          "iopub.status.idle": "2021-11-06T10:10:43.407043Z",
          "shell.execute_reply.started": "2021-11-06T10:10:42.933341Z",
          "shell.execute_reply": "2021-11-06T10:10:43.406198Z"
        },
        "trusted": true,
        "colab": {
          "base_uri": "https://localhost:8080/",
          "height": 573
        },
        "outputId": "19fda4b1-576e-429f-9c8c-f55d2ad4d820"
      },
      "source": [
        "# Plot the loss curves\n",
        "plot_loss_curves(inception_history_2)"
      ],
      "execution_count": 48,
      "outputs": [
        {
          "output_type": "display_data",
          "data": {
            "image/png": "[encoded data removed]",
            "text/plain": [
              "<Figure size 432x288 with 1 Axes>"
            ]
          },
          "metadata": {
            "needs_background": "light"
          }
        },
        {
          "output_type": "display_data",
          "data": {
            "image/png": "[encoded data removed]",
            "text/plain": [
              "<Figure size 432x288 with 1 Axes>"
            ]
          },
          "metadata": {
            "needs_background": "light"
          }
        }
      ]
    },
    {
      "cell_type": "code",
      "metadata": {
        "id": "Fe8Kn6aKinvA",
        "execution": {
          "iopub.status.busy": "2021-11-06T10:10:43.408458Z",
          "iopub.execute_input": "2021-11-06T10:10:43.408702Z",
          "iopub.status.idle": "2021-11-06T10:11:11.090942Z",
          "shell.execute_reply.started": "2021-11-06T10:10:43.408667Z",
          "shell.execute_reply": "2021-11-06T10:11:11.090199Z"
        },
        "trusted": true,
        "colab": {
          "base_uri": "https://localhost:8080/",
          "height": 345,
          "referenced_widgets": [
            "b8f33345ddf248049d563faef6f99c9c",
            "56f06b3d94f9449185cbdc1bdbca583f",
            "19bdcd9413604b65a2a220acd751d9b9",
            "b450c02a1b7a4da8a390b42896a5da82",
            "a803e1e36fb74e1091c6d6e0dab361fc",
            "8490b4a8dc35465fa0cd9cd74be16cd4",
            "c3c43276599e4051a38c472346230ea3",
            "868a1ebcb69049069824345efd2d8518"
          ]
        },
        "outputId": "a1d323e8-0001-4e5e-8640-df573f20f138"
      },
      "source": [
        "# Evaluate model\n",
        "inception_loss_2, inception_acc_2 = inception_model_2.evaluate(test_data)\n",
        "\n",
        "run.finish()"
      ],
      "execution_count": 49,
      "outputs": [
        {
          "output_type": "stream",
          "name": "stdout",
          "text": [
            "87/87 [==============================] - 14s 162ms/step - loss: 0.2156 - accuracy: 0.9200\n"
          ]
        },
        {
          "output_type": "display_data",
          "data": {
            "text/html": [
              "<br/>Waiting for W&B process to finish, PID 1312... <strong style=\"color:green\">(success).</strong>"
            ],
            "text/plain": [
              "<IPython.core.display.HTML object>"
            ]
          },
          "metadata": {}
        },
        {
          "output_type": "display_data",
          "data": {
            "application/vnd.jupyter.widget-view+json": {
              "model_id": "b8f33345ddf248049d563faef6f99c9c",
              "version_minor": 0,
              "version_major": 2
            },
            "text/plain": [
              "VBox(children=(Label(value=' 83.59MB of 83.59MB uploaded (0.00MB deduped)\\r'), FloatProgress(value=1.0, max=1.…"
            ]
          },
          "metadata": {}
        },
        {
          "output_type": "display_data",
          "data": {
            "text/html": [
              "<style>\n",
              "    table.wandb td:nth-child(1) { padding: 0 10px; text-align: right }\n",
              "    .wandb-row { display: flex; flex-direction: row; flex-wrap: wrap; width: 100% }\n",
              "    .wandb-col { display: flex; flex-direction: column; flex-basis: 100%; flex: 1; padding: 10px; }\n",
              "    </style>\n",
              "<div class=\"wandb-row\"><div class=\"wandb-col\">\n",
              "<h3>Run history:</h3><br/><table class=\"wandb\"><tr><td>accuracy</td><td>▁▅▆▇█</td></tr><tr><td>epoch</td><td>▁▃▅▆█</td></tr><tr><td>loss</td><td>█▄▂▂▁</td></tr><tr><td>val_accuracy</td><td>▁▅█▇▅</td></tr><tr><td>val_loss</td><td>█▅▁▁▃</td></tr></table><br/></div><div class=\"wandb-col\">\n",
              "<h3>Run summary:</h3><br/><table class=\"wandb\"><tr><td>accuracy</td><td>0.91507</td></tr><tr><td>best_epoch</td><td>3</td></tr><tr><td>best_val_loss</td><td>0.21287</td></tr><tr><td>epoch</td><td>4</td></tr><tr><td>loss</td><td>0.21747</td></tr><tr><td>val_accuracy</td><td>0.90144</td></tr><tr><td>val_loss</td><td>0.23506</td></tr></table>\n",
              "</div></div>\n",
              "Synced 5 W&B file(s), 1 media file(s), 0 artifact file(s) and 1 other file(s)\n",
              "<br/>Synced <strong style=\"color:#cdcd00\">deep-fog-7</strong>: <a href=\"https://wandb.ai/awon08/MobileNetV3%20vs.%20ResNetV2%20vs.%20InceptionV3%20vs.%20Inception_ResNetV2/runs/1pmdmfzl\" target=\"_blank\">https://wandb.ai/awon08/MobileNetV3%20vs.%20ResNetV2%20vs.%20InceptionV3%20vs.%20Inception_ResNetV2/runs/1pmdmfzl</a><br/>\n",
              "Find logs at: <code>./wandb/run-20211108_113600-1pmdmfzl/logs</code><br/>\n"
            ],
            "text/plain": [
              "<IPython.core.display.HTML object>"
            ]
          },
          "metadata": {}
        }
      ]
    },
    {
      "cell_type": "markdown",
      "metadata": {
        "id": "AJKXmuZemkRO"
      },
      "source": [
        "#### Inception_ResNetV2 (All data)"
      ]
    },
    {
      "cell_type": "code",
      "metadata": {
        "execution": {
          "iopub.status.busy": "2021-11-06T10:11:11.092769Z",
          "iopub.execute_input": "2021-11-06T10:11:11.093337Z",
          "iopub.status.idle": "2021-11-06T10:11:24.543248Z",
          "shell.execute_reply.started": "2021-11-06T10:11:11.093290Z",
          "shell.execute_reply": "2021-11-06T10:11:24.542433Z"
        },
        "trusted": true,
        "id": "kWUGUR8z1KCO",
        "colab": {
          "base_uri": "https://localhost:8080/",
          "height": 238
        },
        "outputId": "6d63494d-77dd-4edd-e846-edb8fb7fa32c"
      },
      "source": [
        "# Initialize wandb\n",
        "run = wandb.init(project='MobileNetV3 vs. ResNetV2 vs. InceptionV3 vs. Inception_ResNetV2',\n",
        "                 config={\n",
        "                     \"learning_rate\": 0.001,\n",
        "                     \"epochs\": 5,\n",
        "                     \"batch_size\": 32,\n",
        "                     \"loss_function\": \"binary_crossentropy\",\n",
        "                     \"architecture\": \"Inception_ResNetV2\",\n",
        "                     \"dataset\": \"Covid-19 CXR Full Data\"\n",
        "                 })\n",
        "\n",
        "# Configure\n",
        "config = wandb.config\n",
        "\n",
        "# Initialize inception_resnet model\n",
        "tf.keras.backend.clear_session()\n",
        "inception_resnet_model_2 = create_model(inception_resnet_url)\n",
        "inception_resnet_model_2.summary()\n",
        "\n",
        "# Compile the model\n",
        "optimizer = tf.keras.optimizers.Adam(config.learning_rate) \n",
        "inception_resnet_model_2.compile(optimizer, config.loss_function, metrics=['accuracy'])"
      ],
      "execution_count": 50,
      "outputs": [
        {
          "output_type": "display_data",
          "data": {
            "text/html": [
              "\n",
              "                    Syncing run <strong><a href=\"https://wandb.ai/awon08/MobileNetV3%20vs.%20ResNetV2%20vs.%20InceptionV3%20vs.%20Inception_ResNetV2/runs/1nao33m7\" target=\"_blank\">fancy-cherry-8</a></strong> to <a href=\"https://wandb.ai/awon08/MobileNetV3%20vs.%20ResNetV2%20vs.%20InceptionV3%20vs.%20Inception_ResNetV2\" target=\"_blank\">Weights & Biases</a> (<a href=\"https://docs.wandb.com/integrations/jupyter.html\" target=\"_blank\">docs</a>).<br/>\n",
              "\n",
              "                "
            ],
            "text/plain": [
              "<IPython.core.display.HTML object>"
            ]
          },
          "metadata": {}
        },
        {
          "output_type": "stream",
          "name": "stdout",
          "text": [
            "Model: \"sequential\"\n",
            "_________________________________________________________________\n",
            "Layer (type)                 Output Shape              Param #   \n",
            "=================================================================\n",
            "feature_extraction_layer (Ke (None, 1536)              54336736  \n",
            "_________________________________________________________________\n",
            "output_layer (Dense)         (None, 1)                 1537      \n",
            "=================================================================\n",
            "Total params: 54,338,273\n",
            "Trainable params: 1,537\n",
            "Non-trainable params: 54,336,736\n",
            "_________________________________________________________________\n"
          ]
        }
      ]
    },
    {
      "cell_type": "code",
      "metadata": {
        "id": "SPBIWImqgf8Q",
        "execution": {
          "iopub.status.busy": "2021-11-06T10:11:24.544678Z",
          "iopub.execute_input": "2021-11-06T10:11:24.547173Z",
          "iopub.status.idle": "2021-11-06T10:16:28.667176Z",
          "shell.execute_reply.started": "2021-11-06T10:11:24.547132Z",
          "shell.execute_reply": "2021-11-06T10:16:28.666430Z"
        },
        "trusted": true,
        "colab": {
          "base_uri": "https://localhost:8080/"
        },
        "outputId": "69dae093-d7a2-4061-a91d-b02aaeaa0c3a"
      },
      "source": [
        "# Fit the model\n",
        "inception_resnet_history_2 = inception_resnet_model_2.fit(train_data,\n",
        "                                                          epochs=config.epochs,\n",
        "                                                          batch_size=config.batch_size,\n",
        "                                                          steps_per_epoch=len(train_data),\n",
        "                                                          validation_data=test_data,\n",
        "                                                          validation_steps=int(0.15*len(test_data)),\n",
        "                                                          callbacks=[WandbCallback()])"
      ],
      "execution_count": 51,
      "outputs": [
        {
          "output_type": "stream",
          "name": "stdout",
          "text": [
            "Epoch 1/5\n",
            "346/346 [==============================] - 159s 416ms/step - loss: 0.3486 - accuracy: 0.8607 - val_loss: 0.2866 - val_accuracy: 0.8918\n",
            "Epoch 2/5\n",
            "346/346 [==============================] - 142s 408ms/step - loss: 0.2754 - accuracy: 0.8933 - val_loss: 0.2507 - val_accuracy: 0.8990\n",
            "Epoch 3/5\n",
            "346/346 [==============================] - 141s 408ms/step - loss: 0.2485 - accuracy: 0.9046 - val_loss: 0.2172 - val_accuracy: 0.9255\n",
            "Epoch 4/5\n",
            "346/346 [==============================] - 141s 408ms/step - loss: 0.2321 - accuracy: 0.9116 - val_loss: 0.2326 - val_accuracy: 0.9087\n",
            "Epoch 5/5\n",
            "346/346 [==============================] - 141s 408ms/step - loss: 0.2266 - accuracy: 0.9135 - val_loss: 0.1662 - val_accuracy: 0.9471\n"
          ]
        }
      ]
    },
    {
      "cell_type": "code",
      "metadata": {
        "id": "aoFZT-aGgf5l",
        "execution": {
          "iopub.status.busy": "2021-11-06T10:16:28.669705Z",
          "iopub.execute_input": "2021-11-06T10:16:28.669975Z",
          "iopub.status.idle": "2021-11-06T10:16:29.132337Z",
          "shell.execute_reply.started": "2021-11-06T10:16:28.669939Z",
          "shell.execute_reply": "2021-11-06T10:16:29.131618Z"
        },
        "trusted": true,
        "colab": {
          "base_uri": "https://localhost:8080/",
          "height": 573
        },
        "outputId": "d7aedab5-be51-475d-e62d-a203268f877d"
      },
      "source": [
        "# Plot the loss curves\n",
        "plot_loss_curves(inception_resnet_history_2)"
      ],
      "execution_count": 52,
      "outputs": [
        {
          "output_type": "display_data",
          "data": {
            "image/png": "[encoded data removed]",
            "text/plain": [
              "<Figure size 432x288 with 1 Axes>"
            ]
          },
          "metadata": {
            "needs_background": "light"
          }
        },
        {
          "output_type": "display_data",
          "data": {
            "image/png": "[encoded data removed]",
            "text/plain": [
              "<Figure size 432x288 with 1 Axes>"
            ]
          },
          "metadata": {
            "needs_background": "light"
          }
        }
      ]
    },
    {
      "cell_type": "code",
      "metadata": {
        "id": "sMMYyG3tgfqA",
        "execution": {
          "iopub.status.busy": "2021-11-06T10:16:29.133653Z",
          "iopub.execute_input": "2021-11-06T10:16:29.133945Z",
          "iopub.status.idle": "2021-11-06T10:16:52.839987Z",
          "shell.execute_reply.started": "2021-11-06T10:16:29.133907Z",
          "shell.execute_reply": "2021-11-06T10:16:52.839218Z"
        },
        "trusted": true,
        "colab": {
          "base_uri": "https://localhost:8080/",
          "height": 345,
          "referenced_widgets": [
            "09d6d7e88c8c4101b143f40411a2128e",
            "d903029f35664d28ae0045b4616f87d0",
            "48d021dc9c7749ac8d840e8da5eb2aff",
            "5dcfecf272e64845b6590da81f3129b7",
            "08f087d97db847bea6e38abe4137b19b",
            "1b8ed2e70eeb4adcabe0cc545bc0b3e5",
            "c018e5bda505452dab0b894a69d854d4",
            "aa937e43358e48729b5de76bc1deafc4"
          ]
        },
        "outputId": "034c04d0-c5b3-47b2-f66b-67289595480c"
      },
      "source": [
        "# Evaluate model\n",
        "inception_resnet_loss_2, inception_resnet_acc_2 = inception_resnet_model_2.evaluate(test_data)\n",
        "\n",
        "run.finish()"
      ],
      "execution_count": 53,
      "outputs": [
        {
          "output_type": "stream",
          "name": "stdout",
          "text": [
            "87/87 [==============================] - 34s 391ms/step - loss: 0.2144 - accuracy: 0.9178\n"
          ]
        },
        {
          "output_type": "display_data",
          "data": {
            "text/html": [
              "<br/>Waiting for W&B process to finish, PID 1495... <strong style=\"color:green\">(success).</strong>"
            ],
            "text/plain": [
              "<IPython.core.display.HTML object>"
            ]
          },
          "metadata": {}
        },
        {
          "output_type": "display_data",
          "data": {
            "application/vnd.jupyter.widget-view+json": {
              "model_id": "09d6d7e88c8c4101b143f40411a2128e",
              "version_minor": 0,
              "version_major": 2
            },
            "text/plain": [
              "VBox(children=(Label(value=' 154.65MB of 154.65MB uploaded (0.00MB deduped)\\r'), FloatProgress(value=1.0, max=…"
            ]
          },
          "metadata": {}
        },
        {
          "output_type": "display_data",
          "data": {
            "text/html": [
              "<style>\n",
              "    table.wandb td:nth-child(1) { padding: 0 10px; text-align: right }\n",
              "    .wandb-row { display: flex; flex-direction: row; flex-wrap: wrap; width: 100% }\n",
              "    .wandb-col { display: flex; flex-direction: column; flex-basis: 100%; flex: 1; padding: 10px; }\n",
              "    </style>\n",
              "<div class=\"wandb-row\"><div class=\"wandb-col\">\n",
              "<h3>Run history:</h3><br/><table class=\"wandb\"><tr><td>accuracy</td><td>▁▅▇██</td></tr><tr><td>epoch</td><td>▁▃▅▆█</td></tr><tr><td>loss</td><td>█▄▂▁▁</td></tr><tr><td>val_accuracy</td><td>▁▂▅▃█</td></tr><tr><td>val_loss</td><td>█▆▄▅▁</td></tr></table><br/></div><div class=\"wandb-col\">\n",
              "<h3>Run summary:</h3><br/><table class=\"wandb\"><tr><td>accuracy</td><td>0.91354</td></tr><tr><td>best_epoch</td><td>4</td></tr><tr><td>best_val_loss</td><td>0.16619</td></tr><tr><td>epoch</td><td>4</td></tr><tr><td>loss</td><td>0.22656</td></tr><tr><td>val_accuracy</td><td>0.94712</td></tr><tr><td>val_loss</td><td>0.16619</td></tr></table>\n",
              "</div></div>\n",
              "Synced 5 W&B file(s), 1 media file(s), 0 artifact file(s) and 1 other file(s)\n",
              "<br/>Synced <strong style=\"color:#cdcd00\">fancy-cherry-8</strong>: <a href=\"https://wandb.ai/awon08/MobileNetV3%20vs.%20ResNetV2%20vs.%20InceptionV3%20vs.%20Inception_ResNetV2/runs/1nao33m7\" target=\"_blank\">https://wandb.ai/awon08/MobileNetV3%20vs.%20ResNetV2%20vs.%20InceptionV3%20vs.%20Inception_ResNetV2/runs/1nao33m7</a><br/>\n",
              "Find logs at: <code>./wandb/run-20211108_114202-1nao33m7/logs</code><br/>\n"
            ],
            "text/plain": [
              "<IPython.core.display.HTML object>"
            ]
          },
          "metadata": {}
        }
      ]
    },
    {
      "cell_type": "markdown",
      "metadata": {
        "id": "2n6vqY1DnayD"
      },
      "source": [
        "## Comparing results\n",
        "Now we've got the results of all our models from two variation of experiments, let's compare them."
      ]
    },
    {
      "cell_type": "code",
      "metadata": {
        "id": "SIG_EnWYoAlc",
        "execution": {
          "iopub.status.busy": "2021-11-06T10:16:52.841153Z",
          "iopub.execute_input": "2021-11-06T10:16:52.841414Z",
          "iopub.status.idle": "2021-11-06T10:16:52.875351Z",
          "shell.execute_reply.started": "2021-11-06T10:16:52.841378Z",
          "shell.execute_reply": "2021-11-06T10:16:52.874594Z"
        },
        "trusted": true,
        "colab": {
          "base_uri": "https://localhost:8080/",
          "height": 297
        },
        "outputId": "a6e4ea30-de35-4d66-88b5-86d01b36bbb8"
      },
      "source": [
        "# Create a list of lists of model results\n",
        "model_results = [['mobilenet_50_percent', mobilenet_loss, mobilenet_acc],\n",
        "                 ['mobilenet_all_data', mobilenet_loss_2, mobilenet_acc_2],\n",
        "                 ['resnet_50_percent', resnet_loss, resnet_acc],\n",
        "                 ['resnet_all_data', resnet_loss_2, resnet_acc_2],\n",
        "                 ['inception_50_percent', inception_loss, inception_acc],\n",
        "                 ['inception_all_data', inception_loss_2, inception_acc_2],\n",
        "                 ['inception_resent_50_percent', inception_resnet_loss, inception_resnet_acc],\n",
        "                 ['inception_resnet_all_data', inception_resnet_loss_2, inception_resnet_acc_2]]\n",
        "\n",
        "all_results = pd.DataFrame(model_results, columns=['model', 'loss', 'accuracy'])\n",
        "all_results"
      ],
      "execution_count": 54,
      "outputs": [
        {
          "output_type": "execute_result",
          "data": {
            "text/html": [
              "<div>\n",
              "<style scoped>\n",
              "    .dataframe tbody tr th:only-of-type {\n",
              "        vertical-align: middle;\n",
              "    }\n",
              "\n",
              "    .dataframe tbody tr th {\n",
              "        vertical-align: top;\n",
              "    }\n",
              "\n",
              "    .dataframe thead th {\n",
              "        text-align: right;\n",
              "    }\n",
              "</style>\n",
              "<table border=\"1\" class=\"dataframe\">\n",
              "  <thead>\n",
              "    <tr style=\"text-align: right;\">\n",
              "      <th></th>\n",
              "      <th>model</th>\n",
              "      <th>loss</th>\n",
              "      <th>accuracy</th>\n",
              "    </tr>\n",
              "  </thead>\n",
              "  <tbody>\n",
              "    <tr>\n",
              "      <th>0</th>\n",
              "      <td>mobilenet_50_percent</td>\n",
              "      <td>0.166158</td>\n",
              "      <td>0.944263</td>\n",
              "    </tr>\n",
              "    <tr>\n",
              "      <th>1</th>\n",
              "      <td>mobilenet_all_data</td>\n",
              "      <td>0.131570</td>\n",
              "      <td>0.952588</td>\n",
              "    </tr>\n",
              "    <tr>\n",
              "      <th>2</th>\n",
              "      <td>resnet_50_percent</td>\n",
              "      <td>0.179324</td>\n",
              "      <td>0.926529</td>\n",
              "    </tr>\n",
              "    <tr>\n",
              "      <th>3</th>\n",
              "      <td>resnet_all_data</td>\n",
              "      <td>0.153575</td>\n",
              "      <td>0.940644</td>\n",
              "    </tr>\n",
              "    <tr>\n",
              "      <th>4</th>\n",
              "      <td>inception_50_percent</td>\n",
              "      <td>0.248659</td>\n",
              "      <td>0.902642</td>\n",
              "    </tr>\n",
              "    <tr>\n",
              "      <th>5</th>\n",
              "      <td>inception_all_data</td>\n",
              "      <td>0.215642</td>\n",
              "      <td>0.920015</td>\n",
              "    </tr>\n",
              "    <tr>\n",
              "      <th>6</th>\n",
              "      <td>inception_resent_50_percent</td>\n",
              "      <td>0.252165</td>\n",
              "      <td>0.906261</td>\n",
              "    </tr>\n",
              "    <tr>\n",
              "      <th>7</th>\n",
              "      <td>inception_resnet_all_data</td>\n",
              "      <td>0.214406</td>\n",
              "      <td>0.917843</td>\n",
              "    </tr>\n",
              "  </tbody>\n",
              "</table>\n",
              "</div>"
            ],
            "text/plain": [
              "                         model      loss  accuracy\n",
              "0         mobilenet_50_percent  0.166158  0.944263\n",
              "1           mobilenet_all_data  0.131570  0.952588\n",
              "2            resnet_50_percent  0.179324  0.926529\n",
              "3              resnet_all_data  0.153575  0.940644\n",
              "4         inception_50_percent  0.248659  0.902642\n",
              "5           inception_all_data  0.215642  0.920015\n",
              "6  inception_resent_50_percent  0.252165  0.906261\n",
              "7    inception_resnet_all_data  0.214406  0.917843"
            ]
          },
          "metadata": {},
          "execution_count": 54
        }
      ]
    },
    {
      "cell_type": "markdown",
      "metadata": {
        "id": "mLT0eBRVoyrW"
      },
      "source": [
        "From our experiments, it looks like `MobileNetV3` performed the best. Although `ResNet50V2` has almost identical results as `MobileNetV3` but I'm considering MobileNetV3 to go ahead for fine-tuning, because it brings efficient results with smaller architecture as compared to ResNet50V2.\n",
        "\n",
        "Notice models overfitting was not under consideration for these experiments. The purpose of these experiments solely to pick what model is most suitable for our data.\n",
        "\n",
        "Overfitting will be handled in the next phase which is fine-tuning with transfer learning, that will be challenging epecially when we have highly imblance data (more normal images than covid).\n",
        "\n",
        "Let's see how it goes..."
      ]
    }
  ]
}