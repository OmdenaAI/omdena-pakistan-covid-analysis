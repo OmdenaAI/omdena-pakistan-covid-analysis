{
 "cells": [
  {
   "cell_type": "markdown",
   "id": "separate-elevation",
   "metadata": {},
   "source": [
    "# COVID19 Xray Images Prediction Using CNN Model"
   ]
  },
  {
   "cell_type": "markdown",
   "id": "level-concord",
   "metadata": {},
   "source": [
    "### Libraries"
   ]
  },
  {
   "cell_type": "code",
   "execution_count": 1,
   "id": "cutting-peoples",
   "metadata": {
    "id": "cutting-peoples"
   },
   "outputs": [],
   "source": [
    "import numpy as np\n",
    "import pandas as pd \n",
    "import matplotlib.pyplot as plt\n",
    "from glob import glob\n",
    "import tensorflow as tf\n",
    "from tensorflow.keras.preprocessing.image import ImageDataGenerator"
   ]
  },
  {
   "cell_type": "markdown",
   "id": "pointed-taiwan",
   "metadata": {},
   "source": [
    "### Dataset"
   ]
  },
  {
   "cell_type": "code",
   "execution_count": 6,
   "id": "fancy-expense",
   "metadata": {
    "colab": {
     "base_uri": "https://localhost:8080/"
    },
    "id": "fancy-expense",
    "outputId": "7080f404-3107-475e-c401-e6f2ec740519"
   },
   "outputs": [
    {
     "name": "stdout",
     "output_type": "stream",
     "text": [
      "Found 13814 images belonging to 2 classes.\n"
     ]
    }
   ],
   "source": [
    "# Load images\n",
    "train_datagen = ImageDataGenerator(rescale=1/255)\n",
    "train_gen = train_datagen.flow_from_directory(directory='Data/covid-radiology-dataset/', target_size=(299, 299), class_mode='binary', shuffle=True, batch_size=32, color_mode=\"grayscale\")"
   ]
  },
  {
   "cell_type": "markdown",
   "id": "confident-commerce",
   "metadata": {},
   "source": [
    "### Model"
   ]
  },
  {
   "cell_type": "code",
   "execution_count": 7,
   "id": "egyptian-lucas",
   "metadata": {
    "colab": {
     "base_uri": "https://localhost:8080/"
    },
    "id": "egyptian-lucas",
    "outputId": "490c6abe-0a65-4232-8fed-8cb2805f623a"
   },
   "outputs": [
    {
     "name": "stdout",
     "output_type": "stream",
     "text": [
      "Model: \"sequential\"\n",
      "_________________________________________________________________\n",
      "Layer (type)                 Output Shape              Param #   \n",
      "=================================================================\n",
      "conv2d (Conv2D)              (None, 297, 297, 32)      320       \n",
      "_________________________________________________________________\n",
      "max_pooling2d (MaxPooling2D) (None, 148, 148, 32)      0         \n",
      "_________________________________________________________________\n",
      "conv2d_1 (Conv2D)            (None, 146, 146, 64)      18496     \n",
      "_________________________________________________________________\n",
      "max_pooling2d_1 (MaxPooling2 (None, 73, 73, 64)        0         \n",
      "_________________________________________________________________\n",
      "conv2d_2 (Conv2D)            (None, 71, 71, 64)        36928     \n",
      "_________________________________________________________________\n",
      "max_pooling2d_2 (MaxPooling2 (None, 35, 35, 64)        0         \n",
      "_________________________________________________________________\n",
      "flatten (Flatten)            (None, 78400)             0         \n",
      "_________________________________________________________________\n",
      "dense (Dense)                (None, 512)               40141312  \n",
      "_________________________________________________________________\n",
      "dense_1 (Dense)              (None, 1)                 513       \n",
      "=================================================================\n",
      "Total params: 40,197,569\n",
      "Trainable params: 40,197,569\n",
      "Non-trainable params: 0\n",
      "_________________________________________________________________\n",
      "Epoch 1/12\n",
      "8/8 [==============================] - 51s 6s/step - loss: 1.0180 - accuracy: 0.7188\n",
      "Epoch 2/12\n",
      "8/8 [==============================] - 50s 6s/step - loss: 0.5853 - accuracy: 0.7422\n",
      "Epoch 3/12\n",
      "8/8 [==============================] - 49s 5s/step - loss: 0.4826 - accuracy: 0.7695\n",
      "Epoch 4/12\n",
      "8/8 [==============================] - 50s 6s/step - loss: 0.4514 - accuracy: 0.7773\n",
      "Epoch 5/12\n",
      "8/8 [==============================] - 54s 6s/step - loss: 0.4301 - accuracy: 0.7969\n",
      "Epoch 6/12\n",
      "8/8 [==============================] - 44s 5s/step - loss: 0.4397 - accuracy: 0.7969\n",
      "Epoch 7/12\n",
      "8/8 [==============================] - 45s 5s/step - loss: 0.4234 - accuracy: 0.8047\n",
      "Epoch 8/12\n",
      "8/8 [==============================] - 44s 5s/step - loss: 0.3451 - accuracy: 0.8125\n",
      "Epoch 9/12\n",
      "8/8 [==============================] - 45s 5s/step - loss: 0.3656 - accuracy: 0.8359\n",
      "Epoch 10/12\n",
      "8/8 [==============================] - 45s 5s/step - loss: 0.3216 - accuracy: 0.8555\n",
      "Epoch 11/12\n",
      "8/8 [==============================] - 44s 5s/step - loss: 0.3890 - accuracy: 0.7969\n",
      "Epoch 12/12\n",
      "8/8 [==============================] - 44s 5s/step - loss: 0.3165 - accuracy: 0.8594\n"
     ]
    }
   ],
   "source": [
    "# create model\n",
    "model = tf.keras.Sequential([\n",
    "        tf.keras.layers.Conv2D(32, (3, 3), activation='relu', input_shape=(299, 299, 1)),\n",
    "        tf.keras.layers.MaxPooling2D(2, 2),\n",
    "        tf.keras.layers.Conv2D(64, (3, 3), activation='relu'),\n",
    "        tf.keras.layers.MaxPooling2D(2, 2),\n",
    "        tf.keras.layers.Conv2D(64, (3, 3), activation='relu'),\n",
    "        tf.keras.layers.MaxPooling2D(2, 2),\n",
    "        tf.keras.layers.Flatten(),\n",
    "        tf.keras.layers.Dense(units=512, activation='relu'),\n",
    "        tf.keras.layers.Dense(units=1, activation='sigmoid')])\n",
    "\n",
    "model.compile(optimizer='adam', loss='binary_crossentropy', metrics=['accuracy'])\n",
    "\n",
    "model.summary()\n",
    "\n",
    "model.fit(train_gen, steps_per_epoch=8, epochs=12)"
   ]
  },
  {
   "cell_type": "code",
   "execution_count": null,
   "id": "CKiMafi5lBsB",
   "metadata": {
    "id": "CKiMafi5lBsB"
   },
   "outputs": [],
   "source": []
  }
 ],
 "metadata": {
  "accelerator": "TPU",
  "colab": {
   "collapsed_sections": [],
   "name": "01 - CNN Model.ipynb",
   "provenance": []
  },
  "kernelspec": {
   "display_name": "Python 3",
   "language": "python",
   "name": "python3"
  },
  "language_info": {
   "codemirror_mode": {
    "name": "ipython",
    "version": 3
   },
   "file_extension": ".py",
   "mimetype": "text/x-python",
   "name": "python",
   "nbconvert_exporter": "python",
   "pygments_lexer": "ipython3",
   "version": "3.7.10"
  }
 },
 "nbformat": 4,
 "nbformat_minor": 5
}
